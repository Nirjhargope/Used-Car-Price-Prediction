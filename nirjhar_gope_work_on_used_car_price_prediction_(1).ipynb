{
  "metadata": {
    "kernelspec": {
      "language": "python",
      "display_name": "Python 3",
      "name": "python3"
    },
    "language_info": {
      "name": "python",
      "version": "3.7.6",
      "mimetype": "text/x-python",
      "codemirror_mode": {
        "name": "ipython",
        "version": 3
      },
      "pygments_lexer": "ipython3",
      "nbconvert_exporter": "python",
      "file_extension": ".py"
    },
    "kaggle": {
      "accelerator": "gpu",
      "dataSources": [
        {
          "sourceId": 518431,
          "sourceType": "datasetVersion",
          "datasetId": 245550
        }
      ],
      "dockerImageVersionId": 29974,
      "isInternetEnabled": true,
      "language": "python",
      "sourceType": "notebook",
      "isGpuEnabled": true
    },
    "colab": {
      "provenance": [],
      "include_colab_link": true
    }
  },
  "nbformat_minor": 0,
  "nbformat": 4,
  "cells": [
    {
      "cell_type": "markdown",
      "metadata": {
        "id": "view-in-github",
        "colab_type": "text"
      },
      "source": [
        "<a href=\"https://colab.research.google.com/github/Nirjhargope/Used-Car-Price-Prediction/blob/main/nirjhar_gope_work_on_used_car_price_prediction_(1).ipynb\" target=\"_parent\"><img src=\"https://colab.research.google.com/assets/colab-badge.svg\" alt=\"Open In Colab\"/></a>"
      ]
    },
    {
      "cell_type": "code",
      "source": [
        "import numpy as np\n",
        "import pandas as pd\n",
        "import matplotlib.pyplot as plt\n",
        "import seaborn as sns\n",
        "sns.set()"
      ],
      "metadata": {
        "id": "fch6-ML2AqXB",
        "execution": {
          "iopub.status.busy": "2024-07-08T14:24:22.385501Z",
          "iopub.execute_input": "2024-07-08T14:24:22.386040Z",
          "iopub.status.idle": "2024-07-08T14:24:22.392332Z",
          "shell.execute_reply.started": "2024-07-08T14:24:22.385996Z",
          "shell.execute_reply": "2024-07-08T14:24:22.391393Z"
        },
        "trusted": true
      },
      "execution_count": null,
      "outputs": []
    },
    {
      "cell_type": "code",
      "source": [
        "train_data = pd.read_csv('../input/used-cars-price-prediction/train-data.csv')\n",
        "test_data = pd.read_csv('../input/used-cars-price-prediction/test-data.csv')"
      ],
      "metadata": {
        "_uuid": "8f2839f25d086af736a60e9eeb907d3b93b6e0e5",
        "_cell_guid": "b1076dfc-b9ad-4769-8c92-a6c4dae69d19",
        "id": "nIA2ErMkAqXC",
        "execution": {
          "iopub.status.busy": "2024-07-08T14:24:22.394056Z",
          "iopub.execute_input": "2024-07-08T14:24:22.394373Z",
          "iopub.status.idle": "2024-07-08T14:24:22.434531Z",
          "shell.execute_reply.started": "2024-07-08T14:24:22.394342Z",
          "shell.execute_reply": "2024-07-08T14:24:22.433856Z"
        },
        "trusted": true
      },
      "execution_count": null,
      "outputs": []
    },
    {
      "cell_type": "code",
      "source": [
        "train_data.info()"
      ],
      "metadata": {
        "_uuid": "d629ff2d2480ee46fbb7e2d37f6b5fab8052498a",
        "_cell_guid": "79c7e3d0-c299-4dcb-8224-4455121ee9b0",
        "id": "q-p3gpxcAqXC",
        "outputId": "82692bdc-e47d-470d-aa53-a452b42d6303",
        "execution": {
          "iopub.status.busy": "2024-07-08T14:24:22.435821Z",
          "iopub.execute_input": "2024-07-08T14:24:22.436213Z",
          "iopub.status.idle": "2024-07-08T14:24:22.453160Z",
          "shell.execute_reply.started": "2024-07-08T14:24:22.436172Z",
          "shell.execute_reply": "2024-07-08T14:24:22.452392Z"
        },
        "trusted": true
      },
      "execution_count": null,
      "outputs": [
        {
          "name": "stdout",
          "text": "<class 'pandas.core.frame.DataFrame'>\nRangeIndex: 6019 entries, 0 to 6018\nData columns (total 14 columns):\n #   Column             Non-Null Count  Dtype  \n---  ------             --------------  -----  \n 0   Unnamed: 0         6019 non-null   int64  \n 1   Name               6019 non-null   object \n 2   Location           6019 non-null   object \n 3   Year               6019 non-null   int64  \n 4   Kilometers_Driven  6019 non-null   int64  \n 5   Fuel_Type          6019 non-null   object \n 6   Transmission       6019 non-null   object \n 7   Owner_Type         6019 non-null   object \n 8   Mileage            6017 non-null   object \n 9   Engine             5983 non-null   object \n 10  Power              5983 non-null   object \n 11  Seats              5977 non-null   float64\n 12  New_Price          824 non-null    object \n 13  Price              6019 non-null   float64\ndtypes: float64(2), int64(3), object(9)\nmemory usage: 658.5+ KB\n",
          "output_type": "stream"
        }
      ]
    },
    {
      "cell_type": "code",
      "source": [
        "train_data = train_data.iloc[:,1:]\n",
        "train_data.head()"
      ],
      "metadata": {
        "id": "R5PbG_6OAqXD",
        "outputId": "f8444130-6b83-4406-ffb3-81b22814ed36",
        "execution": {
          "iopub.status.busy": "2024-07-08T14:24:22.454704Z",
          "iopub.execute_input": "2024-07-08T14:24:22.455001Z",
          "iopub.status.idle": "2024-07-08T14:24:22.475198Z",
          "shell.execute_reply.started": "2024-07-08T14:24:22.454972Z",
          "shell.execute_reply": "2024-07-08T14:24:22.474305Z"
        },
        "trusted": true
      },
      "execution_count": null,
      "outputs": [
        {
          "execution_count": 71,
          "output_type": "execute_result",
          "data": {
            "text/plain": "                               Name    Location  Year  Kilometers_Driven  \\\n0            Maruti Wagon R LXI CNG      Mumbai  2010              72000   \n1  Hyundai Creta 1.6 CRDi SX Option        Pune  2015              41000   \n2                      Honda Jazz V     Chennai  2011              46000   \n3                 Maruti Ertiga VDI     Chennai  2012              87000   \n4   Audi A4 New 2.0 TDI Multitronic  Coimbatore  2013              40670   \n\n  Fuel_Type Transmission Owner_Type     Mileage   Engine      Power  Seats  \\\n0       CNG       Manual      First  26.6 km/kg   998 CC  58.16 bhp    5.0   \n1    Diesel       Manual      First  19.67 kmpl  1582 CC  126.2 bhp    5.0   \n2    Petrol       Manual      First   18.2 kmpl  1199 CC   88.7 bhp    5.0   \n3    Diesel       Manual      First  20.77 kmpl  1248 CC  88.76 bhp    7.0   \n4    Diesel    Automatic     Second   15.2 kmpl  1968 CC  140.8 bhp    5.0   \n\n   New_Price  Price  \n0        NaN   1.75  \n1        NaN  12.50  \n2  8.61 Lakh   4.50  \n3        NaN   6.00  \n4        NaN  17.74  ",
            "text/html": "<div>\n<style scoped>\n    .dataframe tbody tr th:only-of-type {\n        vertical-align: middle;\n    }\n\n    .dataframe tbody tr th {\n        vertical-align: top;\n    }\n\n    .dataframe thead th {\n        text-align: right;\n    }\n</style>\n<table border=\"1\" class=\"dataframe\">\n  <thead>\n    <tr style=\"text-align: right;\">\n      <th></th>\n      <th>Name</th>\n      <th>Location</th>\n      <th>Year</th>\n      <th>Kilometers_Driven</th>\n      <th>Fuel_Type</th>\n      <th>Transmission</th>\n      <th>Owner_Type</th>\n      <th>Mileage</th>\n      <th>Engine</th>\n      <th>Power</th>\n      <th>Seats</th>\n      <th>New_Price</th>\n      <th>Price</th>\n    </tr>\n  </thead>\n  <tbody>\n    <tr>\n      <th>0</th>\n      <td>Maruti Wagon R LXI CNG</td>\n      <td>Mumbai</td>\n      <td>2010</td>\n      <td>72000</td>\n      <td>CNG</td>\n      <td>Manual</td>\n      <td>First</td>\n      <td>26.6 km/kg</td>\n      <td>998 CC</td>\n      <td>58.16 bhp</td>\n      <td>5.0</td>\n      <td>NaN</td>\n      <td>1.75</td>\n    </tr>\n    <tr>\n      <th>1</th>\n      <td>Hyundai Creta 1.6 CRDi SX Option</td>\n      <td>Pune</td>\n      <td>2015</td>\n      <td>41000</td>\n      <td>Diesel</td>\n      <td>Manual</td>\n      <td>First</td>\n      <td>19.67 kmpl</td>\n      <td>1582 CC</td>\n      <td>126.2 bhp</td>\n      <td>5.0</td>\n      <td>NaN</td>\n      <td>12.50</td>\n    </tr>\n    <tr>\n      <th>2</th>\n      <td>Honda Jazz V</td>\n      <td>Chennai</td>\n      <td>2011</td>\n      <td>46000</td>\n      <td>Petrol</td>\n      <td>Manual</td>\n      <td>First</td>\n      <td>18.2 kmpl</td>\n      <td>1199 CC</td>\n      <td>88.7 bhp</td>\n      <td>5.0</td>\n      <td>8.61 Lakh</td>\n      <td>4.50</td>\n    </tr>\n    <tr>\n      <th>3</th>\n      <td>Maruti Ertiga VDI</td>\n      <td>Chennai</td>\n      <td>2012</td>\n      <td>87000</td>\n      <td>Diesel</td>\n      <td>Manual</td>\n      <td>First</td>\n      <td>20.77 kmpl</td>\n      <td>1248 CC</td>\n      <td>88.76 bhp</td>\n      <td>7.0</td>\n      <td>NaN</td>\n      <td>6.00</td>\n    </tr>\n    <tr>\n      <th>4</th>\n      <td>Audi A4 New 2.0 TDI Multitronic</td>\n      <td>Coimbatore</td>\n      <td>2013</td>\n      <td>40670</td>\n      <td>Diesel</td>\n      <td>Automatic</td>\n      <td>Second</td>\n      <td>15.2 kmpl</td>\n      <td>1968 CC</td>\n      <td>140.8 bhp</td>\n      <td>5.0</td>\n      <td>NaN</td>\n      <td>17.74</td>\n    </tr>\n  </tbody>\n</table>\n</div>"
          },
          "metadata": {}
        }
      ]
    },
    {
      "cell_type": "code",
      "source": [
        "train_data.describe()"
      ],
      "metadata": {
        "id": "JqGpkqlMAqXE",
        "outputId": "0d203231-8d35-440e-85ae-88bcff472ae2",
        "execution": {
          "iopub.status.busy": "2024-07-08T14:24:22.477491Z",
          "iopub.execute_input": "2024-07-08T14:24:22.477755Z",
          "iopub.status.idle": "2024-07-08T14:24:22.504938Z",
          "shell.execute_reply.started": "2024-07-08T14:24:22.477729Z",
          "shell.execute_reply": "2024-07-08T14:24:22.504057Z"
        },
        "trusted": true
      },
      "execution_count": null,
      "outputs": [
        {
          "execution_count": 72,
          "output_type": "execute_result",
          "data": {
            "text/plain": "              Year  Kilometers_Driven        Seats        Price\ncount  6019.000000       6.019000e+03  5977.000000  6019.000000\nmean   2013.358199       5.873838e+04     5.278735     9.479468\nstd       3.269742       9.126884e+04     0.808840    11.187917\nmin    1998.000000       1.710000e+02     0.000000     0.440000\n25%    2011.000000       3.400000e+04     5.000000     3.500000\n50%    2014.000000       5.300000e+04     5.000000     5.640000\n75%    2016.000000       7.300000e+04     5.000000     9.950000\nmax    2019.000000       6.500000e+06    10.000000   160.000000",
            "text/html": "<div>\n<style scoped>\n    .dataframe tbody tr th:only-of-type {\n        vertical-align: middle;\n    }\n\n    .dataframe tbody tr th {\n        vertical-align: top;\n    }\n\n    .dataframe thead th {\n        text-align: right;\n    }\n</style>\n<table border=\"1\" class=\"dataframe\">\n  <thead>\n    <tr style=\"text-align: right;\">\n      <th></th>\n      <th>Year</th>\n      <th>Kilometers_Driven</th>\n      <th>Seats</th>\n      <th>Price</th>\n    </tr>\n  </thead>\n  <tbody>\n    <tr>\n      <th>count</th>\n      <td>6019.000000</td>\n      <td>6.019000e+03</td>\n      <td>5977.000000</td>\n      <td>6019.000000</td>\n    </tr>\n    <tr>\n      <th>mean</th>\n      <td>2013.358199</td>\n      <td>5.873838e+04</td>\n      <td>5.278735</td>\n      <td>9.479468</td>\n    </tr>\n    <tr>\n      <th>std</th>\n      <td>3.269742</td>\n      <td>9.126884e+04</td>\n      <td>0.808840</td>\n      <td>11.187917</td>\n    </tr>\n    <tr>\n      <th>min</th>\n      <td>1998.000000</td>\n      <td>1.710000e+02</td>\n      <td>0.000000</td>\n      <td>0.440000</td>\n    </tr>\n    <tr>\n      <th>25%</th>\n      <td>2011.000000</td>\n      <td>3.400000e+04</td>\n      <td>5.000000</td>\n      <td>3.500000</td>\n    </tr>\n    <tr>\n      <th>50%</th>\n      <td>2014.000000</td>\n      <td>5.300000e+04</td>\n      <td>5.000000</td>\n      <td>5.640000</td>\n    </tr>\n    <tr>\n      <th>75%</th>\n      <td>2016.000000</td>\n      <td>7.300000e+04</td>\n      <td>5.000000</td>\n      <td>9.950000</td>\n    </tr>\n    <tr>\n      <th>max</th>\n      <td>2019.000000</td>\n      <td>6.500000e+06</td>\n      <td>10.000000</td>\n      <td>160.000000</td>\n    </tr>\n  </tbody>\n</table>\n</div>"
          },
          "metadata": {}
        }
      ]
    },
    {
      "cell_type": "code",
      "source": [
        "train_data.shape"
      ],
      "metadata": {
        "id": "_YfWzxJiAqXE",
        "outputId": "f8e733b6-a633-477c-d478-20bdd5599df8",
        "execution": {
          "iopub.status.busy": "2024-07-08T14:24:22.506899Z",
          "iopub.execute_input": "2024-07-08T14:24:22.507288Z",
          "iopub.status.idle": "2024-07-08T14:24:22.513048Z",
          "shell.execute_reply.started": "2024-07-08T14:24:22.507246Z",
          "shell.execute_reply": "2024-07-08T14:24:22.512081Z"
        },
        "trusted": true
      },
      "execution_count": null,
      "outputs": [
        {
          "execution_count": 73,
          "output_type": "execute_result",
          "data": {
            "text/plain": "(6019, 13)"
          },
          "metadata": {}
        }
      ]
    },
    {
      "cell_type": "code",
      "source": [
        "# Looking ate the unique values of Categorical Features\n",
        "print(train_data['Location'].unique())\n",
        "print(train_data['Fuel_Type'].unique())\n",
        "print(train_data['Transmission'].unique())\n",
        "print(train_data['Owner_Type'].unique())\n",
        "\n"
      ],
      "metadata": {
        "id": "zYLz-57YAqXE",
        "outputId": "ddf42d55-32af-482b-b80e-1f4433fb5327",
        "execution": {
          "iopub.status.busy": "2024-07-08T14:24:22.514443Z",
          "iopub.execute_input": "2024-07-08T14:24:22.514835Z",
          "iopub.status.idle": "2024-07-08T14:24:22.525313Z",
          "shell.execute_reply.started": "2024-07-08T14:24:22.514798Z",
          "shell.execute_reply": "2024-07-08T14:24:22.524378Z"
        },
        "trusted": true
      },
      "execution_count": null,
      "outputs": [
        {
          "name": "stdout",
          "text": "['Mumbai' 'Pune' 'Chennai' 'Coimbatore' 'Hyderabad' 'Jaipur' 'Kochi'\n 'Kolkata' 'Delhi' 'Bangalore' 'Ahmedabad']\n['CNG' 'Diesel' 'Petrol' 'LPG' 'Electric']\n['Manual' 'Automatic']\n['First' 'Second' 'Fourth & Above' 'Third']\n",
          "output_type": "stream"
        }
      ]
    },
    {
      "cell_type": "code",
      "source": [
        "train_data.isnull().sum()"
      ],
      "metadata": {
        "id": "V7kDK0fBAqXE",
        "outputId": "e2131aa4-823e-4560-fce7-ced65a59acc6",
        "execution": {
          "iopub.status.busy": "2024-07-08T14:24:22.526491Z",
          "iopub.execute_input": "2024-07-08T14:24:22.526860Z",
          "iopub.status.idle": "2024-07-08T14:24:22.543539Z",
          "shell.execute_reply.started": "2024-07-08T14:24:22.526821Z",
          "shell.execute_reply": "2024-07-08T14:24:22.542755Z"
        },
        "trusted": true
      },
      "execution_count": null,
      "outputs": [
        {
          "execution_count": 75,
          "output_type": "execute_result",
          "data": {
            "text/plain": "Name                    0\nLocation                0\nYear                    0\nKilometers_Driven       0\nFuel_Type               0\nTransmission            0\nOwner_Type              0\nMileage                 2\nEngine                 36\nPower                  36\nSeats                  42\nNew_Price            5195\nPrice                   0\ndtype: int64"
          },
          "metadata": {}
        }
      ]
    },
    {
      "cell_type": "code",
      "source": [
        "train_data = train_data[train_data['Mileage'].notna()]\n",
        "train_data = train_data[train_data['Engine'].notna()]\n",
        "train_data = train_data[train_data['Power'].notna()]\n",
        "train_data = train_data[train_data['Seats'].notna()]"
      ],
      "metadata": {
        "id": "UVXxZxwbAqXE",
        "execution": {
          "iopub.status.busy": "2024-07-08T14:24:22.545095Z",
          "iopub.execute_input": "2024-07-08T14:24:22.545459Z",
          "iopub.status.idle": "2024-07-08T14:24:22.560103Z",
          "shell.execute_reply.started": "2024-07-08T14:24:22.545419Z",
          "shell.execute_reply": "2024-07-08T14:24:22.559309Z"
        },
        "trusted": true
      },
      "execution_count": null,
      "outputs": []
    },
    {
      "cell_type": "code",
      "source": [
        "train_data = train_data.reset_index(drop=True)"
      ],
      "metadata": {
        "id": "3EZRmjd1AqXF",
        "execution": {
          "iopub.status.busy": "2024-07-08T14:24:22.561373Z",
          "iopub.execute_input": "2024-07-08T14:24:22.561704Z",
          "iopub.status.idle": "2024-07-08T14:24:22.566668Z",
          "shell.execute_reply.started": "2024-07-08T14:24:22.561675Z",
          "shell.execute_reply": "2024-07-08T14:24:22.565785Z"
        },
        "trusted": true
      },
      "execution_count": null,
      "outputs": []
    },
    {
      "cell_type": "code",
      "source": [
        "train_data.info()"
      ],
      "metadata": {
        "id": "InGK-fbOAqXF",
        "outputId": "f1b67d63-81b8-4dcc-89c3-5303c184cef1",
        "execution": {
          "iopub.status.busy": "2024-07-08T14:24:22.567842Z",
          "iopub.execute_input": "2024-07-08T14:24:22.568150Z",
          "iopub.status.idle": "2024-07-08T14:24:22.586884Z",
          "shell.execute_reply.started": "2024-07-08T14:24:22.568122Z",
          "shell.execute_reply": "2024-07-08T14:24:22.586110Z"
        },
        "trusted": true
      },
      "execution_count": null,
      "outputs": [
        {
          "name": "stdout",
          "text": "<class 'pandas.core.frame.DataFrame'>\nRangeIndex: 5975 entries, 0 to 5974\nData columns (total 13 columns):\n #   Column             Non-Null Count  Dtype  \n---  ------             --------------  -----  \n 0   Name               5975 non-null   object \n 1   Location           5975 non-null   object \n 2   Year               5975 non-null   int64  \n 3   Kilometers_Driven  5975 non-null   int64  \n 4   Fuel_Type          5975 non-null   object \n 5   Transmission       5975 non-null   object \n 6   Owner_Type         5975 non-null   object \n 7   Mileage            5975 non-null   object \n 8   Engine             5975 non-null   object \n 9   Power              5975 non-null   object \n 10  Seats              5975 non-null   float64\n 11  New_Price          823 non-null    object \n 12  Price              5975 non-null   float64\ndtypes: float64(2), int64(2), object(9)\nmemory usage: 607.0+ KB\n",
          "output_type": "stream"
        }
      ]
    },
    {
      "cell_type": "code",
      "source": [
        "train_data['Price'].describe()"
      ],
      "metadata": {
        "id": "Ki1M33u4AqXF",
        "outputId": "f856f137-e8c3-4233-bfb7-56bb44cfc7b1",
        "execution": {
          "iopub.status.busy": "2024-07-08T14:24:22.588255Z",
          "iopub.execute_input": "2024-07-08T14:24:22.589242Z",
          "iopub.status.idle": "2024-07-08T14:24:22.599418Z",
          "shell.execute_reply.started": "2024-07-08T14:24:22.589208Z",
          "shell.execute_reply": "2024-07-08T14:24:22.598768Z"
        },
        "trusted": true
      },
      "execution_count": null,
      "outputs": [
        {
          "execution_count": 79,
          "output_type": "execute_result",
          "data": {
            "text/plain": "count    5975.000000\nmean        9.501647\nstd        11.205736\nmin         0.440000\n25%         3.500000\n50%         5.650000\n75%         9.950000\nmax       160.000000\nName: Price, dtype: float64"
          },
          "metadata": {}
        }
      ]
    },
    {
      "cell_type": "code",
      "source": [
        "train_data['Fuel_Type'].describe()"
      ],
      "metadata": {
        "id": "EmZH8m94AqXF",
        "outputId": "c4d9266a-34fa-4d0e-a1b9-b8f9f2edbf50",
        "execution": {
          "iopub.status.busy": "2024-07-08T14:24:22.600481Z",
          "iopub.execute_input": "2024-07-08T14:24:22.600749Z",
          "iopub.status.idle": "2024-07-08T14:24:22.612857Z",
          "shell.execute_reply.started": "2024-07-08T14:24:22.600722Z",
          "shell.execute_reply": "2024-07-08T14:24:22.612095Z"
        },
        "trusted": true
      },
      "execution_count": null,
      "outputs": [
        {
          "execution_count": 80,
          "output_type": "execute_result",
          "data": {
            "text/plain": "count       5975\nunique         4\ntop       Diesel\nfreq        3195\nName: Fuel_Type, dtype: object"
          },
          "metadata": {}
        }
      ]
    },
    {
      "cell_type": "code",
      "source": [
        "var = 'Location'\n",
        "train_data[var].value_counts()"
      ],
      "metadata": {
        "id": "Jq7kdXCPAqXF",
        "outputId": "a3d807e5-a64a-43e2-d74f-6d5b134b08f8",
        "execution": {
          "iopub.status.busy": "2024-07-08T14:24:22.617392Z",
          "iopub.execute_input": "2024-07-08T14:24:22.617651Z",
          "iopub.status.idle": "2024-07-08T14:24:22.626100Z",
          "shell.execute_reply.started": "2024-07-08T14:24:22.617626Z",
          "shell.execute_reply": "2024-07-08T14:24:22.625123Z"
        },
        "trusted": true
      },
      "execution_count": null,
      "outputs": [
        {
          "execution_count": 81,
          "output_type": "execute_result",
          "data": {
            "text/plain": "Mumbai        784\nHyderabad     741\nKochi         648\nCoimbatore    634\nPune          613\nDelhi         549\nKolkata       530\nChennai       490\nJaipur        410\nBangalore     353\nAhmedabad     223\nName: Location, dtype: int64"
          },
          "metadata": {}
        }
      ]
    },
    {
      "cell_type": "code",
      "source": [
        "Location = train_data[[var]]\n",
        "Location = pd.get_dummies(Location,drop_first=True)\n",
        "Location.head()"
      ],
      "metadata": {
        "id": "fjnSsilRAqXG",
        "outputId": "38e6db42-dec3-4881-b797-fa84ebdf6682",
        "execution": {
          "iopub.status.busy": "2024-07-08T14:24:22.628493Z",
          "iopub.execute_input": "2024-07-08T14:24:22.628856Z",
          "iopub.status.idle": "2024-07-08T14:24:22.647704Z",
          "shell.execute_reply.started": "2024-07-08T14:24:22.628820Z",
          "shell.execute_reply": "2024-07-08T14:24:22.646960Z"
        },
        "trusted": true
      },
      "execution_count": null,
      "outputs": [
        {
          "execution_count": 82,
          "output_type": "execute_result",
          "data": {
            "text/plain": "   Location_Bangalore  Location_Chennai  Location_Coimbatore  Location_Delhi  \\\n0                   0                 0                    0               0   \n1                   0                 0                    0               0   \n2                   0                 1                    0               0   \n3                   0                 1                    0               0   \n4                   0                 0                    1               0   \n\n   Location_Hyderabad  Location_Jaipur  Location_Kochi  Location_Kolkata  \\\n0                   0                0               0                 0   \n1                   0                0               0                 0   \n2                   0                0               0                 0   \n3                   0                0               0                 0   \n4                   0                0               0                 0   \n\n   Location_Mumbai  Location_Pune  \n0                1              0  \n1                0              1  \n2                0              0  \n3                0              0  \n4                0              0  ",
            "text/html": "<div>\n<style scoped>\n    .dataframe tbody tr th:only-of-type {\n        vertical-align: middle;\n    }\n\n    .dataframe tbody tr th {\n        vertical-align: top;\n    }\n\n    .dataframe thead th {\n        text-align: right;\n    }\n</style>\n<table border=\"1\" class=\"dataframe\">\n  <thead>\n    <tr style=\"text-align: right;\">\n      <th></th>\n      <th>Location_Bangalore</th>\n      <th>Location_Chennai</th>\n      <th>Location_Coimbatore</th>\n      <th>Location_Delhi</th>\n      <th>Location_Hyderabad</th>\n      <th>Location_Jaipur</th>\n      <th>Location_Kochi</th>\n      <th>Location_Kolkata</th>\n      <th>Location_Mumbai</th>\n      <th>Location_Pune</th>\n    </tr>\n  </thead>\n  <tbody>\n    <tr>\n      <th>0</th>\n      <td>0</td>\n      <td>0</td>\n      <td>0</td>\n      <td>0</td>\n      <td>0</td>\n      <td>0</td>\n      <td>0</td>\n      <td>0</td>\n      <td>1</td>\n      <td>0</td>\n    </tr>\n    <tr>\n      <th>1</th>\n      <td>0</td>\n      <td>0</td>\n      <td>0</td>\n      <td>0</td>\n      <td>0</td>\n      <td>0</td>\n      <td>0</td>\n      <td>0</td>\n      <td>0</td>\n      <td>1</td>\n    </tr>\n    <tr>\n      <th>2</th>\n      <td>0</td>\n      <td>1</td>\n      <td>0</td>\n      <td>0</td>\n      <td>0</td>\n      <td>0</td>\n      <td>0</td>\n      <td>0</td>\n      <td>0</td>\n      <td>0</td>\n    </tr>\n    <tr>\n      <th>3</th>\n      <td>0</td>\n      <td>1</td>\n      <td>0</td>\n      <td>0</td>\n      <td>0</td>\n      <td>0</td>\n      <td>0</td>\n      <td>0</td>\n      <td>0</td>\n      <td>0</td>\n    </tr>\n    <tr>\n      <th>4</th>\n      <td>0</td>\n      <td>0</td>\n      <td>1</td>\n      <td>0</td>\n      <td>0</td>\n      <td>0</td>\n      <td>0</td>\n      <td>0</td>\n      <td>0</td>\n      <td>0</td>\n    </tr>\n  </tbody>\n</table>\n</div>"
          },
          "metadata": {}
        }
      ]
    },
    {
      "cell_type": "code",
      "source": [
        "var = 'Fuel_Type'\n",
        "train_data[var].value_counts()"
      ],
      "metadata": {
        "id": "Q4m3d9P0AqXG",
        "outputId": "e3c6fb4a-2e71-49fa-9005-0c7e27329d51",
        "execution": {
          "iopub.status.busy": "2024-07-08T14:24:22.648919Z",
          "iopub.execute_input": "2024-07-08T14:24:22.649296Z",
          "iopub.status.idle": "2024-07-08T14:24:22.657146Z",
          "shell.execute_reply.started": "2024-07-08T14:24:22.649259Z",
          "shell.execute_reply": "2024-07-08T14:24:22.656354Z"
        },
        "trusted": true
      },
      "execution_count": null,
      "outputs": [
        {
          "execution_count": 83,
          "output_type": "execute_result",
          "data": {
            "text/plain": "Diesel    3195\nPetrol    2714\nCNG         56\nLPG         10\nName: Fuel_Type, dtype: int64"
          },
          "metadata": {}
        }
      ]
    },
    {
      "cell_type": "code",
      "source": [
        "Fuel_t = train_data[[var]]\n",
        "Fuel_t = pd.get_dummies(Fuel_t,drop_first=True)\n",
        "Fuel_t.head()"
      ],
      "metadata": {
        "id": "HXBB3TcYAqXG",
        "outputId": "5555ab87-8487-499c-a366-a97f20a427da",
        "execution": {
          "iopub.status.busy": "2024-07-08T14:24:22.658349Z",
          "iopub.execute_input": "2024-07-08T14:24:22.658695Z",
          "iopub.status.idle": "2024-07-08T14:24:22.675212Z",
          "shell.execute_reply.started": "2024-07-08T14:24:22.658659Z",
          "shell.execute_reply": "2024-07-08T14:24:22.674155Z"
        },
        "trusted": true
      },
      "execution_count": null,
      "outputs": [
        {
          "execution_count": 84,
          "output_type": "execute_result",
          "data": {
            "text/plain": "   Fuel_Type_Diesel  Fuel_Type_LPG  Fuel_Type_Petrol\n0                 0              0                 0\n1                 1              0                 0\n2                 0              0                 1\n3                 1              0                 0\n4                 1              0                 0",
            "text/html": "<div>\n<style scoped>\n    .dataframe tbody tr th:only-of-type {\n        vertical-align: middle;\n    }\n\n    .dataframe tbody tr th {\n        vertical-align: top;\n    }\n\n    .dataframe thead th {\n        text-align: right;\n    }\n</style>\n<table border=\"1\" class=\"dataframe\">\n  <thead>\n    <tr style=\"text-align: right;\">\n      <th></th>\n      <th>Fuel_Type_Diesel</th>\n      <th>Fuel_Type_LPG</th>\n      <th>Fuel_Type_Petrol</th>\n    </tr>\n  </thead>\n  <tbody>\n    <tr>\n      <th>0</th>\n      <td>0</td>\n      <td>0</td>\n      <td>0</td>\n    </tr>\n    <tr>\n      <th>1</th>\n      <td>1</td>\n      <td>0</td>\n      <td>0</td>\n    </tr>\n    <tr>\n      <th>2</th>\n      <td>0</td>\n      <td>0</td>\n      <td>1</td>\n    </tr>\n    <tr>\n      <th>3</th>\n      <td>1</td>\n      <td>0</td>\n      <td>0</td>\n    </tr>\n    <tr>\n      <th>4</th>\n      <td>1</td>\n      <td>0</td>\n      <td>0</td>\n    </tr>\n  </tbody>\n</table>\n</div>"
          },
          "metadata": {}
        }
      ]
    },
    {
      "cell_type": "code",
      "source": [
        "var = 'Transmission'\n",
        "train_data[var].value_counts()"
      ],
      "metadata": {
        "id": "H7PQpsHGAqXG",
        "outputId": "2b21f568-6412-4fab-d068-0461be0744e8",
        "execution": {
          "iopub.status.busy": "2024-07-08T14:24:22.676164Z",
          "iopub.execute_input": "2024-07-08T14:24:22.676425Z",
          "iopub.status.idle": "2024-07-08T14:24:22.684581Z",
          "shell.execute_reply.started": "2024-07-08T14:24:22.676399Z",
          "shell.execute_reply": "2024-07-08T14:24:22.683853Z"
        },
        "trusted": true
      },
      "execution_count": null,
      "outputs": [
        {
          "execution_count": 85,
          "output_type": "execute_result",
          "data": {
            "text/plain": "Manual       4266\nAutomatic    1709\nName: Transmission, dtype: int64"
          },
          "metadata": {}
        }
      ]
    },
    {
      "cell_type": "code",
      "source": [
        "Transmission = train_data[[var]]\n",
        "Transmission = pd.get_dummies(Transmission,drop_first=True)\n",
        "Transmission.head()"
      ],
      "metadata": {
        "id": "eAI9ERFkAqXG",
        "outputId": "882641d7-c502-466b-8b77-0ec937692ae1",
        "execution": {
          "iopub.status.busy": "2024-07-08T14:24:22.685713Z",
          "iopub.execute_input": "2024-07-08T14:24:22.685968Z",
          "iopub.status.idle": "2024-07-08T14:24:22.701348Z",
          "shell.execute_reply.started": "2024-07-08T14:24:22.685944Z",
          "shell.execute_reply": "2024-07-08T14:24:22.700568Z"
        },
        "trusted": true
      },
      "execution_count": null,
      "outputs": [
        {
          "execution_count": 86,
          "output_type": "execute_result",
          "data": {
            "text/plain": "   Transmission_Manual\n0                    1\n1                    1\n2                    1\n3                    1\n4                    0",
            "text/html": "<div>\n<style scoped>\n    .dataframe tbody tr th:only-of-type {\n        vertical-align: middle;\n    }\n\n    .dataframe tbody tr th {\n        vertical-align: top;\n    }\n\n    .dataframe thead th {\n        text-align: right;\n    }\n</style>\n<table border=\"1\" class=\"dataframe\">\n  <thead>\n    <tr style=\"text-align: right;\">\n      <th></th>\n      <th>Transmission_Manual</th>\n    </tr>\n  </thead>\n  <tbody>\n    <tr>\n      <th>0</th>\n      <td>1</td>\n    </tr>\n    <tr>\n      <th>1</th>\n      <td>1</td>\n    </tr>\n    <tr>\n      <th>2</th>\n      <td>1</td>\n    </tr>\n    <tr>\n      <th>3</th>\n      <td>1</td>\n    </tr>\n    <tr>\n      <th>4</th>\n      <td>0</td>\n    </tr>\n  </tbody>\n</table>\n</div>"
          },
          "metadata": {}
        }
      ]
    },
    {
      "cell_type": "code",
      "source": [
        "var = 'Owner_Type'\n",
        "train_data[var].value_counts()"
      ],
      "metadata": {
        "id": "1n8e2BARAqXG",
        "outputId": "9578296a-022f-407c-9203-1dbd920cf935",
        "execution": {
          "iopub.status.busy": "2024-07-08T14:24:22.702438Z",
          "iopub.execute_input": "2024-07-08T14:24:22.702808Z",
          "iopub.status.idle": "2024-07-08T14:24:22.710941Z",
          "shell.execute_reply.started": "2024-07-08T14:24:22.702759Z",
          "shell.execute_reply": "2024-07-08T14:24:22.710011Z"
        },
        "trusted": true
      },
      "execution_count": null,
      "outputs": [
        {
          "execution_count": 87,
          "output_type": "execute_result",
          "data": {
            "text/plain": "First             4903\nSecond             953\nThird              111\nFourth & Above       8\nName: Owner_Type, dtype: int64"
          },
          "metadata": {}
        }
      ]
    },
    {
      "cell_type": "code",
      "source": [
        "train_data.replace({\"First\":1,\"Second\":2,\"Third\": 3,\"Fourth & Above\":4},inplace=True)\n",
        "train_data.head()"
      ],
      "metadata": {
        "id": "Kpum1WmVAqXH",
        "outputId": "4fd6ce7b-c6cd-448a-a6de-4b5847893a97",
        "execution": {
          "iopub.status.busy": "2024-07-08T14:24:22.712315Z",
          "iopub.execute_input": "2024-07-08T14:24:22.712670Z",
          "iopub.status.idle": "2024-07-08T14:24:22.756326Z",
          "shell.execute_reply.started": "2024-07-08T14:24:22.712633Z",
          "shell.execute_reply": "2024-07-08T14:24:22.755477Z"
        },
        "trusted": true
      },
      "execution_count": null,
      "outputs": [
        {
          "execution_count": 88,
          "output_type": "execute_result",
          "data": {
            "text/plain": "                               Name    Location  Year  Kilometers_Driven  \\\n0            Maruti Wagon R LXI CNG      Mumbai  2010              72000   \n1  Hyundai Creta 1.6 CRDi SX Option        Pune  2015              41000   \n2                      Honda Jazz V     Chennai  2011              46000   \n3                 Maruti Ertiga VDI     Chennai  2012              87000   \n4   Audi A4 New 2.0 TDI Multitronic  Coimbatore  2013              40670   \n\n  Fuel_Type Transmission  Owner_Type     Mileage   Engine      Power  Seats  \\\n0       CNG       Manual           1  26.6 km/kg   998 CC  58.16 bhp    5.0   \n1    Diesel       Manual           1  19.67 kmpl  1582 CC  126.2 bhp    5.0   \n2    Petrol       Manual           1   18.2 kmpl  1199 CC   88.7 bhp    5.0   \n3    Diesel       Manual           1  20.77 kmpl  1248 CC  88.76 bhp    7.0   \n4    Diesel    Automatic           2   15.2 kmpl  1968 CC  140.8 bhp    5.0   \n\n   New_Price  Price  \n0        NaN   1.75  \n1        NaN  12.50  \n2  8.61 Lakh   4.50  \n3        NaN   6.00  \n4        NaN  17.74  ",
            "text/html": "<div>\n<style scoped>\n    .dataframe tbody tr th:only-of-type {\n        vertical-align: middle;\n    }\n\n    .dataframe tbody tr th {\n        vertical-align: top;\n    }\n\n    .dataframe thead th {\n        text-align: right;\n    }\n</style>\n<table border=\"1\" class=\"dataframe\">\n  <thead>\n    <tr style=\"text-align: right;\">\n      <th></th>\n      <th>Name</th>\n      <th>Location</th>\n      <th>Year</th>\n      <th>Kilometers_Driven</th>\n      <th>Fuel_Type</th>\n      <th>Transmission</th>\n      <th>Owner_Type</th>\n      <th>Mileage</th>\n      <th>Engine</th>\n      <th>Power</th>\n      <th>Seats</th>\n      <th>New_Price</th>\n      <th>Price</th>\n    </tr>\n  </thead>\n  <tbody>\n    <tr>\n      <th>0</th>\n      <td>Maruti Wagon R LXI CNG</td>\n      <td>Mumbai</td>\n      <td>2010</td>\n      <td>72000</td>\n      <td>CNG</td>\n      <td>Manual</td>\n      <td>1</td>\n      <td>26.6 km/kg</td>\n      <td>998 CC</td>\n      <td>58.16 bhp</td>\n      <td>5.0</td>\n      <td>NaN</td>\n      <td>1.75</td>\n    </tr>\n    <tr>\n      <th>1</th>\n      <td>Hyundai Creta 1.6 CRDi SX Option</td>\n      <td>Pune</td>\n      <td>2015</td>\n      <td>41000</td>\n      <td>Diesel</td>\n      <td>Manual</td>\n      <td>1</td>\n      <td>19.67 kmpl</td>\n      <td>1582 CC</td>\n      <td>126.2 bhp</td>\n      <td>5.0</td>\n      <td>NaN</td>\n      <td>12.50</td>\n    </tr>\n    <tr>\n      <th>2</th>\n      <td>Honda Jazz V</td>\n      <td>Chennai</td>\n      <td>2011</td>\n      <td>46000</td>\n      <td>Petrol</td>\n      <td>Manual</td>\n      <td>1</td>\n      <td>18.2 kmpl</td>\n      <td>1199 CC</td>\n      <td>88.7 bhp</td>\n      <td>5.0</td>\n      <td>8.61 Lakh</td>\n      <td>4.50</td>\n    </tr>\n    <tr>\n      <th>3</th>\n      <td>Maruti Ertiga VDI</td>\n      <td>Chennai</td>\n      <td>2012</td>\n      <td>87000</td>\n      <td>Diesel</td>\n      <td>Manual</td>\n      <td>1</td>\n      <td>20.77 kmpl</td>\n      <td>1248 CC</td>\n      <td>88.76 bhp</td>\n      <td>7.0</td>\n      <td>NaN</td>\n      <td>6.00</td>\n    </tr>\n    <tr>\n      <th>4</th>\n      <td>Audi A4 New 2.0 TDI Multitronic</td>\n      <td>Coimbatore</td>\n      <td>2013</td>\n      <td>40670</td>\n      <td>Diesel</td>\n      <td>Automatic</td>\n      <td>2</td>\n      <td>15.2 kmpl</td>\n      <td>1968 CC</td>\n      <td>140.8 bhp</td>\n      <td>5.0</td>\n      <td>NaN</td>\n      <td>17.74</td>\n    </tr>\n  </tbody>\n</table>\n</div>"
          },
          "metadata": {}
        }
      ]
    },
    {
      "cell_type": "code",
      "source": [
        "var = 'Name'\n",
        "train_data[var].value_counts()"
      ],
      "metadata": {
        "id": "Tt3Xx8L_AqXH",
        "outputId": "2d978614-4e7c-4d2d-81ff-729939517d42",
        "execution": {
          "iopub.status.busy": "2024-07-08T14:24:22.757324Z",
          "iopub.execute_input": "2024-07-08T14:24:22.757568Z",
          "iopub.status.idle": "2024-07-08T14:24:22.767935Z",
          "shell.execute_reply.started": "2024-07-08T14:24:22.757544Z",
          "shell.execute_reply": "2024-07-08T14:24:22.767249Z"
        },
        "trusted": true
      },
      "execution_count": null,
      "outputs": [
        {
          "execution_count": 89,
          "output_type": "execute_result",
          "data": {
            "text/plain": "Mahindra XUV500 W8 2WD                                      49\nMaruti Swift VDI                                            45\nMaruti Swift Dzire VDI                                      34\nHonda City 1.5 S MT                                         34\nMaruti Swift VDI BSIV                                       31\n                                                            ..\nMercedes-Benz E-Class 2009-2013 E200 CGI Blue Efficiency     1\nSkoda Octavia Style Plus 2.0 TDI AT                          1\nPorsche Boxster S tiptronic                                  1\nMahindra Bolero mHAWK D70 ZLX                                1\nTata Nano Cx                                                 1\nName: Name, Length: 1855, dtype: int64"
          },
          "metadata": {}
        }
      ]
    },
    {
      "cell_type": "code",
      "source": [
        "train_data.drop([\"Name\"],axis=1,inplace=True)"
      ],
      "metadata": {
        "id": "iR7j6SMfAqXH",
        "execution": {
          "iopub.status.busy": "2024-07-08T14:24:22.768963Z",
          "iopub.execute_input": "2024-07-08T14:24:22.769264Z",
          "iopub.status.idle": "2024-07-08T14:24:22.777988Z",
          "shell.execute_reply.started": "2024-07-08T14:24:22.769232Z",
          "shell.execute_reply": "2024-07-08T14:24:22.777349Z"
        },
        "trusted": true
      },
      "execution_count": null,
      "outputs": []
    },
    {
      "cell_type": "code",
      "source": [
        "final_train= pd.concat([train_data,Location,Fuel_t,Transmission],axis=1)\n",
        "final_train.head()"
      ],
      "metadata": {
        "id": "MHP1OzljAqXH",
        "outputId": "8aeb6258-d330-4f5b-d89b-4cbf00c45534",
        "execution": {
          "iopub.status.busy": "2024-07-08T14:24:22.779161Z",
          "iopub.execute_input": "2024-07-08T14:24:22.779528Z",
          "iopub.status.idle": "2024-07-08T14:24:22.813689Z",
          "shell.execute_reply.started": "2024-07-08T14:24:22.779486Z",
          "shell.execute_reply": "2024-07-08T14:24:22.812797Z"
        },
        "trusted": true
      },
      "execution_count": null,
      "outputs": [
        {
          "execution_count": 91,
          "output_type": "execute_result",
          "data": {
            "text/plain": "     Location  Year  Kilometers_Driven Fuel_Type Transmission  Owner_Type  \\\n0      Mumbai  2010              72000       CNG       Manual           1   \n1        Pune  2015              41000    Diesel       Manual           1   \n2     Chennai  2011              46000    Petrol       Manual           1   \n3     Chennai  2012              87000    Diesel       Manual           1   \n4  Coimbatore  2013              40670    Diesel    Automatic           2   \n\n      Mileage   Engine      Power  Seats  ... Location_Hyderabad  \\\n0  26.6 km/kg   998 CC  58.16 bhp    5.0  ...                  0   \n1  19.67 kmpl  1582 CC  126.2 bhp    5.0  ...                  0   \n2   18.2 kmpl  1199 CC   88.7 bhp    5.0  ...                  0   \n3  20.77 kmpl  1248 CC  88.76 bhp    7.0  ...                  0   \n4   15.2 kmpl  1968 CC  140.8 bhp    5.0  ...                  0   \n\n   Location_Jaipur  Location_Kochi  Location_Kolkata  Location_Mumbai  \\\n0                0               0                 0                1   \n1                0               0                 0                0   \n2                0               0                 0                0   \n3                0               0                 0                0   \n4                0               0                 0                0   \n\n   Location_Pune  Fuel_Type_Diesel  Fuel_Type_LPG  Fuel_Type_Petrol  \\\n0              0                 0              0                 0   \n1              1                 1              0                 0   \n2              0                 0              0                 1   \n3              0                 1              0                 0   \n4              0                 1              0                 0   \n\n   Transmission_Manual  \n0                    1  \n1                    1  \n2                    1  \n3                    1  \n4                    0  \n\n[5 rows x 26 columns]",
            "text/html": "<div>\n<style scoped>\n    .dataframe tbody tr th:only-of-type {\n        vertical-align: middle;\n    }\n\n    .dataframe tbody tr th {\n        vertical-align: top;\n    }\n\n    .dataframe thead th {\n        text-align: right;\n    }\n</style>\n<table border=\"1\" class=\"dataframe\">\n  <thead>\n    <tr style=\"text-align: right;\">\n      <th></th>\n      <th>Location</th>\n      <th>Year</th>\n      <th>Kilometers_Driven</th>\n      <th>Fuel_Type</th>\n      <th>Transmission</th>\n      <th>Owner_Type</th>\n      <th>Mileage</th>\n      <th>Engine</th>\n      <th>Power</th>\n      <th>Seats</th>\n      <th>...</th>\n      <th>Location_Hyderabad</th>\n      <th>Location_Jaipur</th>\n      <th>Location_Kochi</th>\n      <th>Location_Kolkata</th>\n      <th>Location_Mumbai</th>\n      <th>Location_Pune</th>\n      <th>Fuel_Type_Diesel</th>\n      <th>Fuel_Type_LPG</th>\n      <th>Fuel_Type_Petrol</th>\n      <th>Transmission_Manual</th>\n    </tr>\n  </thead>\n  <tbody>\n    <tr>\n      <th>0</th>\n      <td>Mumbai</td>\n      <td>2010</td>\n      <td>72000</td>\n      <td>CNG</td>\n      <td>Manual</td>\n      <td>1</td>\n      <td>26.6 km/kg</td>\n      <td>998 CC</td>\n      <td>58.16 bhp</td>\n      <td>5.0</td>\n      <td>...</td>\n      <td>0</td>\n      <td>0</td>\n      <td>0</td>\n      <td>0</td>\n      <td>1</td>\n      <td>0</td>\n      <td>0</td>\n      <td>0</td>\n      <td>0</td>\n      <td>1</td>\n    </tr>\n    <tr>\n      <th>1</th>\n      <td>Pune</td>\n      <td>2015</td>\n      <td>41000</td>\n      <td>Diesel</td>\n      <td>Manual</td>\n      <td>1</td>\n      <td>19.67 kmpl</td>\n      <td>1582 CC</td>\n      <td>126.2 bhp</td>\n      <td>5.0</td>\n      <td>...</td>\n      <td>0</td>\n      <td>0</td>\n      <td>0</td>\n      <td>0</td>\n      <td>0</td>\n      <td>1</td>\n      <td>1</td>\n      <td>0</td>\n      <td>0</td>\n      <td>1</td>\n    </tr>\n    <tr>\n      <th>2</th>\n      <td>Chennai</td>\n      <td>2011</td>\n      <td>46000</td>\n      <td>Petrol</td>\n      <td>Manual</td>\n      <td>1</td>\n      <td>18.2 kmpl</td>\n      <td>1199 CC</td>\n      <td>88.7 bhp</td>\n      <td>5.0</td>\n      <td>...</td>\n      <td>0</td>\n      <td>0</td>\n      <td>0</td>\n      <td>0</td>\n      <td>0</td>\n      <td>0</td>\n      <td>0</td>\n      <td>0</td>\n      <td>1</td>\n      <td>1</td>\n    </tr>\n    <tr>\n      <th>3</th>\n      <td>Chennai</td>\n      <td>2012</td>\n      <td>87000</td>\n      <td>Diesel</td>\n      <td>Manual</td>\n      <td>1</td>\n      <td>20.77 kmpl</td>\n      <td>1248 CC</td>\n      <td>88.76 bhp</td>\n      <td>7.0</td>\n      <td>...</td>\n      <td>0</td>\n      <td>0</td>\n      <td>0</td>\n      <td>0</td>\n      <td>0</td>\n      <td>0</td>\n      <td>1</td>\n      <td>0</td>\n      <td>0</td>\n      <td>1</td>\n    </tr>\n    <tr>\n      <th>4</th>\n      <td>Coimbatore</td>\n      <td>2013</td>\n      <td>40670</td>\n      <td>Diesel</td>\n      <td>Automatic</td>\n      <td>2</td>\n      <td>15.2 kmpl</td>\n      <td>1968 CC</td>\n      <td>140.8 bhp</td>\n      <td>5.0</td>\n      <td>...</td>\n      <td>0</td>\n      <td>0</td>\n      <td>0</td>\n      <td>0</td>\n      <td>0</td>\n      <td>0</td>\n      <td>1</td>\n      <td>0</td>\n      <td>0</td>\n      <td>0</td>\n    </tr>\n  </tbody>\n</table>\n<p>5 rows × 26 columns</p>\n</div>"
          },
          "metadata": {}
        }
      ]
    },
    {
      "cell_type": "code",
      "source": [
        "final_train.drop([\"Location\",\"Fuel_Type\",\"Transmission\",\"New_Price\"],axis=1,inplace=True)\n",
        "final_train.head()"
      ],
      "metadata": {
        "id": "O_4Bu_KIAqXH",
        "outputId": "973e38e2-d60a-4e47-fe50-0f3cc2ca7c05",
        "execution": {
          "iopub.status.busy": "2024-07-08T14:24:22.814802Z",
          "iopub.execute_input": "2024-07-08T14:24:22.815091Z",
          "iopub.status.idle": "2024-07-08T14:24:22.844736Z",
          "shell.execute_reply.started": "2024-07-08T14:24:22.815050Z",
          "shell.execute_reply": "2024-07-08T14:24:22.844025Z"
        },
        "trusted": true
      },
      "execution_count": null,
      "outputs": [
        {
          "execution_count": 92,
          "output_type": "execute_result",
          "data": {
            "text/plain": "   Year  Kilometers_Driven  Owner_Type     Mileage   Engine      Power  Seats  \\\n0  2010              72000           1  26.6 km/kg   998 CC  58.16 bhp    5.0   \n1  2015              41000           1  19.67 kmpl  1582 CC  126.2 bhp    5.0   \n2  2011              46000           1   18.2 kmpl  1199 CC   88.7 bhp    5.0   \n3  2012              87000           1  20.77 kmpl  1248 CC  88.76 bhp    7.0   \n4  2013              40670           2   15.2 kmpl  1968 CC  140.8 bhp    5.0   \n\n   Price  Location_Bangalore  Location_Chennai  ...  Location_Hyderabad  \\\n0   1.75                   0                 0  ...                   0   \n1  12.50                   0                 0  ...                   0   \n2   4.50                   0                 1  ...                   0   \n3   6.00                   0                 1  ...                   0   \n4  17.74                   0                 0  ...                   0   \n\n   Location_Jaipur  Location_Kochi  Location_Kolkata  Location_Mumbai  \\\n0                0               0                 0                1   \n1                0               0                 0                0   \n2                0               0                 0                0   \n3                0               0                 0                0   \n4                0               0                 0                0   \n\n   Location_Pune  Fuel_Type_Diesel  Fuel_Type_LPG  Fuel_Type_Petrol  \\\n0              0                 0              0                 0   \n1              1                 1              0                 0   \n2              0                 0              0                 1   \n3              0                 1              0                 0   \n4              0                 1              0                 0   \n\n   Transmission_Manual  \n0                    1  \n1                    1  \n2                    1  \n3                    1  \n4                    0  \n\n[5 rows x 22 columns]",
            "text/html": "<div>\n<style scoped>\n    .dataframe tbody tr th:only-of-type {\n        vertical-align: middle;\n    }\n\n    .dataframe tbody tr th {\n        vertical-align: top;\n    }\n\n    .dataframe thead th {\n        text-align: right;\n    }\n</style>\n<table border=\"1\" class=\"dataframe\">\n  <thead>\n    <tr style=\"text-align: right;\">\n      <th></th>\n      <th>Year</th>\n      <th>Kilometers_Driven</th>\n      <th>Owner_Type</th>\n      <th>Mileage</th>\n      <th>Engine</th>\n      <th>Power</th>\n      <th>Seats</th>\n      <th>Price</th>\n      <th>Location_Bangalore</th>\n      <th>Location_Chennai</th>\n      <th>...</th>\n      <th>Location_Hyderabad</th>\n      <th>Location_Jaipur</th>\n      <th>Location_Kochi</th>\n      <th>Location_Kolkata</th>\n      <th>Location_Mumbai</th>\n      <th>Location_Pune</th>\n      <th>Fuel_Type_Diesel</th>\n      <th>Fuel_Type_LPG</th>\n      <th>Fuel_Type_Petrol</th>\n      <th>Transmission_Manual</th>\n    </tr>\n  </thead>\n  <tbody>\n    <tr>\n      <th>0</th>\n      <td>2010</td>\n      <td>72000</td>\n      <td>1</td>\n      <td>26.6 km/kg</td>\n      <td>998 CC</td>\n      <td>58.16 bhp</td>\n      <td>5.0</td>\n      <td>1.75</td>\n      <td>0</td>\n      <td>0</td>\n      <td>...</td>\n      <td>0</td>\n      <td>0</td>\n      <td>0</td>\n      <td>0</td>\n      <td>1</td>\n      <td>0</td>\n      <td>0</td>\n      <td>0</td>\n      <td>0</td>\n      <td>1</td>\n    </tr>\n    <tr>\n      <th>1</th>\n      <td>2015</td>\n      <td>41000</td>\n      <td>1</td>\n      <td>19.67 kmpl</td>\n      <td>1582 CC</td>\n      <td>126.2 bhp</td>\n      <td>5.0</td>\n      <td>12.50</td>\n      <td>0</td>\n      <td>0</td>\n      <td>...</td>\n      <td>0</td>\n      <td>0</td>\n      <td>0</td>\n      <td>0</td>\n      <td>0</td>\n      <td>1</td>\n      <td>1</td>\n      <td>0</td>\n      <td>0</td>\n      <td>1</td>\n    </tr>\n    <tr>\n      <th>2</th>\n      <td>2011</td>\n      <td>46000</td>\n      <td>1</td>\n      <td>18.2 kmpl</td>\n      <td>1199 CC</td>\n      <td>88.7 bhp</td>\n      <td>5.0</td>\n      <td>4.50</td>\n      <td>0</td>\n      <td>1</td>\n      <td>...</td>\n      <td>0</td>\n      <td>0</td>\n      <td>0</td>\n      <td>0</td>\n      <td>0</td>\n      <td>0</td>\n      <td>0</td>\n      <td>0</td>\n      <td>1</td>\n      <td>1</td>\n    </tr>\n    <tr>\n      <th>3</th>\n      <td>2012</td>\n      <td>87000</td>\n      <td>1</td>\n      <td>20.77 kmpl</td>\n      <td>1248 CC</td>\n      <td>88.76 bhp</td>\n      <td>7.0</td>\n      <td>6.00</td>\n      <td>0</td>\n      <td>1</td>\n      <td>...</td>\n      <td>0</td>\n      <td>0</td>\n      <td>0</td>\n      <td>0</td>\n      <td>0</td>\n      <td>0</td>\n      <td>1</td>\n      <td>0</td>\n      <td>0</td>\n      <td>1</td>\n    </tr>\n    <tr>\n      <th>4</th>\n      <td>2013</td>\n      <td>40670</td>\n      <td>2</td>\n      <td>15.2 kmpl</td>\n      <td>1968 CC</td>\n      <td>140.8 bhp</td>\n      <td>5.0</td>\n      <td>17.74</td>\n      <td>0</td>\n      <td>0</td>\n      <td>...</td>\n      <td>0</td>\n      <td>0</td>\n      <td>0</td>\n      <td>0</td>\n      <td>0</td>\n      <td>0</td>\n      <td>1</td>\n      <td>0</td>\n      <td>0</td>\n      <td>0</td>\n    </tr>\n  </tbody>\n</table>\n<p>5 rows × 22 columns</p>\n</div>"
          },
          "metadata": {}
        }
      ]
    },
    {
      "cell_type": "code",
      "source": [
        "final_train.shape"
      ],
      "metadata": {
        "id": "Ti0r0QJpAqXH",
        "outputId": "882fa771-8bfa-41a5-eea0-556b688a66d1",
        "execution": {
          "iopub.status.busy": "2024-07-08T14:24:22.845609Z",
          "iopub.execute_input": "2024-07-08T14:24:22.845852Z",
          "iopub.status.idle": "2024-07-08T14:24:22.850368Z",
          "shell.execute_reply.started": "2024-07-08T14:24:22.845827Z",
          "shell.execute_reply": "2024-07-08T14:24:22.849648Z"
        },
        "trusted": true
      },
      "execution_count": null,
      "outputs": [
        {
          "execution_count": 93,
          "output_type": "execute_result",
          "data": {
            "text/plain": "(5975, 22)"
          },
          "metadata": {}
        }
      ]
    },
    {
      "cell_type": "code",
      "source": [
        "final_train= pd.concat([train_data,Location,Fuel_t,Transmission],axis=1)\n",
        "final_train.head()"
      ],
      "metadata": {
        "id": "kClhI4fIAqXH",
        "outputId": "278a314c-6ed9-472f-bfe3-0f613e7c9ec8",
        "execution": {
          "iopub.status.busy": "2024-07-08T14:24:22.851656Z",
          "iopub.execute_input": "2024-07-08T14:24:22.851973Z",
          "iopub.status.idle": "2024-07-08T14:24:22.883644Z",
          "shell.execute_reply.started": "2024-07-08T14:24:22.851946Z",
          "shell.execute_reply": "2024-07-08T14:24:22.882811Z"
        },
        "trusted": true
      },
      "execution_count": null,
      "outputs": [
        {
          "execution_count": 94,
          "output_type": "execute_result",
          "data": {
            "text/plain": "     Location  Year  Kilometers_Driven Fuel_Type Transmission  Owner_Type  \\\n0      Mumbai  2010              72000       CNG       Manual           1   \n1        Pune  2015              41000    Diesel       Manual           1   \n2     Chennai  2011              46000    Petrol       Manual           1   \n3     Chennai  2012              87000    Diesel       Manual           1   \n4  Coimbatore  2013              40670    Diesel    Automatic           2   \n\n      Mileage   Engine      Power  Seats  ... Location_Hyderabad  \\\n0  26.6 km/kg   998 CC  58.16 bhp    5.0  ...                  0   \n1  19.67 kmpl  1582 CC  126.2 bhp    5.0  ...                  0   \n2   18.2 kmpl  1199 CC   88.7 bhp    5.0  ...                  0   \n3  20.77 kmpl  1248 CC  88.76 bhp    7.0  ...                  0   \n4   15.2 kmpl  1968 CC  140.8 bhp    5.0  ...                  0   \n\n   Location_Jaipur  Location_Kochi  Location_Kolkata  Location_Mumbai  \\\n0                0               0                 0                1   \n1                0               0                 0                0   \n2                0               0                 0                0   \n3                0               0                 0                0   \n4                0               0                 0                0   \n\n   Location_Pune  Fuel_Type_Diesel  Fuel_Type_LPG  Fuel_Type_Petrol  \\\n0              0                 0              0                 0   \n1              1                 1              0                 0   \n2              0                 0              0                 1   \n3              0                 1              0                 0   \n4              0                 1              0                 0   \n\n   Transmission_Manual  \n0                    1  \n1                    1  \n2                    1  \n3                    1  \n4                    0  \n\n[5 rows x 26 columns]",
            "text/html": "<div>\n<style scoped>\n    .dataframe tbody tr th:only-of-type {\n        vertical-align: middle;\n    }\n\n    .dataframe tbody tr th {\n        vertical-align: top;\n    }\n\n    .dataframe thead th {\n        text-align: right;\n    }\n</style>\n<table border=\"1\" class=\"dataframe\">\n  <thead>\n    <tr style=\"text-align: right;\">\n      <th></th>\n      <th>Location</th>\n      <th>Year</th>\n      <th>Kilometers_Driven</th>\n      <th>Fuel_Type</th>\n      <th>Transmission</th>\n      <th>Owner_Type</th>\n      <th>Mileage</th>\n      <th>Engine</th>\n      <th>Power</th>\n      <th>Seats</th>\n      <th>...</th>\n      <th>Location_Hyderabad</th>\n      <th>Location_Jaipur</th>\n      <th>Location_Kochi</th>\n      <th>Location_Kolkata</th>\n      <th>Location_Mumbai</th>\n      <th>Location_Pune</th>\n      <th>Fuel_Type_Diesel</th>\n      <th>Fuel_Type_LPG</th>\n      <th>Fuel_Type_Petrol</th>\n      <th>Transmission_Manual</th>\n    </tr>\n  </thead>\n  <tbody>\n    <tr>\n      <th>0</th>\n      <td>Mumbai</td>\n      <td>2010</td>\n      <td>72000</td>\n      <td>CNG</td>\n      <td>Manual</td>\n      <td>1</td>\n      <td>26.6 km/kg</td>\n      <td>998 CC</td>\n      <td>58.16 bhp</td>\n      <td>5.0</td>\n      <td>...</td>\n      <td>0</td>\n      <td>0</td>\n      <td>0</td>\n      <td>0</td>\n      <td>1</td>\n      <td>0</td>\n      <td>0</td>\n      <td>0</td>\n      <td>0</td>\n      <td>1</td>\n    </tr>\n    <tr>\n      <th>1</th>\n      <td>Pune</td>\n      <td>2015</td>\n      <td>41000</td>\n      <td>Diesel</td>\n      <td>Manual</td>\n      <td>1</td>\n      <td>19.67 kmpl</td>\n      <td>1582 CC</td>\n      <td>126.2 bhp</td>\n      <td>5.0</td>\n      <td>...</td>\n      <td>0</td>\n      <td>0</td>\n      <td>0</td>\n      <td>0</td>\n      <td>0</td>\n      <td>1</td>\n      <td>1</td>\n      <td>0</td>\n      <td>0</td>\n      <td>1</td>\n    </tr>\n    <tr>\n      <th>2</th>\n      <td>Chennai</td>\n      <td>2011</td>\n      <td>46000</td>\n      <td>Petrol</td>\n      <td>Manual</td>\n      <td>1</td>\n      <td>18.2 kmpl</td>\n      <td>1199 CC</td>\n      <td>88.7 bhp</td>\n      <td>5.0</td>\n      <td>...</td>\n      <td>0</td>\n      <td>0</td>\n      <td>0</td>\n      <td>0</td>\n      <td>0</td>\n      <td>0</td>\n      <td>0</td>\n      <td>0</td>\n      <td>1</td>\n      <td>1</td>\n    </tr>\n    <tr>\n      <th>3</th>\n      <td>Chennai</td>\n      <td>2012</td>\n      <td>87000</td>\n      <td>Diesel</td>\n      <td>Manual</td>\n      <td>1</td>\n      <td>20.77 kmpl</td>\n      <td>1248 CC</td>\n      <td>88.76 bhp</td>\n      <td>7.0</td>\n      <td>...</td>\n      <td>0</td>\n      <td>0</td>\n      <td>0</td>\n      <td>0</td>\n      <td>0</td>\n      <td>0</td>\n      <td>1</td>\n      <td>0</td>\n      <td>0</td>\n      <td>1</td>\n    </tr>\n    <tr>\n      <th>4</th>\n      <td>Coimbatore</td>\n      <td>2013</td>\n      <td>40670</td>\n      <td>Diesel</td>\n      <td>Automatic</td>\n      <td>2</td>\n      <td>15.2 kmpl</td>\n      <td>1968 CC</td>\n      <td>140.8 bhp</td>\n      <td>5.0</td>\n      <td>...</td>\n      <td>0</td>\n      <td>0</td>\n      <td>0</td>\n      <td>0</td>\n      <td>0</td>\n      <td>0</td>\n      <td>1</td>\n      <td>0</td>\n      <td>0</td>\n      <td>0</td>\n    </tr>\n  </tbody>\n</table>\n<p>5 rows × 26 columns</p>\n</div>"
          },
          "metadata": {}
        }
      ]
    },
    {
      "cell_type": "code",
      "source": [
        "final_train.shape"
      ],
      "metadata": {
        "id": "Szx9ECJMAqXH",
        "outputId": "fb9133aa-4ae7-45d3-a158-2e71bf57e80d",
        "execution": {
          "iopub.status.busy": "2024-07-08T14:24:22.884757Z",
          "iopub.execute_input": "2024-07-08T14:24:22.885142Z",
          "iopub.status.idle": "2024-07-08T14:24:22.889699Z",
          "shell.execute_reply.started": "2024-07-08T14:24:22.885106Z",
          "shell.execute_reply": "2024-07-08T14:24:22.888860Z"
        },
        "trusted": true
      },
      "execution_count": null,
      "outputs": [
        {
          "execution_count": 95,
          "output_type": "execute_result",
          "data": {
            "text/plain": "(5975, 26)"
          },
          "metadata": {}
        }
      ]
    },
    {
      "cell_type": "code",
      "source": [
        "test_data.head()"
      ],
      "metadata": {
        "id": "6sDUFeNGAqXH",
        "outputId": "a5fd31ec-c5e5-4d79-a60c-34c26347aa08",
        "execution": {
          "iopub.status.busy": "2024-07-08T14:24:22.890828Z",
          "iopub.execute_input": "2024-07-08T14:24:22.891151Z",
          "iopub.status.idle": "2024-07-08T14:24:22.911000Z",
          "shell.execute_reply.started": "2024-07-08T14:24:22.891123Z",
          "shell.execute_reply": "2024-07-08T14:24:22.910128Z"
        },
        "trusted": true
      },
      "execution_count": null,
      "outputs": [
        {
          "execution_count": 96,
          "output_type": "execute_result",
          "data": {
            "text/plain": "   Unnamed: 0                                       Name    Location  Year  \\\n0           0                    Maruti Alto K10 LXI CNG       Delhi  2014   \n1           1              Maruti Alto 800 2016-2019 LXI  Coimbatore  2013   \n2           2  Toyota Innova Crysta Touring Sport 2.4 MT      Mumbai  2017   \n3           3                       Toyota Etios Liva GD   Hyderabad  2012   \n4           4                          Hyundai i20 Magna      Mumbai  2014   \n\n   Kilometers_Driven Fuel_Type Transmission Owner_Type      Mileage   Engine  \\\n0              40929       CNG       Manual      First  32.26 km/kg   998 CC   \n1              54493    Petrol       Manual     Second    24.7 kmpl   796 CC   \n2              34000    Diesel       Manual      First   13.68 kmpl  2393 CC   \n3             139000    Diesel       Manual      First   23.59 kmpl  1364 CC   \n4              29000    Petrol       Manual      First    18.5 kmpl  1197 CC   \n\n       Power  Seats   New_Price  \n0   58.2 bhp    4.0         NaN  \n1   47.3 bhp    5.0         NaN  \n2  147.8 bhp    7.0  25.27 Lakh  \n3   null bhp    5.0         NaN  \n4  82.85 bhp    5.0         NaN  ",
            "text/html": "<div>\n<style scoped>\n    .dataframe tbody tr th:only-of-type {\n        vertical-align: middle;\n    }\n\n    .dataframe tbody tr th {\n        vertical-align: top;\n    }\n\n    .dataframe thead th {\n        text-align: right;\n    }\n</style>\n<table border=\"1\" class=\"dataframe\">\n  <thead>\n    <tr style=\"text-align: right;\">\n      <th></th>\n      <th>Unnamed: 0</th>\n      <th>Name</th>\n      <th>Location</th>\n      <th>Year</th>\n      <th>Kilometers_Driven</th>\n      <th>Fuel_Type</th>\n      <th>Transmission</th>\n      <th>Owner_Type</th>\n      <th>Mileage</th>\n      <th>Engine</th>\n      <th>Power</th>\n      <th>Seats</th>\n      <th>New_Price</th>\n    </tr>\n  </thead>\n  <tbody>\n    <tr>\n      <th>0</th>\n      <td>0</td>\n      <td>Maruti Alto K10 LXI CNG</td>\n      <td>Delhi</td>\n      <td>2014</td>\n      <td>40929</td>\n      <td>CNG</td>\n      <td>Manual</td>\n      <td>First</td>\n      <td>32.26 km/kg</td>\n      <td>998 CC</td>\n      <td>58.2 bhp</td>\n      <td>4.0</td>\n      <td>NaN</td>\n    </tr>\n    <tr>\n      <th>1</th>\n      <td>1</td>\n      <td>Maruti Alto 800 2016-2019 LXI</td>\n      <td>Coimbatore</td>\n      <td>2013</td>\n      <td>54493</td>\n      <td>Petrol</td>\n      <td>Manual</td>\n      <td>Second</td>\n      <td>24.7 kmpl</td>\n      <td>796 CC</td>\n      <td>47.3 bhp</td>\n      <td>5.0</td>\n      <td>NaN</td>\n    </tr>\n    <tr>\n      <th>2</th>\n      <td>2</td>\n      <td>Toyota Innova Crysta Touring Sport 2.4 MT</td>\n      <td>Mumbai</td>\n      <td>2017</td>\n      <td>34000</td>\n      <td>Diesel</td>\n      <td>Manual</td>\n      <td>First</td>\n      <td>13.68 kmpl</td>\n      <td>2393 CC</td>\n      <td>147.8 bhp</td>\n      <td>7.0</td>\n      <td>25.27 Lakh</td>\n    </tr>\n    <tr>\n      <th>3</th>\n      <td>3</td>\n      <td>Toyota Etios Liva GD</td>\n      <td>Hyderabad</td>\n      <td>2012</td>\n      <td>139000</td>\n      <td>Diesel</td>\n      <td>Manual</td>\n      <td>First</td>\n      <td>23.59 kmpl</td>\n      <td>1364 CC</td>\n      <td>null bhp</td>\n      <td>5.0</td>\n      <td>NaN</td>\n    </tr>\n    <tr>\n      <th>4</th>\n      <td>4</td>\n      <td>Hyundai i20 Magna</td>\n      <td>Mumbai</td>\n      <td>2014</td>\n      <td>29000</td>\n      <td>Petrol</td>\n      <td>Manual</td>\n      <td>First</td>\n      <td>18.5 kmpl</td>\n      <td>1197 CC</td>\n      <td>82.85 bhp</td>\n      <td>5.0</td>\n      <td>NaN</td>\n    </tr>\n  </tbody>\n</table>\n</div>"
          },
          "metadata": {}
        }
      ]
    },
    {
      "cell_type": "code",
      "source": [
        "test_data = test_data.iloc[:,1:]\n",
        "\n",
        "test_data = test_data[test_data['Mileage'].notna()]\n",
        "test_data = test_data[test_data['Engine'].notna()]\n",
        "test_data = test_data[test_data['Power'].notna()]\n",
        "test_data = test_data[test_data['Seats'].notna()]\n",
        "\n",
        "test_data = test_data.reset_index(drop=True)\n",
        "\n",
        "var = 'Location'\n",
        "Location = test_data[[var]]\n",
        "Location = pd.get_dummies(Location,drop_first=True)\n",
        "Location.head()\n",
        "\n",
        "var = 'Fuel_Type'\n",
        "Fuel_t = test_data[[var]]\n",
        "Fuel_t = pd.get_dummies(Fuel_t,drop_first=True)\n",
        "Fuel_t.head()\n",
        "\n",
        "var = 'Transmission'\n",
        "Transmission = test_data[[var]]\n",
        "Transmission = pd.get_dummies(Transmission,drop_first=True)\n",
        "Transmission.head()\n",
        "\n",
        "test_data.replace({\"First\":1,\"Second\":2,\"Third\": 3,\"Fourth & Above\":4},inplace=True)\n",
        "test_data.head()\n",
        "\n",
        "final_test= pd.concat([test_data,Location,Fuel_t,Transmission],axis=1)\n",
        "final_test.head()\n",
        "\n",
        "final_test.drop([\"Location\",\"Fuel_Type\",\"Transmission\",\"New_Price\"],axis=1,inplace=True)\n",
        "final_test.head()\n",
        "\n",
        "print(\"Final Test Size: \",final_test.shape)\n"
      ],
      "metadata": {
        "id": "FEIlnQCdAqXH",
        "outputId": "0bcb62d1-3845-4b24-d906-ee88c8b1411e",
        "execution": {
          "iopub.status.busy": "2024-07-08T14:24:22.912417Z",
          "iopub.execute_input": "2024-07-08T14:24:22.912688Z",
          "iopub.status.idle": "2024-07-08T14:24:22.954574Z",
          "shell.execute_reply.started": "2024-07-08T14:24:22.912661Z",
          "shell.execute_reply": "2024-07-08T14:24:22.953892Z"
        },
        "trusted": true
      },
      "execution_count": null,
      "outputs": [
        {
          "name": "stdout",
          "text": "Final Test Size:  (1223, 22)\n",
          "output_type": "stream"
        }
      ]
    },
    {
      "cell_type": "code",
      "source": [
        "final_test.head()"
      ],
      "metadata": {
        "id": "hR7GcTxHAqXH",
        "outputId": "fe4123bb-b3f5-4a9b-ca00-44bf98dbffd3",
        "execution": {
          "iopub.status.busy": "2024-07-08T14:24:22.955600Z",
          "iopub.execute_input": "2024-07-08T14:24:22.955855Z",
          "iopub.status.idle": "2024-07-08T14:24:22.979630Z",
          "shell.execute_reply.started": "2024-07-08T14:24:22.955830Z",
          "shell.execute_reply": "2024-07-08T14:24:22.978858Z"
        },
        "trusted": true
      },
      "execution_count": null,
      "outputs": [
        {
          "execution_count": 98,
          "output_type": "execute_result",
          "data": {
            "text/plain": "                                        Name  Year  Kilometers_Driven  \\\n0                    Maruti Alto K10 LXI CNG  2014              40929   \n1              Maruti Alto 800 2016-2019 LXI  2013              54493   \n2  Toyota Innova Crysta Touring Sport 2.4 MT  2017              34000   \n3                       Toyota Etios Liva GD  2012             139000   \n4                          Hyundai i20 Magna  2014              29000   \n\n   Owner_Type      Mileage   Engine      Power  Seats  Location_Bangalore  \\\n0           1  32.26 km/kg   998 CC   58.2 bhp    4.0                   0   \n1           2    24.7 kmpl   796 CC   47.3 bhp    5.0                   0   \n2           1   13.68 kmpl  2393 CC  147.8 bhp    7.0                   0   \n3           1   23.59 kmpl  1364 CC   null bhp    5.0                   0   \n4           1    18.5 kmpl  1197 CC  82.85 bhp    5.0                   0   \n\n   Location_Chennai  ...  Location_Hyderabad  Location_Jaipur  Location_Kochi  \\\n0                 0  ...                   0                0               0   \n1                 0  ...                   0                0               0   \n2                 0  ...                   0                0               0   \n3                 0  ...                   1                0               0   \n4                 0  ...                   0                0               0   \n\n   Location_Kolkata  Location_Mumbai  Location_Pune  Fuel_Type_Diesel  \\\n0                 0                0              0                 0   \n1                 0                0              0                 0   \n2                 0                1              0                 1   \n3                 0                0              0                 1   \n4                 0                1              0                 0   \n\n   Fuel_Type_LPG  Fuel_Type_Petrol  Transmission_Manual  \n0              0                 0                    1  \n1              0                 1                    1  \n2              0                 0                    1  \n3              0                 0                    1  \n4              0                 1                    1  \n\n[5 rows x 22 columns]",
            "text/html": "<div>\n<style scoped>\n    .dataframe tbody tr th:only-of-type {\n        vertical-align: middle;\n    }\n\n    .dataframe tbody tr th {\n        vertical-align: top;\n    }\n\n    .dataframe thead th {\n        text-align: right;\n    }\n</style>\n<table border=\"1\" class=\"dataframe\">\n  <thead>\n    <tr style=\"text-align: right;\">\n      <th></th>\n      <th>Name</th>\n      <th>Year</th>\n      <th>Kilometers_Driven</th>\n      <th>Owner_Type</th>\n      <th>Mileage</th>\n      <th>Engine</th>\n      <th>Power</th>\n      <th>Seats</th>\n      <th>Location_Bangalore</th>\n      <th>Location_Chennai</th>\n      <th>...</th>\n      <th>Location_Hyderabad</th>\n      <th>Location_Jaipur</th>\n      <th>Location_Kochi</th>\n      <th>Location_Kolkata</th>\n      <th>Location_Mumbai</th>\n      <th>Location_Pune</th>\n      <th>Fuel_Type_Diesel</th>\n      <th>Fuel_Type_LPG</th>\n      <th>Fuel_Type_Petrol</th>\n      <th>Transmission_Manual</th>\n    </tr>\n  </thead>\n  <tbody>\n    <tr>\n      <th>0</th>\n      <td>Maruti Alto K10 LXI CNG</td>\n      <td>2014</td>\n      <td>40929</td>\n      <td>1</td>\n      <td>32.26 km/kg</td>\n      <td>998 CC</td>\n      <td>58.2 bhp</td>\n      <td>4.0</td>\n      <td>0</td>\n      <td>0</td>\n      <td>...</td>\n      <td>0</td>\n      <td>0</td>\n      <td>0</td>\n      <td>0</td>\n      <td>0</td>\n      <td>0</td>\n      <td>0</td>\n      <td>0</td>\n      <td>0</td>\n      <td>1</td>\n    </tr>\n    <tr>\n      <th>1</th>\n      <td>Maruti Alto 800 2016-2019 LXI</td>\n      <td>2013</td>\n      <td>54493</td>\n      <td>2</td>\n      <td>24.7 kmpl</td>\n      <td>796 CC</td>\n      <td>47.3 bhp</td>\n      <td>5.0</td>\n      <td>0</td>\n      <td>0</td>\n      <td>...</td>\n      <td>0</td>\n      <td>0</td>\n      <td>0</td>\n      <td>0</td>\n      <td>0</td>\n      <td>0</td>\n      <td>0</td>\n      <td>0</td>\n      <td>1</td>\n      <td>1</td>\n    </tr>\n    <tr>\n      <th>2</th>\n      <td>Toyota Innova Crysta Touring Sport 2.4 MT</td>\n      <td>2017</td>\n      <td>34000</td>\n      <td>1</td>\n      <td>13.68 kmpl</td>\n      <td>2393 CC</td>\n      <td>147.8 bhp</td>\n      <td>7.0</td>\n      <td>0</td>\n      <td>0</td>\n      <td>...</td>\n      <td>0</td>\n      <td>0</td>\n      <td>0</td>\n      <td>0</td>\n      <td>1</td>\n      <td>0</td>\n      <td>1</td>\n      <td>0</td>\n      <td>0</td>\n      <td>1</td>\n    </tr>\n    <tr>\n      <th>3</th>\n      <td>Toyota Etios Liva GD</td>\n      <td>2012</td>\n      <td>139000</td>\n      <td>1</td>\n      <td>23.59 kmpl</td>\n      <td>1364 CC</td>\n      <td>null bhp</td>\n      <td>5.0</td>\n      <td>0</td>\n      <td>0</td>\n      <td>...</td>\n      <td>1</td>\n      <td>0</td>\n      <td>0</td>\n      <td>0</td>\n      <td>0</td>\n      <td>0</td>\n      <td>1</td>\n      <td>0</td>\n      <td>0</td>\n      <td>1</td>\n    </tr>\n    <tr>\n      <th>4</th>\n      <td>Hyundai i20 Magna</td>\n      <td>2014</td>\n      <td>29000</td>\n      <td>1</td>\n      <td>18.5 kmpl</td>\n      <td>1197 CC</td>\n      <td>82.85 bhp</td>\n      <td>5.0</td>\n      <td>0</td>\n      <td>0</td>\n      <td>...</td>\n      <td>0</td>\n      <td>0</td>\n      <td>0</td>\n      <td>0</td>\n      <td>1</td>\n      <td>0</td>\n      <td>0</td>\n      <td>0</td>\n      <td>1</td>\n      <td>1</td>\n    </tr>\n  </tbody>\n</table>\n<p>5 rows × 22 columns</p>\n</div>"
          },
          "metadata": {}
        }
      ]
    },
    {
      "cell_type": "code",
      "source": [
        "final_train.columns"
      ],
      "metadata": {
        "id": "NOHo6RTkAqXI",
        "outputId": "64335955-7afe-4f0d-d8a0-057ae35de3c0",
        "execution": {
          "iopub.status.busy": "2024-07-08T14:24:22.981208Z",
          "iopub.execute_input": "2024-07-08T14:24:22.981760Z",
          "iopub.status.idle": "2024-07-08T14:24:22.989324Z",
          "shell.execute_reply.started": "2024-07-08T14:24:22.981711Z",
          "shell.execute_reply": "2024-07-08T14:24:22.988518Z"
        },
        "trusted": true
      },
      "execution_count": null,
      "outputs": [
        {
          "execution_count": 99,
          "output_type": "execute_result",
          "data": {
            "text/plain": "Index(['Location', 'Year', 'Kilometers_Driven', 'Fuel_Type', 'Transmission',\n       'Owner_Type', 'Mileage', 'Engine', 'Power', 'Seats', 'New_Price',\n       'Price', 'Location_Bangalore', 'Location_Chennai',\n       'Location_Coimbatore', 'Location_Delhi', 'Location_Hyderabad',\n       'Location_Jaipur', 'Location_Kochi', 'Location_Kolkata',\n       'Location_Mumbai', 'Location_Pune', 'Fuel_Type_Diesel', 'Fuel_Type_LPG',\n       'Fuel_Type_Petrol', 'Transmission_Manual'],\n      dtype='object')"
          },
          "metadata": {}
        }
      ]
    },
    {
      "cell_type": "code",
      "source": [
        "y = final_train.loc[:,['Price']]\n",
        "y.head()"
      ],
      "metadata": {
        "id": "yvZk47SUAqXI",
        "outputId": "cbb2a828-7fbc-4856-fdb0-9c6e0713ba45",
        "execution": {
          "iopub.status.busy": "2024-07-08T14:24:22.990431Z",
          "iopub.execute_input": "2024-07-08T14:24:22.990700Z",
          "iopub.status.idle": "2024-07-08T14:24:23.005431Z",
          "shell.execute_reply.started": "2024-07-08T14:24:22.990672Z",
          "shell.execute_reply": "2024-07-08T14:24:23.004596Z"
        },
        "trusted": true
      },
      "execution_count": null,
      "outputs": [
        {
          "execution_count": 100,
          "output_type": "execute_result",
          "data": {
            "text/plain": "   Price\n0   1.75\n1  12.50\n2   4.50\n3   6.00\n4  17.74",
            "text/html": "<div>\n<style scoped>\n    .dataframe tbody tr th:only-of-type {\n        vertical-align: middle;\n    }\n\n    .dataframe tbody tr th {\n        vertical-align: top;\n    }\n\n    .dataframe thead th {\n        text-align: right;\n    }\n</style>\n<table border=\"1\" class=\"dataframe\">\n  <thead>\n    <tr style=\"text-align: right;\">\n      <th></th>\n      <th>Price</th>\n    </tr>\n  </thead>\n  <tbody>\n    <tr>\n      <th>0</th>\n      <td>1.75</td>\n    </tr>\n    <tr>\n      <th>1</th>\n      <td>12.50</td>\n    </tr>\n    <tr>\n      <th>2</th>\n      <td>4.50</td>\n    </tr>\n    <tr>\n      <th>3</th>\n      <td>6.00</td>\n    </tr>\n    <tr>\n      <th>4</th>\n      <td>17.74</td>\n    </tr>\n  </tbody>\n</table>\n</div>"
          },
          "metadata": {}
        }
      ]
    },
    {
      "cell_type": "code",
      "source": [
        "X = final_train.loc[:,['Year', 'Kilometers_Driven', 'Owner_Type', 'Seats',\n",
        "       'Location_Bangalore', 'Location_Chennai', 'Location_Coimbatore',\n",
        "       'Location_Delhi', 'Location_Hyderabad', 'Location_Jaipur',\n",
        "       'Location_Kochi', 'Location_Kolkata', 'Location_Mumbai',\n",
        "       'Location_Pune', 'Fuel_Type_Diesel', 'Fuel_Type_LPG',\n",
        "       'Fuel_Type_Petrol', 'Transmission_Manual']]\n",
        "X.shape"
      ],
      "metadata": {
        "id": "0VN4kUy5AqXI",
        "outputId": "02255bd6-9bc5-4cea-a55d-d30089f88315",
        "execution": {
          "iopub.status.busy": "2024-07-08T14:24:23.006847Z",
          "iopub.execute_input": "2024-07-08T14:24:23.007224Z",
          "iopub.status.idle": "2024-07-08T14:24:23.016168Z",
          "shell.execute_reply.started": "2024-07-08T14:24:23.007186Z",
          "shell.execute_reply": "2024-07-08T14:24:23.015173Z"
        },
        "trusted": true
      },
      "execution_count": null,
      "outputs": [
        {
          "execution_count": 101,
          "output_type": "execute_result",
          "data": {
            "text/plain": "(5975, 18)"
          },
          "metadata": {}
        }
      ]
    },
    {
      "cell_type": "code",
      "source": [
        "y = final_train.loc[:,['Price']]\n",
        "y.head()"
      ],
      "metadata": {
        "id": "Krp5Nz17AqXI",
        "outputId": "4a1d362d-73df-427d-a4e9-e27e3bb5cc53",
        "execution": {
          "iopub.status.busy": "2024-07-08T14:24:23.017397Z",
          "iopub.execute_input": "2024-07-08T14:24:23.017702Z",
          "iopub.status.idle": "2024-07-08T14:24:23.029660Z",
          "shell.execute_reply.started": "2024-07-08T14:24:23.017674Z",
          "shell.execute_reply": "2024-07-08T14:24:23.028944Z"
        },
        "trusted": true
      },
      "execution_count": null,
      "outputs": [
        {
          "execution_count": 102,
          "output_type": "execute_result",
          "data": {
            "text/plain": "   Price\n0   1.75\n1  12.50\n2   4.50\n3   6.00\n4  17.74",
            "text/html": "<div>\n<style scoped>\n    .dataframe tbody tr th:only-of-type {\n        vertical-align: middle;\n    }\n\n    .dataframe tbody tr th {\n        vertical-align: top;\n    }\n\n    .dataframe thead th {\n        text-align: right;\n    }\n</style>\n<table border=\"1\" class=\"dataframe\">\n  <thead>\n    <tr style=\"text-align: right;\">\n      <th></th>\n      <th>Price</th>\n    </tr>\n  </thead>\n  <tbody>\n    <tr>\n      <th>0</th>\n      <td>1.75</td>\n    </tr>\n    <tr>\n      <th>1</th>\n      <td>12.50</td>\n    </tr>\n    <tr>\n      <th>2</th>\n      <td>4.50</td>\n    </tr>\n    <tr>\n      <th>3</th>\n      <td>6.00</td>\n    </tr>\n    <tr>\n      <th>4</th>\n      <td>17.74</td>\n    </tr>\n  </tbody>\n</table>\n</div>"
          },
          "metadata": {}
        }
      ]
    },
    {
      "cell_type": "code",
      "source": [
        "from sklearn.ensemble import ExtraTreesRegressor\n",
        "selection= ExtraTreesRegressor()\n",
        "selection.fit(X,y)"
      ],
      "metadata": {
        "id": "dpHTNRoJAqXI",
        "outputId": "6a79ac3e-0b61-4e01-fed2-7bd867a6571a",
        "execution": {
          "iopub.status.busy": "2024-07-08T14:24:23.030645Z",
          "iopub.execute_input": "2024-07-08T14:24:23.030909Z",
          "iopub.status.idle": "2024-07-08T14:24:24.201718Z",
          "shell.execute_reply.started": "2024-07-08T14:24:23.030883Z",
          "shell.execute_reply": "2024-07-08T14:24:24.200775Z"
        },
        "trusted": true
      },
      "execution_count": null,
      "outputs": [
        {
          "name": "stderr",
          "text": "/opt/conda/lib/python3.7/site-packages/ipykernel_launcher.py:3: DataConversionWarning: A column-vector y was passed when a 1d array was expected. Please change the shape of y to (n_samples,), for example using ravel().\n  This is separate from the ipykernel package so we can avoid doing imports until\n",
          "output_type": "stream"
        },
        {
          "execution_count": 103,
          "output_type": "execute_result",
          "data": {
            "text/plain": "ExtraTreesRegressor()"
          },
          "metadata": {}
        }
      ]
    },
    {
      "cell_type": "code",
      "source": [
        "from sklearn.model_selection import train_test_split\n",
        "X_train, X_test, y_train, y_test = train_test_split(X, y, test_size = 0.2, random_state = 25)"
      ],
      "metadata": {
        "id": "CfsuzsUjAqXI",
        "execution": {
          "iopub.status.busy": "2024-07-08T14:24:24.202889Z",
          "iopub.execute_input": "2024-07-08T14:24:24.203201Z",
          "iopub.status.idle": "2024-07-08T14:24:24.212239Z",
          "shell.execute_reply.started": "2024-07-08T14:24:24.203170Z",
          "shell.execute_reply": "2024-07-08T14:24:24.211370Z"
        },
        "trusted": true
      },
      "execution_count": null,
      "outputs": []
    },
    {
      "cell_type": "markdown",
      "source": [
        " Linear Regression"
      ],
      "metadata": {
        "id": "iUjhctUqAqXI"
      }
    },
    {
      "cell_type": "code",
      "source": [
        "from sklearn.linear_model import LinearRegression\n",
        "linear_reg = LinearRegression()\n",
        "linear_reg.fit(X_train, y_train)\n",
        "y_pred= linear_reg.predict(X_test)\n",
        "print(\"Accuracy on Traing set: \",linear_reg.score(X_train,y_train))\n",
        "print(\"Accuracy on Testing set: \",linear_reg.score(X_test,y_test))"
      ],
      "metadata": {
        "id": "wsM6BBWaAqXJ",
        "outputId": "9472810e-bea2-4997-de89-385d1c2063cb",
        "execution": {
          "iopub.status.busy": "2024-07-08T14:24:24.213484Z",
          "iopub.execute_input": "2024-07-08T14:24:24.213865Z",
          "iopub.status.idle": "2024-07-08T14:24:24.273873Z",
          "shell.execute_reply.started": "2024-07-08T14:24:24.213826Z",
          "shell.execute_reply": "2024-07-08T14:24:24.272974Z"
        },
        "trusted": true
      },
      "execution_count": null,
      "outputs": [
        {
          "name": "stdout",
          "text": "Accuracy on Traing set:  0.48371330287141245\nAccuracy on Testing set:  0.07105280579988249\n",
          "output_type": "stream"
        }
      ]
    },
    {
      "cell_type": "markdown",
      "source": [
        "Random Forest Regressor"
      ],
      "metadata": {
        "id": "9SfH70PGAqXP"
      }
    },
    {
      "cell_type": "code",
      "source": [
        "from sklearn.ensemble import RandomForestRegressor\n",
        "rf_reg = RandomForestRegressor()\n",
        "rf_reg.fit(X_train, y_train)\n",
        "y_pred= rf_reg.predict(X_test)\n",
        "print(\"Accuracy on Traing set: \",rf_reg.score(X_train,y_train))\n",
        "print(\"Accuracy on Testing set: \",rf_reg.score(X_test,y_test))"
      ],
      "metadata": {
        "id": "EHRgL8SHAqXP",
        "outputId": "d4d9f526-e0e1-45dc-ab47-97cf93467177",
        "execution": {
          "iopub.status.busy": "2024-07-08T14:24:24.275077Z",
          "iopub.execute_input": "2024-07-08T14:24:24.275449Z",
          "iopub.status.idle": "2024-07-08T14:24:25.683618Z",
          "shell.execute_reply.started": "2024-07-08T14:24:24.275410Z",
          "shell.execute_reply": "2024-07-08T14:24:25.682828Z"
        },
        "trusted": true
      },
      "execution_count": null,
      "outputs": [
        {
          "name": "stderr",
          "text": "/opt/conda/lib/python3.7/site-packages/ipykernel_launcher.py:3: DataConversionWarning: A column-vector y was passed when a 1d array was expected. Please change the shape of y to (n_samples,), for example using ravel().\n  This is separate from the ipykernel package so we can avoid doing imports until\n",
          "output_type": "stream"
        },
        {
          "name": "stdout",
          "text": "Accuracy on Traing set:  0.9448253334504721\nAccuracy on Testing set:  0.5453188961340416\n",
          "output_type": "stream"
        }
      ]
    },
    {
      "cell_type": "code",
      "source": [
        "from sklearn import metrics\n",
        "from sklearn.metrics import mean_squared_error, mean_absolute_error\n",
        "\n",
        "print(\"\\t\\tError Table\")\n",
        "print('Mean Absolute Error      : ', metrics.mean_absolute_error(y_test, y_pred))\n",
        "print('Mean Squared  Error      : ', metrics.mean_squared_error(y_test, y_pred))\n",
        "print('Root Mean Squared  Error : ', np.sqrt(metrics.mean_squared_error(y_test, y_pred)))\n",
        "print('R Squared Error          : ', metrics.r2_score(y_test, y_pred))"
      ],
      "metadata": {
        "id": "gxTNf87IAqXP",
        "outputId": "9e0e2103-dbfd-493f-84c4-74458ab03ba8",
        "execution": {
          "iopub.status.busy": "2024-07-08T14:24:25.684838Z",
          "iopub.execute_input": "2024-07-08T14:24:25.685127Z",
          "iopub.status.idle": "2024-07-08T14:24:25.700139Z",
          "shell.execute_reply.started": "2024-07-08T14:24:25.685094Z",
          "shell.execute_reply": "2024-07-08T14:24:25.699246Z"
        },
        "trusted": true
      },
      "execution_count": null,
      "outputs": [
        {
          "name": "stdout",
          "text": "\t\tError Table\nMean Absolute Error      :  3.5480318451218706\nMean Squared  Error      :  55.35003342582346\nRoot Mean Squared  Error :  7.439760307014162\nR Squared Error          :  0.5453188961340416\n",
          "output_type": "stream"
        }
      ]
    },
    {
      "cell_type": "code",
      "source": [
        "import numpy as np\n",
        "import pandas as pd\n",
        "from sklearn.model_selection import train_test_split\n",
        "from sklearn.preprocessing import StandardScaler\n",
        "from tensorflow.keras.models import Sequential\n",
        "from tensorflow.keras.layers import Dense, Dropout\n",
        "from tensorflow.keras.optimizers import Adam\n",
        "from sklearn import metrics\n",
        "from tensorflow.keras.regularizers import l2\n",
        "\n",
        "# Assuming X_train, X_test, y_train, y_test are already defined and loaded with data\n",
        "\n",
        "scaler = StandardScaler()\n",
        "X_train = scaler.fit_transform(X_train)\n",
        "X_test = scaler.transform(X_test)\n",
        "\n",
        "# Define the neural network model with Dropout layers and L2 regularization\n",
        "model = Sequential()\n",
        "model.add(Dense(128, input_dim=X_train.shape[1], activation='relu', kernel_regularizer=l2(0.001)))\n",
        "model.add(Dropout(0.5))  # Dropout layer to avoid overfitting\n",
        "model.add(Dense(64, activation='relu', kernel_regularizer=l2(0.001)))\n",
        "model.add(Dropout(0.5))  # Dropout layer to avoid overfitting\n",
        "model.add(Dense(32, activation='relu', kernel_regularizer=l2(0.001)))\n",
        "model.add(Dropout(0.5))  # Dropout layer to avoid overfitting\n",
        "model.add(Dense(1))  # Output layer for regression task\n",
        "\n",
        "model.compile(loss='mean_squared_error', optimizer=Adam(learning_rate=0.001), metrics=['mean_squared_error'])\n",
        "\n",
        "history = model.fit(X_train, y_train, epochs=100, batch_size=32, validation_split=0.2, verbose=1)\n",
        "\n",
        "y_pred = model.predict(X_test)\n",
        "\n",
        "train_loss = model.evaluate(X_train, y_train, verbose=0)\n",
        "test_loss = model.evaluate(X_test, y_test, verbose=0)\n",
        "\n",
        "print(\"Accuracy on Training set:\", 1 - train_loss[0])\n",
        "print(\"Accuracy on Testing set:\", 1 - test_loss[0])\n",
        "\n",
        "print(\"\\t\\tError Table\")\n",
        "print('Mean Absolute Error      : ', metrics.mean_absolute_error(y_test, y_pred))\n",
        "print('Mean Squared  Error      : ', metrics.mean_squared_error(y_test, y_pred))\n",
        "print('Root Mean Squared  Error : ', np.sqrt(metrics.mean_squared_error(y_test, y_pred)))\n",
        "print('R Squared Error          : ', metrics.r2_score(y_test, y_pred))\n"
      ],
      "metadata": {
        "id": "foSUToEcAqXP",
        "outputId": "832a65a3-f4f4-4d6d-d56d-04b9cf6ccb17",
        "execution": {
          "iopub.status.busy": "2024-07-08T14:26:46.376768Z",
          "iopub.execute_input": "2024-07-08T14:26:46.377172Z",
          "iopub.status.idle": "2024-07-08T14:27:20.120964Z",
          "shell.execute_reply.started": "2024-07-08T14:26:46.377116Z",
          "shell.execute_reply": "2024-07-08T14:27:20.120188Z"
        },
        "trusted": true
      },
      "execution_count": null,
      "outputs": [
        {
          "name": "stdout",
          "text": "Epoch 1/100\n120/120 [==============================] - 0s 3ms/step - loss: 140.6737 - mean_squared_error: 140.5090 - val_loss: 75.6961 - val_mean_squared_error: 75.5275\nEpoch 2/100\n120/120 [==============================] - 0s 3ms/step - loss: 80.2811 - mean_squared_error: 80.1113 - val_loss: 60.2951 - val_mean_squared_error: 60.1244\nEpoch 3/100\n120/120 [==============================] - 0s 3ms/step - loss: 76.6705 - mean_squared_error: 76.4999 - val_loss: 55.1415 - val_mean_squared_error: 54.9698\nEpoch 4/100\n120/120 [==============================] - 0s 3ms/step - loss: 75.3770 - mean_squared_error: 75.2054 - val_loss: 63.3140 - val_mean_squared_error: 63.1431\nEpoch 5/100\n120/120 [==============================] - 0s 3ms/step - loss: 73.3351 - mean_squared_error: 73.1636 - val_loss: 58.3990 - val_mean_squared_error: 58.2275\nEpoch 6/100\n120/120 [==============================] - 0s 3ms/step - loss: 71.2551 - mean_squared_error: 71.0827 - val_loss: 53.3609 - val_mean_squared_error: 53.1880\nEpoch 7/100\n120/120 [==============================] - 0s 3ms/step - loss: 69.0406 - mean_squared_error: 68.8678 - val_loss: 52.5508 - val_mean_squared_error: 52.3775\nEpoch 8/100\n120/120 [==============================] - 0s 3ms/step - loss: 68.0336 - mean_squared_error: 67.8603 - val_loss: 50.6846 - val_mean_squared_error: 50.5106\nEpoch 9/100\n120/120 [==============================] - 0s 3ms/step - loss: 65.4930 - mean_squared_error: 65.3183 - val_loss: 57.6728 - val_mean_squared_error: 57.4984\nEpoch 10/100\n120/120 [==============================] - 0s 3ms/step - loss: 64.4372 - mean_squared_error: 64.2619 - val_loss: 53.3062 - val_mean_squared_error: 53.1309\nEpoch 11/100\n120/120 [==============================] - 0s 3ms/step - loss: 67.0040 - mean_squared_error: 66.8283 - val_loss: 49.7579 - val_mean_squared_error: 49.5816\nEpoch 12/100\n120/120 [==============================] - 0s 3ms/step - loss: 63.8413 - mean_squared_error: 63.6649 - val_loss: 50.2870 - val_mean_squared_error: 50.1100\nEpoch 13/100\n120/120 [==============================] - 0s 3ms/step - loss: 65.1526 - mean_squared_error: 64.9751 - val_loss: 53.0888 - val_mean_squared_error: 52.9113\nEpoch 14/100\n120/120 [==============================] - 0s 3ms/step - loss: 62.3749 - mean_squared_error: 62.1966 - val_loss: 51.6438 - val_mean_squared_error: 51.4656\nEpoch 15/100\n120/120 [==============================] - 0s 3ms/step - loss: 61.6884 - mean_squared_error: 61.5098 - val_loss: 53.1668 - val_mean_squared_error: 52.9880\nEpoch 16/100\n120/120 [==============================] - 0s 3ms/step - loss: 59.7120 - mean_squared_error: 59.5324 - val_loss: 49.0060 - val_mean_squared_error: 48.8261\nEpoch 17/100\n120/120 [==============================] - 0s 3ms/step - loss: 60.4321 - mean_squared_error: 60.2519 - val_loss: 54.4287 - val_mean_squared_error: 54.2488\nEpoch 18/100\n120/120 [==============================] - 0s 3ms/step - loss: 58.6099 - mean_squared_error: 58.4289 - val_loss: 49.5762 - val_mean_squared_error: 49.3945\nEpoch 19/100\n120/120 [==============================] - 0s 3ms/step - loss: 58.6393 - mean_squared_error: 58.4573 - val_loss: 51.8370 - val_mean_squared_error: 51.6551\nEpoch 20/100\n120/120 [==============================] - 0s 3ms/step - loss: 60.6695 - mean_squared_error: 60.4870 - val_loss: 47.4289 - val_mean_squared_error: 47.2463\nEpoch 21/100\n120/120 [==============================] - 0s 3ms/step - loss: 59.6948 - mean_squared_error: 59.5121 - val_loss: 47.9584 - val_mean_squared_error: 47.7751\nEpoch 22/100\n120/120 [==============================] - 0s 3ms/step - loss: 59.9227 - mean_squared_error: 59.7390 - val_loss: 48.5583 - val_mean_squared_error: 48.3743\nEpoch 23/100\n120/120 [==============================] - 0s 3ms/step - loss: 58.4229 - mean_squared_error: 58.2386 - val_loss: 46.9852 - val_mean_squared_error: 46.8003\nEpoch 24/100\n120/120 [==============================] - 0s 3ms/step - loss: 56.0985 - mean_squared_error: 55.9126 - val_loss: 48.0433 - val_mean_squared_error: 47.8570\nEpoch 25/100\n120/120 [==============================] - 0s 3ms/step - loss: 57.6641 - mean_squared_error: 57.4771 - val_loss: 50.9195 - val_mean_squared_error: 50.7323\nEpoch 26/100\n120/120 [==============================] - 0s 3ms/step - loss: 59.1591 - mean_squared_error: 58.9716 - val_loss: 48.5429 - val_mean_squared_error: 48.3548\nEpoch 27/100\n120/120 [==============================] - 0s 3ms/step - loss: 55.3872 - mean_squared_error: 55.1981 - val_loss: 46.2713 - val_mean_squared_error: 46.0813\nEpoch 28/100\n120/120 [==============================] - 0s 3ms/step - loss: 59.0719 - mean_squared_error: 58.8815 - val_loss: 49.6502 - val_mean_squared_error: 49.4596\nEpoch 29/100\n120/120 [==============================] - 0s 3ms/step - loss: 54.9021 - mean_squared_error: 54.7111 - val_loss: 48.6504 - val_mean_squared_error: 48.4587\nEpoch 30/100\n120/120 [==============================] - 0s 3ms/step - loss: 59.3239 - mean_squared_error: 59.1317 - val_loss: 47.6736 - val_mean_squared_error: 47.4811\nEpoch 31/100\n120/120 [==============================] - 0s 3ms/step - loss: 55.1213 - mean_squared_error: 54.9278 - val_loss: 47.3002 - val_mean_squared_error: 47.1059\nEpoch 32/100\n120/120 [==============================] - 0s 3ms/step - loss: 53.8519 - mean_squared_error: 53.6567 - val_loss: 48.8105 - val_mean_squared_error: 48.6152\nEpoch 33/100\n120/120 [==============================] - 0s 3ms/step - loss: 54.6231 - mean_squared_error: 54.4272 - val_loss: 48.7698 - val_mean_squared_error: 48.5736\nEpoch 34/100\n120/120 [==============================] - 0s 3ms/step - loss: 63.2432 - mean_squared_error: 63.0471 - val_loss: 49.7869 - val_mean_squared_error: 49.5911\nEpoch 35/100\n120/120 [==============================] - 0s 3ms/step - loss: 55.8598 - mean_squared_error: 55.6633 - val_loss: 49.0686 - val_mean_squared_error: 48.8713\nEpoch 36/100\n120/120 [==============================] - 0s 3ms/step - loss: 53.8523 - mean_squared_error: 53.6545 - val_loss: 46.7565 - val_mean_squared_error: 46.5581\nEpoch 37/100\n120/120 [==============================] - 0s 3ms/step - loss: 54.8430 - mean_squared_error: 54.6437 - val_loss: 50.3742 - val_mean_squared_error: 50.1755\nEpoch 38/100\n120/120 [==============================] - 0s 3ms/step - loss: 53.6028 - mean_squared_error: 53.4029 - val_loss: 44.4249 - val_mean_squared_error: 44.2242\nEpoch 39/100\n120/120 [==============================] - 0s 3ms/step - loss: 55.2564 - mean_squared_error: 55.0551 - val_loss: 50.7720 - val_mean_squared_error: 50.5701\nEpoch 40/100\n120/120 [==============================] - 0s 3ms/step - loss: 53.8812 - mean_squared_error: 53.6782 - val_loss: 48.9866 - val_mean_squared_error: 48.7833\nEpoch 41/100\n120/120 [==============================] - 0s 3ms/step - loss: 55.2198 - mean_squared_error: 55.0158 - val_loss: 47.2943 - val_mean_squared_error: 47.0900\nEpoch 42/100\n120/120 [==============================] - 0s 3ms/step - loss: 53.7722 - mean_squared_error: 53.5676 - val_loss: 48.0970 - val_mean_squared_error: 47.8923\nEpoch 43/100\n120/120 [==============================] - 0s 3ms/step - loss: 52.4606 - mean_squared_error: 52.2548 - val_loss: 46.2623 - val_mean_squared_error: 46.0557\nEpoch 44/100\n120/120 [==============================] - 0s 3ms/step - loss: 51.2997 - mean_squared_error: 51.0925 - val_loss: 48.2985 - val_mean_squared_error: 48.0906\nEpoch 45/100\n120/120 [==============================] - 0s 3ms/step - loss: 56.1029 - mean_squared_error: 55.8949 - val_loss: 47.2247 - val_mean_squared_error: 47.0163\nEpoch 46/100\n120/120 [==============================] - 0s 3ms/step - loss: 53.1085 - mean_squared_error: 52.9001 - val_loss: 51.0508 - val_mean_squared_error: 50.8426\nEpoch 47/100\n120/120 [==============================] - 0s 3ms/step - loss: 50.9229 - mean_squared_error: 50.7134 - val_loss: 45.1417 - val_mean_squared_error: 44.9315\nEpoch 48/100\n120/120 [==============================] - 0s 3ms/step - loss: 51.8412 - mean_squared_error: 51.6295 - val_loss: 47.9774 - val_mean_squared_error: 47.7647\nEpoch 49/100\n120/120 [==============================] - 0s 3ms/step - loss: 50.8800 - mean_squared_error: 50.6666 - val_loss: 43.6579 - val_mean_squared_error: 43.4435\nEpoch 50/100\n120/120 [==============================] - 0s 3ms/step - loss: 47.9289 - mean_squared_error: 47.7146 - val_loss: 44.7883 - val_mean_squared_error: 44.5735\nEpoch 51/100\n120/120 [==============================] - 0s 3ms/step - loss: 48.5597 - mean_squared_error: 48.3446 - val_loss: 47.3005 - val_mean_squared_error: 47.0848\nEpoch 52/100\n120/120 [==============================] - 0s 3ms/step - loss: 51.3661 - mean_squared_error: 51.1492 - val_loss: 49.0945 - val_mean_squared_error: 48.8763\nEpoch 53/100\n120/120 [==============================] - 0s 3ms/step - loss: 53.0523 - mean_squared_error: 52.8332 - val_loss: 52.9360 - val_mean_squared_error: 52.7175\nEpoch 54/100\n120/120 [==============================] - 0s 3ms/step - loss: 53.3714 - mean_squared_error: 53.1521 - val_loss: 48.8255 - val_mean_squared_error: 48.6060\nEpoch 55/100\n120/120 [==============================] - 0s 3ms/step - loss: 49.4648 - mean_squared_error: 49.2431 - val_loss: 44.5878 - val_mean_squared_error: 44.3647\nEpoch 56/100\n120/120 [==============================] - 0s 3ms/step - loss: 51.9056 - mean_squared_error: 51.6830 - val_loss: 50.4800 - val_mean_squared_error: 50.2578\nEpoch 57/100\n120/120 [==============================] - 0s 3ms/step - loss: 51.1432 - mean_squared_error: 50.9194 - val_loss: 48.0323 - val_mean_squared_error: 47.8084\nEpoch 58/100\n120/120 [==============================] - 0s 3ms/step - loss: 53.2055 - mean_squared_error: 52.9813 - val_loss: 48.4036 - val_mean_squared_error: 48.1791\nEpoch 59/100\n120/120 [==============================] - 0s 3ms/step - loss: 49.6498 - mean_squared_error: 49.4247 - val_loss: 48.2023 - val_mean_squared_error: 47.9761\nEpoch 60/100\n120/120 [==============================] - 0s 3ms/step - loss: 52.6339 - mean_squared_error: 52.4069 - val_loss: 47.6611 - val_mean_squared_error: 47.4339\nEpoch 61/100\n120/120 [==============================] - 0s 3ms/step - loss: 51.9922 - mean_squared_error: 51.7644 - val_loss: 48.0061 - val_mean_squared_error: 47.7776\nEpoch 62/100\n120/120 [==============================] - 0s 3ms/step - loss: 48.8369 - mean_squared_error: 48.6071 - val_loss: 44.9044 - val_mean_squared_error: 44.6737\nEpoch 63/100\n120/120 [==============================] - 0s 3ms/step - loss: 52.4288 - mean_squared_error: 52.1980 - val_loss: 52.0025 - val_mean_squared_error: 51.7710\nEpoch 64/100\n120/120 [==============================] - 0s 3ms/step - loss: 49.0933 - mean_squared_error: 48.8604 - val_loss: 47.7321 - val_mean_squared_error: 47.4979\nEpoch 65/100\n120/120 [==============================] - 0s 3ms/step - loss: 50.2294 - mean_squared_error: 49.9942 - val_loss: 47.7338 - val_mean_squared_error: 47.4977\nEpoch 66/100\n120/120 [==============================] - 0s 3ms/step - loss: 48.6730 - mean_squared_error: 48.4361 - val_loss: 45.5703 - val_mean_squared_error: 45.3316\nEpoch 67/100\n120/120 [==============================] - 0s 3ms/step - loss: 45.8527 - mean_squared_error: 45.6127 - val_loss: 46.8881 - val_mean_squared_error: 46.6470\nEpoch 68/100\n120/120 [==============================] - 0s 3ms/step - loss: 53.2316 - mean_squared_error: 52.9900 - val_loss: 46.8703 - val_mean_squared_error: 46.6279\nEpoch 69/100\n120/120 [==============================] - 0s 3ms/step - loss: 49.8032 - mean_squared_error: 49.5606 - val_loss: 48.9712 - val_mean_squared_error: 48.7287\nEpoch 70/100\n120/120 [==============================] - 0s 3ms/step - loss: 47.3076 - mean_squared_error: 47.0633 - val_loss: 46.4870 - val_mean_squared_error: 46.2414\nEpoch 71/100\n120/120 [==============================] - 0s 3ms/step - loss: 48.7522 - mean_squared_error: 48.5057 - val_loss: 44.6502 - val_mean_squared_error: 44.4016\nEpoch 72/100\n120/120 [==============================] - 0s 3ms/step - loss: 49.9733 - mean_squared_error: 49.7244 - val_loss: 49.2355 - val_mean_squared_error: 48.9864\nEpoch 73/100\n120/120 [==============================] - 0s 3ms/step - loss: 52.1713 - mean_squared_error: 51.9218 - val_loss: 47.3201 - val_mean_squared_error: 47.0709\nEpoch 74/100\n120/120 [==============================] - 0s 3ms/step - loss: 47.9926 - mean_squared_error: 47.7434 - val_loss: 46.5612 - val_mean_squared_error: 46.3113\nEpoch 75/100\n120/120 [==============================] - 0s 3ms/step - loss: 48.2883 - mean_squared_error: 48.0374 - val_loss: 46.8722 - val_mean_squared_error: 46.6200\nEpoch 76/100\n120/120 [==============================] - 0s 3ms/step - loss: 49.0375 - mean_squared_error: 48.7849 - val_loss: 44.3847 - val_mean_squared_error: 44.1302\nEpoch 77/100\n120/120 [==============================] - 0s 3ms/step - loss: 48.9497 - mean_squared_error: 48.6946 - val_loss: 51.2532 - val_mean_squared_error: 50.9987\nEpoch 78/100\n120/120 [==============================] - 0s 3ms/step - loss: 47.9978 - mean_squared_error: 47.7418 - val_loss: 52.0219 - val_mean_squared_error: 51.7651\nEpoch 79/100\n120/120 [==============================] - 0s 3ms/step - loss: 52.4491 - mean_squared_error: 52.1903 - val_loss: 50.7161 - val_mean_squared_error: 50.4569\nEpoch 80/100\n120/120 [==============================] - 0s 3ms/step - loss: 50.5381 - mean_squared_error: 50.2782 - val_loss: 50.4028 - val_mean_squared_error: 50.1421\nEpoch 81/100\n120/120 [==============================] - 0s 3ms/step - loss: 49.8564 - mean_squared_error: 49.5946 - val_loss: 48.9793 - val_mean_squared_error: 48.7172\nEpoch 82/100\n120/120 [==============================] - 0s 3ms/step - loss: 48.0327 - mean_squared_error: 47.7698 - val_loss: 47.2186 - val_mean_squared_error: 46.9549\nEpoch 83/100\n120/120 [==============================] - 0s 3ms/step - loss: 45.2710 - mean_squared_error: 45.0067 - val_loss: 48.4628 - val_mean_squared_error: 48.1984\nEpoch 84/100\n120/120 [==============================] - 0s 3ms/step - loss: 49.8923 - mean_squared_error: 49.6265 - val_loss: 52.2144 - val_mean_squared_error: 51.9485\nEpoch 85/100\n120/120 [==============================] - 0s 3ms/step - loss: 49.8929 - mean_squared_error: 49.6254 - val_loss: 48.4731 - val_mean_squared_error: 48.2047\nEpoch 86/100\n120/120 [==============================] - 0s 3ms/step - loss: 51.3955 - mean_squared_error: 51.1271 - val_loss: 44.2316 - val_mean_squared_error: 43.9620\nEpoch 87/100\n120/120 [==============================] - 0s 3ms/step - loss: 50.2101 - mean_squared_error: 49.9403 - val_loss: 49.3008 - val_mean_squared_error: 49.0307\nEpoch 88/100\n120/120 [==============================] - 0s 3ms/step - loss: 46.7014 - mean_squared_error: 46.4304 - val_loss: 45.4377 - val_mean_squared_error: 45.1649\nEpoch 89/100\n120/120 [==============================] - 0s 3ms/step - loss: 48.7840 - mean_squared_error: 48.5091 - val_loss: 47.0897 - val_mean_squared_error: 46.8139\nEpoch 90/100\n120/120 [==============================] - 1s 5ms/step - loss: 52.3875 - mean_squared_error: 52.1119 - val_loss: 50.4553 - val_mean_squared_error: 50.1810\nEpoch 91/100\n120/120 [==============================] - 0s 3ms/step - loss: 47.7230 - mean_squared_error: 47.4462 - val_loss: 48.6787 - val_mean_squared_error: 48.4006\nEpoch 92/100\n120/120 [==============================] - 0s 3ms/step - loss: 49.0136 - mean_squared_error: 48.7346 - val_loss: 48.0475 - val_mean_squared_error: 47.7679\nEpoch 93/100\n120/120 [==============================] - 0s 3ms/step - loss: 49.6168 - mean_squared_error: 49.3373 - val_loss: 46.4017 - val_mean_squared_error: 46.1216\nEpoch 94/100\n120/120 [==============================] - 0s 3ms/step - loss: 49.7216 - mean_squared_error: 49.4404 - val_loss: 44.6831 - val_mean_squared_error: 44.3993\nEpoch 95/100\n120/120 [==============================] - 0s 3ms/step - loss: 47.0668 - mean_squared_error: 46.7826 - val_loss: 49.2305 - val_mean_squared_error: 48.9465\nEpoch 96/100\n120/120 [==============================] - 0s 3ms/step - loss: 47.0233 - mean_squared_error: 46.7376 - val_loss: 52.3842 - val_mean_squared_error: 52.0982\nEpoch 97/100\n120/120 [==============================] - 0s 3ms/step - loss: 54.6514 - mean_squared_error: 54.3660 - val_loss: 50.1835 - val_mean_squared_error: 49.8975\nEpoch 98/100\n120/120 [==============================] - 0s 3ms/step - loss: 49.0298 - mean_squared_error: 48.7421 - val_loss: 47.2180 - val_mean_squared_error: 46.9283\nEpoch 99/100\n120/120 [==============================] - 0s 3ms/step - loss: 49.4229 - mean_squared_error: 49.1321 - val_loss: 49.5576 - val_mean_squared_error: 49.2660\nEpoch 100/100\n120/120 [==============================] - 0s 3ms/step - loss: 45.5291 - mean_squared_error: 45.2355 - val_loss: 52.2354 - val_mean_squared_error: 51.9426\nAccuracy on Training set: -41.5347785949707\nAccuracy on Testing set: -59.18058395385742\n\t\tError Table\nMean Absolute Error      :  3.609532851039615\nMean Squared  Error      :  59.88777014744702\nRoot Mean Squared  Error :  7.738718895750576\nR Squared Error          :  0.5080429811265847\n",
          "output_type": "stream"
        }
      ]
    }
  ]
}