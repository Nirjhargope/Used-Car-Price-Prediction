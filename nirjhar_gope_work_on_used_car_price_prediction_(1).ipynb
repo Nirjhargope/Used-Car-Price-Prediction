{
  "metadata": {
    "kernelspec": {
      "language": "python",
      "display_name": "Python 3",
      "name": "python3"
    },
    "language_info": {
      "name": "python",
      "version": "3.7.6",
      "mimetype": "text/x-python",
      "codemirror_mode": {
        "name": "ipython",
        "version": 3
      },
      "pygments_lexer": "ipython3",
      "nbconvert_exporter": "python",
      "file_extension": ".py"
    },
    "kaggle": {
      "accelerator": "gpu",
      "dataSources": [
        {
          "sourceId": 518431,
          "sourceType": "datasetVersion",
          "datasetId": 245550
        }
      ],
      "dockerImageVersionId": 29974,
      "isInternetEnabled": true,
      "language": "python",
      "sourceType": "notebook",
      "isGpuEnabled": true
    },
    "colab": {
      "provenance": [],
      "include_colab_link": true
    }
  },
  "nbformat_minor": 0,
  "nbformat": 4,
  "cells": [
    {
      "cell_type": "markdown",
      "metadata": {
        "id": "view-in-github",
        "colab_type": "text"
      },
      "source": [
        "<a href=\"https://colab.research.google.com/github/Nirjhargope/Used-Car-Price-Prediction/blob/main/nirjhar_gope_work_on_used_car_price_prediction_(1).ipynb\" target=\"_parent\"><img src=\"https://colab.research.google.com/assets/colab-badge.svg\" alt=\"Open In Colab\"/></a>"
      ]
    },
    {
      "cell_type": "code",
      "source": [
        "import numpy as np\n",
        "import pandas as pd\n",
        "import matplotlib.pyplot as plt\n",
        "import seaborn as sns\n",
        "sns.set()"
      ],
      "metadata": {
        "execution": {
          "iopub.status.busy": "2024-06-10T11:24:44.495226Z",
          "iopub.execute_input": "2024-06-10T11:24:44.495745Z",
          "iopub.status.idle": "2024-06-10T11:24:45.117358Z",
          "shell.execute_reply.started": "2024-06-10T11:24:44.495671Z",
          "shell.execute_reply": "2024-06-10T11:24:45.116666Z"
        },
        "trusted": true,
        "id": "fch6-ML2AqXB"
      },
      "execution_count": null,
      "outputs": []
    },
    {
      "cell_type": "code",
      "source": [
        "train_data = pd.read_csv('../input/used-cars-price-prediction/train-data.csv')\n",
        "test_data = pd.read_csv('../input/used-cars-price-prediction/test-data.csv')"
      ],
      "metadata": {
        "_uuid": "8f2839f25d086af736a60e9eeb907d3b93b6e0e5",
        "_cell_guid": "b1076dfc-b9ad-4769-8c92-a6c4dae69d19",
        "execution": {
          "iopub.status.busy": "2024-06-10T11:24:45.119249Z",
          "iopub.execute_input": "2024-06-10T11:24:45.119523Z",
          "iopub.status.idle": "2024-06-10T11:24:45.169869Z",
          "shell.execute_reply.started": "2024-06-10T11:24:45.119498Z",
          "shell.execute_reply": "2024-06-10T11:24:45.169138Z"
        },
        "trusted": true,
        "id": "nIA2ErMkAqXC"
      },
      "execution_count": null,
      "outputs": []
    },
    {
      "cell_type": "code",
      "source": [
        "train_data.info()"
      ],
      "metadata": {
        "_uuid": "d629ff2d2480ee46fbb7e2d37f6b5fab8052498a",
        "_cell_guid": "79c7e3d0-c299-4dcb-8224-4455121ee9b0",
        "execution": {
          "iopub.status.busy": "2024-06-10T11:24:45.171121Z",
          "iopub.execute_input": "2024-06-10T11:24:45.171401Z",
          "iopub.status.idle": "2024-06-10T11:24:45.192687Z",
          "shell.execute_reply.started": "2024-06-10T11:24:45.171373Z",
          "shell.execute_reply": "2024-06-10T11:24:45.191909Z"
        },
        "trusted": true,
        "id": "q-p3gpxcAqXC",
        "outputId": "82692bdc-e47d-470d-aa53-a452b42d6303"
      },
      "execution_count": null,
      "outputs": [
        {
          "name": "stdout",
          "text": "<class 'pandas.core.frame.DataFrame'>\nRangeIndex: 6019 entries, 0 to 6018\nData columns (total 14 columns):\n #   Column             Non-Null Count  Dtype  \n---  ------             --------------  -----  \n 0   Unnamed: 0         6019 non-null   int64  \n 1   Name               6019 non-null   object \n 2   Location           6019 non-null   object \n 3   Year               6019 non-null   int64  \n 4   Kilometers_Driven  6019 non-null   int64  \n 5   Fuel_Type          6019 non-null   object \n 6   Transmission       6019 non-null   object \n 7   Owner_Type         6019 non-null   object \n 8   Mileage            6017 non-null   object \n 9   Engine             5983 non-null   object \n 10  Power              5983 non-null   object \n 11  Seats              5977 non-null   float64\n 12  New_Price          824 non-null    object \n 13  Price              6019 non-null   float64\ndtypes: float64(2), int64(3), object(9)\nmemory usage: 658.5+ KB\n",
          "output_type": "stream"
        }
      ]
    },
    {
      "cell_type": "code",
      "source": [
        "train_data = train_data.iloc[:,1:]\n",
        "train_data.head()"
      ],
      "metadata": {
        "execution": {
          "iopub.status.busy": "2024-06-10T11:24:45.193747Z",
          "iopub.execute_input": "2024-06-10T11:24:45.194022Z",
          "iopub.status.idle": "2024-06-10T11:24:45.218348Z",
          "shell.execute_reply.started": "2024-06-10T11:24:45.193996Z",
          "shell.execute_reply": "2024-06-10T11:24:45.217664Z"
        },
        "trusted": true,
        "id": "R5PbG_6OAqXD",
        "outputId": "f8444130-6b83-4406-ffb3-81b22814ed36"
      },
      "execution_count": null,
      "outputs": [
        {
          "execution_count": 4,
          "output_type": "execute_result",
          "data": {
            "text/plain": "                               Name    Location  Year  Kilometers_Driven  \\\n0            Maruti Wagon R LXI CNG      Mumbai  2010              72000   \n1  Hyundai Creta 1.6 CRDi SX Option        Pune  2015              41000   \n2                      Honda Jazz V     Chennai  2011              46000   \n3                 Maruti Ertiga VDI     Chennai  2012              87000   \n4   Audi A4 New 2.0 TDI Multitronic  Coimbatore  2013              40670   \n\n  Fuel_Type Transmission Owner_Type     Mileage   Engine      Power  Seats  \\\n0       CNG       Manual      First  26.6 km/kg   998 CC  58.16 bhp    5.0   \n1    Diesel       Manual      First  19.67 kmpl  1582 CC  126.2 bhp    5.0   \n2    Petrol       Manual      First   18.2 kmpl  1199 CC   88.7 bhp    5.0   \n3    Diesel       Manual      First  20.77 kmpl  1248 CC  88.76 bhp    7.0   \n4    Diesel    Automatic     Second   15.2 kmpl  1968 CC  140.8 bhp    5.0   \n\n   New_Price  Price  \n0        NaN   1.75  \n1        NaN  12.50  \n2  8.61 Lakh   4.50  \n3        NaN   6.00  \n4        NaN  17.74  ",
            "text/html": "<div>\n<style scoped>\n    .dataframe tbody tr th:only-of-type {\n        vertical-align: middle;\n    }\n\n    .dataframe tbody tr th {\n        vertical-align: top;\n    }\n\n    .dataframe thead th {\n        text-align: right;\n    }\n</style>\n<table border=\"1\" class=\"dataframe\">\n  <thead>\n    <tr style=\"text-align: right;\">\n      <th></th>\n      <th>Name</th>\n      <th>Location</th>\n      <th>Year</th>\n      <th>Kilometers_Driven</th>\n      <th>Fuel_Type</th>\n      <th>Transmission</th>\n      <th>Owner_Type</th>\n      <th>Mileage</th>\n      <th>Engine</th>\n      <th>Power</th>\n      <th>Seats</th>\n      <th>New_Price</th>\n      <th>Price</th>\n    </tr>\n  </thead>\n  <tbody>\n    <tr>\n      <th>0</th>\n      <td>Maruti Wagon R LXI CNG</td>\n      <td>Mumbai</td>\n      <td>2010</td>\n      <td>72000</td>\n      <td>CNG</td>\n      <td>Manual</td>\n      <td>First</td>\n      <td>26.6 km/kg</td>\n      <td>998 CC</td>\n      <td>58.16 bhp</td>\n      <td>5.0</td>\n      <td>NaN</td>\n      <td>1.75</td>\n    </tr>\n    <tr>\n      <th>1</th>\n      <td>Hyundai Creta 1.6 CRDi SX Option</td>\n      <td>Pune</td>\n      <td>2015</td>\n      <td>41000</td>\n      <td>Diesel</td>\n      <td>Manual</td>\n      <td>First</td>\n      <td>19.67 kmpl</td>\n      <td>1582 CC</td>\n      <td>126.2 bhp</td>\n      <td>5.0</td>\n      <td>NaN</td>\n      <td>12.50</td>\n    </tr>\n    <tr>\n      <th>2</th>\n      <td>Honda Jazz V</td>\n      <td>Chennai</td>\n      <td>2011</td>\n      <td>46000</td>\n      <td>Petrol</td>\n      <td>Manual</td>\n      <td>First</td>\n      <td>18.2 kmpl</td>\n      <td>1199 CC</td>\n      <td>88.7 bhp</td>\n      <td>5.0</td>\n      <td>8.61 Lakh</td>\n      <td>4.50</td>\n    </tr>\n    <tr>\n      <th>3</th>\n      <td>Maruti Ertiga VDI</td>\n      <td>Chennai</td>\n      <td>2012</td>\n      <td>87000</td>\n      <td>Diesel</td>\n      <td>Manual</td>\n      <td>First</td>\n      <td>20.77 kmpl</td>\n      <td>1248 CC</td>\n      <td>88.76 bhp</td>\n      <td>7.0</td>\n      <td>NaN</td>\n      <td>6.00</td>\n    </tr>\n    <tr>\n      <th>4</th>\n      <td>Audi A4 New 2.0 TDI Multitronic</td>\n      <td>Coimbatore</td>\n      <td>2013</td>\n      <td>40670</td>\n      <td>Diesel</td>\n      <td>Automatic</td>\n      <td>Second</td>\n      <td>15.2 kmpl</td>\n      <td>1968 CC</td>\n      <td>140.8 bhp</td>\n      <td>5.0</td>\n      <td>NaN</td>\n      <td>17.74</td>\n    </tr>\n  </tbody>\n</table>\n</div>"
          },
          "metadata": {}
        }
      ]
    },
    {
      "cell_type": "code",
      "source": [
        "train_data.describe()"
      ],
      "metadata": {
        "execution": {
          "iopub.status.busy": "2024-06-10T11:24:45.220984Z",
          "iopub.execute_input": "2024-06-10T11:24:45.221278Z",
          "iopub.status.idle": "2024-06-10T11:24:45.250444Z",
          "shell.execute_reply.started": "2024-06-10T11:24:45.221253Z",
          "shell.execute_reply": "2024-06-10T11:24:45.249775Z"
        },
        "trusted": true,
        "id": "JqGpkqlMAqXE",
        "outputId": "0d203231-8d35-440e-85ae-88bcff472ae2"
      },
      "execution_count": null,
      "outputs": [
        {
          "execution_count": 5,
          "output_type": "execute_result",
          "data": {
            "text/plain": "              Year  Kilometers_Driven        Seats        Price\ncount  6019.000000       6.019000e+03  5977.000000  6019.000000\nmean   2013.358199       5.873838e+04     5.278735     9.479468\nstd       3.269742       9.126884e+04     0.808840    11.187917\nmin    1998.000000       1.710000e+02     0.000000     0.440000\n25%    2011.000000       3.400000e+04     5.000000     3.500000\n50%    2014.000000       5.300000e+04     5.000000     5.640000\n75%    2016.000000       7.300000e+04     5.000000     9.950000\nmax    2019.000000       6.500000e+06    10.000000   160.000000",
            "text/html": "<div>\n<style scoped>\n    .dataframe tbody tr th:only-of-type {\n        vertical-align: middle;\n    }\n\n    .dataframe tbody tr th {\n        vertical-align: top;\n    }\n\n    .dataframe thead th {\n        text-align: right;\n    }\n</style>\n<table border=\"1\" class=\"dataframe\">\n  <thead>\n    <tr style=\"text-align: right;\">\n      <th></th>\n      <th>Year</th>\n      <th>Kilometers_Driven</th>\n      <th>Seats</th>\n      <th>Price</th>\n    </tr>\n  </thead>\n  <tbody>\n    <tr>\n      <th>count</th>\n      <td>6019.000000</td>\n      <td>6.019000e+03</td>\n      <td>5977.000000</td>\n      <td>6019.000000</td>\n    </tr>\n    <tr>\n      <th>mean</th>\n      <td>2013.358199</td>\n      <td>5.873838e+04</td>\n      <td>5.278735</td>\n      <td>9.479468</td>\n    </tr>\n    <tr>\n      <th>std</th>\n      <td>3.269742</td>\n      <td>9.126884e+04</td>\n      <td>0.808840</td>\n      <td>11.187917</td>\n    </tr>\n    <tr>\n      <th>min</th>\n      <td>1998.000000</td>\n      <td>1.710000e+02</td>\n      <td>0.000000</td>\n      <td>0.440000</td>\n    </tr>\n    <tr>\n      <th>25%</th>\n      <td>2011.000000</td>\n      <td>3.400000e+04</td>\n      <td>5.000000</td>\n      <td>3.500000</td>\n    </tr>\n    <tr>\n      <th>50%</th>\n      <td>2014.000000</td>\n      <td>5.300000e+04</td>\n      <td>5.000000</td>\n      <td>5.640000</td>\n    </tr>\n    <tr>\n      <th>75%</th>\n      <td>2016.000000</td>\n      <td>7.300000e+04</td>\n      <td>5.000000</td>\n      <td>9.950000</td>\n    </tr>\n    <tr>\n      <th>max</th>\n      <td>2019.000000</td>\n      <td>6.500000e+06</td>\n      <td>10.000000</td>\n      <td>160.000000</td>\n    </tr>\n  </tbody>\n</table>\n</div>"
          },
          "metadata": {}
        }
      ]
    },
    {
      "cell_type": "code",
      "source": [
        "train_data.shape"
      ],
      "metadata": {
        "execution": {
          "iopub.status.busy": "2024-06-10T11:24:45.253091Z",
          "iopub.execute_input": "2024-06-10T11:24:45.253346Z",
          "iopub.status.idle": "2024-06-10T11:24:45.258401Z",
          "shell.execute_reply.started": "2024-06-10T11:24:45.253322Z",
          "shell.execute_reply": "2024-06-10T11:24:45.257494Z"
        },
        "trusted": true,
        "id": "_YfWzxJiAqXE",
        "outputId": "f8e733b6-a633-477c-d478-20bdd5599df8"
      },
      "execution_count": null,
      "outputs": [
        {
          "execution_count": 6,
          "output_type": "execute_result",
          "data": {
            "text/plain": "(6019, 13)"
          },
          "metadata": {}
        }
      ]
    },
    {
      "cell_type": "code",
      "source": [
        "# Looking ate the unique values of Categorical Features\n",
        "print(train_data['Location'].unique())\n",
        "print(train_data['Fuel_Type'].unique())\n",
        "print(train_data['Transmission'].unique())\n",
        "print(train_data['Owner_Type'].unique())\n",
        "\n"
      ],
      "metadata": {
        "execution": {
          "iopub.status.busy": "2024-06-10T11:24:45.259630Z",
          "iopub.execute_input": "2024-06-10T11:24:45.259959Z",
          "iopub.status.idle": "2024-06-10T11:24:45.273037Z",
          "shell.execute_reply.started": "2024-06-10T11:24:45.259927Z",
          "shell.execute_reply": "2024-06-10T11:24:45.272142Z"
        },
        "trusted": true,
        "id": "zYLz-57YAqXE",
        "outputId": "ddf42d55-32af-482b-b80e-1f4433fb5327"
      },
      "execution_count": null,
      "outputs": [
        {
          "name": "stdout",
          "text": "['Mumbai' 'Pune' 'Chennai' 'Coimbatore' 'Hyderabad' 'Jaipur' 'Kochi'\n 'Kolkata' 'Delhi' 'Bangalore' 'Ahmedabad']\n['CNG' 'Diesel' 'Petrol' 'LPG' 'Electric']\n['Manual' 'Automatic']\n['First' 'Second' 'Fourth & Above' 'Third']\n",
          "output_type": "stream"
        }
      ]
    },
    {
      "cell_type": "code",
      "source": [
        "train_data.isnull().sum()"
      ],
      "metadata": {
        "execution": {
          "iopub.status.busy": "2024-06-10T11:24:45.274110Z",
          "iopub.execute_input": "2024-06-10T11:24:45.274371Z",
          "iopub.status.idle": "2024-06-10T11:24:45.288188Z",
          "shell.execute_reply.started": "2024-06-10T11:24:45.274347Z",
          "shell.execute_reply": "2024-06-10T11:24:45.287544Z"
        },
        "trusted": true,
        "id": "V7kDK0fBAqXE",
        "outputId": "e2131aa4-823e-4560-fce7-ced65a59acc6"
      },
      "execution_count": null,
      "outputs": [
        {
          "execution_count": 8,
          "output_type": "execute_result",
          "data": {
            "text/plain": "Name                    0\nLocation                0\nYear                    0\nKilometers_Driven       0\nFuel_Type               0\nTransmission            0\nOwner_Type              0\nMileage                 2\nEngine                 36\nPower                  36\nSeats                  42\nNew_Price            5195\nPrice                   0\ndtype: int64"
          },
          "metadata": {}
        }
      ]
    },
    {
      "cell_type": "code",
      "source": [
        "train_data = train_data[train_data['Mileage'].notna()]\n",
        "train_data = train_data[train_data['Engine'].notna()]\n",
        "train_data = train_data[train_data['Power'].notna()]\n",
        "train_data = train_data[train_data['Seats'].notna()]"
      ],
      "metadata": {
        "execution": {
          "iopub.status.busy": "2024-06-10T11:24:45.289759Z",
          "iopub.execute_input": "2024-06-10T11:24:45.290060Z",
          "iopub.status.idle": "2024-06-10T11:24:45.305189Z",
          "shell.execute_reply.started": "2024-06-10T11:24:45.290014Z",
          "shell.execute_reply": "2024-06-10T11:24:45.304544Z"
        },
        "trusted": true,
        "id": "UVXxZxwbAqXE"
      },
      "execution_count": null,
      "outputs": []
    },
    {
      "cell_type": "code",
      "source": [
        "train_data = train_data.reset_index(drop=True)"
      ],
      "metadata": {
        "execution": {
          "iopub.status.busy": "2024-06-10T11:24:45.306029Z",
          "iopub.execute_input": "2024-06-10T11:24:45.306278Z",
          "iopub.status.idle": "2024-06-10T11:24:45.310657Z",
          "shell.execute_reply.started": "2024-06-10T11:24:45.306255Z",
          "shell.execute_reply": "2024-06-10T11:24:45.309709Z"
        },
        "trusted": true,
        "id": "3EZRmjd1AqXF"
      },
      "execution_count": null,
      "outputs": []
    },
    {
      "cell_type": "code",
      "source": [
        "train_data.info()"
      ],
      "metadata": {
        "execution": {
          "iopub.status.busy": "2024-06-10T11:24:45.312018Z",
          "iopub.execute_input": "2024-06-10T11:24:45.312395Z",
          "iopub.status.idle": "2024-06-10T11:24:45.330713Z",
          "shell.execute_reply.started": "2024-06-10T11:24:45.312358Z",
          "shell.execute_reply": "2024-06-10T11:24:45.329864Z"
        },
        "trusted": true,
        "id": "InGK-fbOAqXF",
        "outputId": "f1b67d63-81b8-4dcc-89c3-5303c184cef1"
      },
      "execution_count": null,
      "outputs": [
        {
          "name": "stdout",
          "text": "<class 'pandas.core.frame.DataFrame'>\nRangeIndex: 5975 entries, 0 to 5974\nData columns (total 13 columns):\n #   Column             Non-Null Count  Dtype  \n---  ------             --------------  -----  \n 0   Name               5975 non-null   object \n 1   Location           5975 non-null   object \n 2   Year               5975 non-null   int64  \n 3   Kilometers_Driven  5975 non-null   int64  \n 4   Fuel_Type          5975 non-null   object \n 5   Transmission       5975 non-null   object \n 6   Owner_Type         5975 non-null   object \n 7   Mileage            5975 non-null   object \n 8   Engine             5975 non-null   object \n 9   Power              5975 non-null   object \n 10  Seats              5975 non-null   float64\n 11  New_Price          823 non-null    object \n 12  Price              5975 non-null   float64\ndtypes: float64(2), int64(2), object(9)\nmemory usage: 607.0+ KB\n",
          "output_type": "stream"
        }
      ]
    },
    {
      "cell_type": "code",
      "source": [
        "train_data['Price'].describe()"
      ],
      "metadata": {
        "execution": {
          "iopub.status.busy": "2024-06-10T11:24:45.331821Z",
          "iopub.execute_input": "2024-06-10T11:24:45.332092Z",
          "iopub.status.idle": "2024-06-10T11:24:45.341969Z",
          "shell.execute_reply.started": "2024-06-10T11:24:45.332058Z",
          "shell.execute_reply": "2024-06-10T11:24:45.341091Z"
        },
        "trusted": true,
        "id": "Ki1M33u4AqXF",
        "outputId": "f856f137-e8c3-4233-bfb7-56bb44cfc7b1"
      },
      "execution_count": null,
      "outputs": [
        {
          "execution_count": 12,
          "output_type": "execute_result",
          "data": {
            "text/plain": "count    5975.000000\nmean        9.501647\nstd        11.205736\nmin         0.440000\n25%         3.500000\n50%         5.650000\n75%         9.950000\nmax       160.000000\nName: Price, dtype: float64"
          },
          "metadata": {}
        }
      ]
    },
    {
      "cell_type": "code",
      "source": [
        "train_data['Fuel_Type'].describe()"
      ],
      "metadata": {
        "execution": {
          "iopub.status.busy": "2024-06-10T11:24:45.343481Z",
          "iopub.execute_input": "2024-06-10T11:24:45.343978Z",
          "iopub.status.idle": "2024-06-10T11:24:45.355214Z",
          "shell.execute_reply.started": "2024-06-10T11:24:45.343935Z",
          "shell.execute_reply": "2024-06-10T11:24:45.354514Z"
        },
        "trusted": true,
        "id": "EmZH8m94AqXF",
        "outputId": "c4d9266a-34fa-4d0e-a1b9-b8f9f2edbf50"
      },
      "execution_count": null,
      "outputs": [
        {
          "execution_count": 13,
          "output_type": "execute_result",
          "data": {
            "text/plain": "count       5975\nunique         4\ntop       Diesel\nfreq        3195\nName: Fuel_Type, dtype: object"
          },
          "metadata": {}
        }
      ]
    },
    {
      "cell_type": "code",
      "source": [
        "var = 'Location'\n",
        "train_data[var].value_counts()"
      ],
      "metadata": {
        "execution": {
          "iopub.status.busy": "2024-06-10T11:24:45.356323Z",
          "iopub.execute_input": "2024-06-10T11:24:45.356653Z",
          "iopub.status.idle": "2024-06-10T11:24:45.366755Z",
          "shell.execute_reply.started": "2024-06-10T11:24:45.356625Z",
          "shell.execute_reply": "2024-06-10T11:24:45.366005Z"
        },
        "trusted": true,
        "id": "Jq7kdXCPAqXF",
        "outputId": "a3d807e5-a64a-43e2-d74f-6d5b134b08f8"
      },
      "execution_count": null,
      "outputs": [
        {
          "execution_count": 14,
          "output_type": "execute_result",
          "data": {
            "text/plain": "Mumbai        784\nHyderabad     741\nKochi         648\nCoimbatore    634\nPune          613\nDelhi         549\nKolkata       530\nChennai       490\nJaipur        410\nBangalore     353\nAhmedabad     223\nName: Location, dtype: int64"
          },
          "metadata": {}
        }
      ]
    },
    {
      "cell_type": "code",
      "source": [
        "Location = train_data[[var]]\n",
        "Location = pd.get_dummies(Location,drop_first=True)\n",
        "Location.head()"
      ],
      "metadata": {
        "execution": {
          "iopub.status.busy": "2024-06-10T11:24:45.919664Z",
          "iopub.execute_input": "2024-06-10T11:24:45.920061Z",
          "iopub.status.idle": "2024-06-10T11:24:45.938349Z",
          "shell.execute_reply.started": "2024-06-10T11:24:45.920002Z",
          "shell.execute_reply": "2024-06-10T11:24:45.937616Z"
        },
        "trusted": true,
        "id": "fjnSsilRAqXG",
        "outputId": "38e6db42-dec3-4881-b797-fa84ebdf6682"
      },
      "execution_count": null,
      "outputs": [
        {
          "execution_count": 16,
          "output_type": "execute_result",
          "data": {
            "text/plain": "   Location_Bangalore  Location_Chennai  Location_Coimbatore  Location_Delhi  \\\n0                   0                 0                    0               0   \n1                   0                 0                    0               0   \n2                   0                 1                    0               0   \n3                   0                 1                    0               0   \n4                   0                 0                    1               0   \n\n   Location_Hyderabad  Location_Jaipur  Location_Kochi  Location_Kolkata  \\\n0                   0                0               0                 0   \n1                   0                0               0                 0   \n2                   0                0               0                 0   \n3                   0                0               0                 0   \n4                   0                0               0                 0   \n\n   Location_Mumbai  Location_Pune  \n0                1              0  \n1                0              1  \n2                0              0  \n3                0              0  \n4                0              0  ",
            "text/html": "<div>\n<style scoped>\n    .dataframe tbody tr th:only-of-type {\n        vertical-align: middle;\n    }\n\n    .dataframe tbody tr th {\n        vertical-align: top;\n    }\n\n    .dataframe thead th {\n        text-align: right;\n    }\n</style>\n<table border=\"1\" class=\"dataframe\">\n  <thead>\n    <tr style=\"text-align: right;\">\n      <th></th>\n      <th>Location_Bangalore</th>\n      <th>Location_Chennai</th>\n      <th>Location_Coimbatore</th>\n      <th>Location_Delhi</th>\n      <th>Location_Hyderabad</th>\n      <th>Location_Jaipur</th>\n      <th>Location_Kochi</th>\n      <th>Location_Kolkata</th>\n      <th>Location_Mumbai</th>\n      <th>Location_Pune</th>\n    </tr>\n  </thead>\n  <tbody>\n    <tr>\n      <th>0</th>\n      <td>0</td>\n      <td>0</td>\n      <td>0</td>\n      <td>0</td>\n      <td>0</td>\n      <td>0</td>\n      <td>0</td>\n      <td>0</td>\n      <td>1</td>\n      <td>0</td>\n    </tr>\n    <tr>\n      <th>1</th>\n      <td>0</td>\n      <td>0</td>\n      <td>0</td>\n      <td>0</td>\n      <td>0</td>\n      <td>0</td>\n      <td>0</td>\n      <td>0</td>\n      <td>0</td>\n      <td>1</td>\n    </tr>\n    <tr>\n      <th>2</th>\n      <td>0</td>\n      <td>1</td>\n      <td>0</td>\n      <td>0</td>\n      <td>0</td>\n      <td>0</td>\n      <td>0</td>\n      <td>0</td>\n      <td>0</td>\n      <td>0</td>\n    </tr>\n    <tr>\n      <th>3</th>\n      <td>0</td>\n      <td>1</td>\n      <td>0</td>\n      <td>0</td>\n      <td>0</td>\n      <td>0</td>\n      <td>0</td>\n      <td>0</td>\n      <td>0</td>\n      <td>0</td>\n    </tr>\n    <tr>\n      <th>4</th>\n      <td>0</td>\n      <td>0</td>\n      <td>1</td>\n      <td>0</td>\n      <td>0</td>\n      <td>0</td>\n      <td>0</td>\n      <td>0</td>\n      <td>0</td>\n      <td>0</td>\n    </tr>\n  </tbody>\n</table>\n</div>"
          },
          "metadata": {}
        }
      ]
    },
    {
      "cell_type": "code",
      "source": [
        "var = 'Fuel_Type'\n",
        "train_data[var].value_counts()"
      ],
      "metadata": {
        "execution": {
          "iopub.status.busy": "2024-06-10T11:24:45.939868Z",
          "iopub.execute_input": "2024-06-10T11:24:45.940251Z",
          "iopub.status.idle": "2024-06-10T11:24:45.950999Z",
          "shell.execute_reply.started": "2024-06-10T11:24:45.940214Z",
          "shell.execute_reply": "2024-06-10T11:24:45.950192Z"
        },
        "trusted": true,
        "id": "Q4m3d9P0AqXG",
        "outputId": "e3c6fb4a-2e71-49fa-9005-0c7e27329d51"
      },
      "execution_count": null,
      "outputs": [
        {
          "execution_count": 17,
          "output_type": "execute_result",
          "data": {
            "text/plain": "Diesel    3195\nPetrol    2714\nCNG         56\nLPG         10\nName: Fuel_Type, dtype: int64"
          },
          "metadata": {}
        }
      ]
    },
    {
      "cell_type": "code",
      "source": [
        "Fuel_t = train_data[[var]]\n",
        "Fuel_t = pd.get_dummies(Fuel_t,drop_first=True)\n",
        "Fuel_t.head()"
      ],
      "metadata": {
        "execution": {
          "iopub.status.busy": "2024-06-10T11:24:46.281776Z",
          "iopub.execute_input": "2024-06-10T11:24:46.282065Z",
          "iopub.status.idle": "2024-06-10T11:24:46.298839Z",
          "shell.execute_reply.started": "2024-06-10T11:24:46.282025Z",
          "shell.execute_reply": "2024-06-10T11:24:46.298067Z"
        },
        "trusted": true,
        "id": "HXBB3TcYAqXG",
        "outputId": "5555ab87-8487-499c-a366-a97f20a427da"
      },
      "execution_count": null,
      "outputs": [
        {
          "execution_count": 19,
          "output_type": "execute_result",
          "data": {
            "text/plain": "   Fuel_Type_Diesel  Fuel_Type_LPG  Fuel_Type_Petrol\n0                 0              0                 0\n1                 1              0                 0\n2                 0              0                 1\n3                 1              0                 0\n4                 1              0                 0",
            "text/html": "<div>\n<style scoped>\n    .dataframe tbody tr th:only-of-type {\n        vertical-align: middle;\n    }\n\n    .dataframe tbody tr th {\n        vertical-align: top;\n    }\n\n    .dataframe thead th {\n        text-align: right;\n    }\n</style>\n<table border=\"1\" class=\"dataframe\">\n  <thead>\n    <tr style=\"text-align: right;\">\n      <th></th>\n      <th>Fuel_Type_Diesel</th>\n      <th>Fuel_Type_LPG</th>\n      <th>Fuel_Type_Petrol</th>\n    </tr>\n  </thead>\n  <tbody>\n    <tr>\n      <th>0</th>\n      <td>0</td>\n      <td>0</td>\n      <td>0</td>\n    </tr>\n    <tr>\n      <th>1</th>\n      <td>1</td>\n      <td>0</td>\n      <td>0</td>\n    </tr>\n    <tr>\n      <th>2</th>\n      <td>0</td>\n      <td>0</td>\n      <td>1</td>\n    </tr>\n    <tr>\n      <th>3</th>\n      <td>1</td>\n      <td>0</td>\n      <td>0</td>\n    </tr>\n    <tr>\n      <th>4</th>\n      <td>1</td>\n      <td>0</td>\n      <td>0</td>\n    </tr>\n  </tbody>\n</table>\n</div>"
          },
          "metadata": {}
        }
      ]
    },
    {
      "cell_type": "code",
      "source": [
        "var = 'Transmission'\n",
        "train_data[var].value_counts()"
      ],
      "metadata": {
        "execution": {
          "iopub.status.busy": "2024-06-10T11:24:46.629212Z",
          "iopub.execute_input": "2024-06-10T11:24:46.629520Z",
          "iopub.status.idle": "2024-06-10T11:24:46.638675Z",
          "shell.execute_reply.started": "2024-06-10T11:24:46.629491Z",
          "shell.execute_reply": "2024-06-10T11:24:46.637667Z"
        },
        "trusted": true,
        "id": "H7PQpsHGAqXG",
        "outputId": "2b21f568-6412-4fab-d068-0461be0744e8"
      },
      "execution_count": null,
      "outputs": [
        {
          "execution_count": 21,
          "output_type": "execute_result",
          "data": {
            "text/plain": "Manual       4266\nAutomatic    1709\nName: Transmission, dtype: int64"
          },
          "metadata": {}
        }
      ]
    },
    {
      "cell_type": "code",
      "source": [
        "Transmission = train_data[[var]]\n",
        "Transmission = pd.get_dummies(Transmission,drop_first=True)\n",
        "Transmission.head()"
      ],
      "metadata": {
        "execution": {
          "iopub.status.busy": "2024-06-10T11:24:46.639852Z",
          "iopub.execute_input": "2024-06-10T11:24:46.640143Z",
          "iopub.status.idle": "2024-06-10T11:24:46.657898Z",
          "shell.execute_reply.started": "2024-06-10T11:24:46.640116Z",
          "shell.execute_reply": "2024-06-10T11:24:46.657078Z"
        },
        "trusted": true,
        "id": "eAI9ERFkAqXG",
        "outputId": "882641d7-c502-466b-8b77-0ec937692ae1"
      },
      "execution_count": null,
      "outputs": [
        {
          "execution_count": 22,
          "output_type": "execute_result",
          "data": {
            "text/plain": "   Transmission_Manual\n0                    1\n1                    1\n2                    1\n3                    1\n4                    0",
            "text/html": "<div>\n<style scoped>\n    .dataframe tbody tr th:only-of-type {\n        vertical-align: middle;\n    }\n\n    .dataframe tbody tr th {\n        vertical-align: top;\n    }\n\n    .dataframe thead th {\n        text-align: right;\n    }\n</style>\n<table border=\"1\" class=\"dataframe\">\n  <thead>\n    <tr style=\"text-align: right;\">\n      <th></th>\n      <th>Transmission_Manual</th>\n    </tr>\n  </thead>\n  <tbody>\n    <tr>\n      <th>0</th>\n      <td>1</td>\n    </tr>\n    <tr>\n      <th>1</th>\n      <td>1</td>\n    </tr>\n    <tr>\n      <th>2</th>\n      <td>1</td>\n    </tr>\n    <tr>\n      <th>3</th>\n      <td>1</td>\n    </tr>\n    <tr>\n      <th>4</th>\n      <td>0</td>\n    </tr>\n  </tbody>\n</table>\n</div>"
          },
          "metadata": {}
        }
      ]
    },
    {
      "cell_type": "code",
      "source": [
        "var = 'Owner_Type'\n",
        "train_data[var].value_counts()"
      ],
      "metadata": {
        "execution": {
          "iopub.status.busy": "2024-06-10T11:24:46.659312Z",
          "iopub.execute_input": "2024-06-10T11:24:46.659589Z",
          "iopub.status.idle": "2024-06-10T11:24:46.670811Z",
          "shell.execute_reply.started": "2024-06-10T11:24:46.659562Z",
          "shell.execute_reply": "2024-06-10T11:24:46.669944Z"
        },
        "trusted": true,
        "id": "1n8e2BARAqXG",
        "outputId": "9578296a-022f-407c-9203-1dbd920cf935"
      },
      "execution_count": null,
      "outputs": [
        {
          "execution_count": 23,
          "output_type": "execute_result",
          "data": {
            "text/plain": "First             4903\nSecond             953\nThird              111\nFourth & Above       8\nName: Owner_Type, dtype: int64"
          },
          "metadata": {}
        }
      ]
    },
    {
      "cell_type": "code",
      "source": [
        "train_data.replace({\"First\":1,\"Second\":2,\"Third\": 3,\"Fourth & Above\":4},inplace=True)\n",
        "train_data.head()"
      ],
      "metadata": {
        "execution": {
          "iopub.status.busy": "2024-06-10T11:24:46.672334Z",
          "iopub.execute_input": "2024-06-10T11:24:46.672603Z",
          "iopub.status.idle": "2024-06-10T11:24:46.718290Z",
          "shell.execute_reply.started": "2024-06-10T11:24:46.672578Z",
          "shell.execute_reply": "2024-06-10T11:24:46.717395Z"
        },
        "trusted": true,
        "id": "Kpum1WmVAqXH",
        "outputId": "4fd6ce7b-c6cd-448a-a6de-4b5847893a97"
      },
      "execution_count": null,
      "outputs": [
        {
          "execution_count": 24,
          "output_type": "execute_result",
          "data": {
            "text/plain": "                               Name    Location  Year  Kilometers_Driven  \\\n0            Maruti Wagon R LXI CNG      Mumbai  2010              72000   \n1  Hyundai Creta 1.6 CRDi SX Option        Pune  2015              41000   \n2                      Honda Jazz V     Chennai  2011              46000   \n3                 Maruti Ertiga VDI     Chennai  2012              87000   \n4   Audi A4 New 2.0 TDI Multitronic  Coimbatore  2013              40670   \n\n  Fuel_Type Transmission  Owner_Type     Mileage   Engine      Power  Seats  \\\n0       CNG       Manual           1  26.6 km/kg   998 CC  58.16 bhp    5.0   \n1    Diesel       Manual           1  19.67 kmpl  1582 CC  126.2 bhp    5.0   \n2    Petrol       Manual           1   18.2 kmpl  1199 CC   88.7 bhp    5.0   \n3    Diesel       Manual           1  20.77 kmpl  1248 CC  88.76 bhp    7.0   \n4    Diesel    Automatic           2   15.2 kmpl  1968 CC  140.8 bhp    5.0   \n\n   New_Price  Price  \n0        NaN   1.75  \n1        NaN  12.50  \n2  8.61 Lakh   4.50  \n3        NaN   6.00  \n4        NaN  17.74  ",
            "text/html": "<div>\n<style scoped>\n    .dataframe tbody tr th:only-of-type {\n        vertical-align: middle;\n    }\n\n    .dataframe tbody tr th {\n        vertical-align: top;\n    }\n\n    .dataframe thead th {\n        text-align: right;\n    }\n</style>\n<table border=\"1\" class=\"dataframe\">\n  <thead>\n    <tr style=\"text-align: right;\">\n      <th></th>\n      <th>Name</th>\n      <th>Location</th>\n      <th>Year</th>\n      <th>Kilometers_Driven</th>\n      <th>Fuel_Type</th>\n      <th>Transmission</th>\n      <th>Owner_Type</th>\n      <th>Mileage</th>\n      <th>Engine</th>\n      <th>Power</th>\n      <th>Seats</th>\n      <th>New_Price</th>\n      <th>Price</th>\n    </tr>\n  </thead>\n  <tbody>\n    <tr>\n      <th>0</th>\n      <td>Maruti Wagon R LXI CNG</td>\n      <td>Mumbai</td>\n      <td>2010</td>\n      <td>72000</td>\n      <td>CNG</td>\n      <td>Manual</td>\n      <td>1</td>\n      <td>26.6 km/kg</td>\n      <td>998 CC</td>\n      <td>58.16 bhp</td>\n      <td>5.0</td>\n      <td>NaN</td>\n      <td>1.75</td>\n    </tr>\n    <tr>\n      <th>1</th>\n      <td>Hyundai Creta 1.6 CRDi SX Option</td>\n      <td>Pune</td>\n      <td>2015</td>\n      <td>41000</td>\n      <td>Diesel</td>\n      <td>Manual</td>\n      <td>1</td>\n      <td>19.67 kmpl</td>\n      <td>1582 CC</td>\n      <td>126.2 bhp</td>\n      <td>5.0</td>\n      <td>NaN</td>\n      <td>12.50</td>\n    </tr>\n    <tr>\n      <th>2</th>\n      <td>Honda Jazz V</td>\n      <td>Chennai</td>\n      <td>2011</td>\n      <td>46000</td>\n      <td>Petrol</td>\n      <td>Manual</td>\n      <td>1</td>\n      <td>18.2 kmpl</td>\n      <td>1199 CC</td>\n      <td>88.7 bhp</td>\n      <td>5.0</td>\n      <td>8.61 Lakh</td>\n      <td>4.50</td>\n    </tr>\n    <tr>\n      <th>3</th>\n      <td>Maruti Ertiga VDI</td>\n      <td>Chennai</td>\n      <td>2012</td>\n      <td>87000</td>\n      <td>Diesel</td>\n      <td>Manual</td>\n      <td>1</td>\n      <td>20.77 kmpl</td>\n      <td>1248 CC</td>\n      <td>88.76 bhp</td>\n      <td>7.0</td>\n      <td>NaN</td>\n      <td>6.00</td>\n    </tr>\n    <tr>\n      <th>4</th>\n      <td>Audi A4 New 2.0 TDI Multitronic</td>\n      <td>Coimbatore</td>\n      <td>2013</td>\n      <td>40670</td>\n      <td>Diesel</td>\n      <td>Automatic</td>\n      <td>2</td>\n      <td>15.2 kmpl</td>\n      <td>1968 CC</td>\n      <td>140.8 bhp</td>\n      <td>5.0</td>\n      <td>NaN</td>\n      <td>17.74</td>\n    </tr>\n  </tbody>\n</table>\n</div>"
          },
          "metadata": {}
        }
      ]
    },
    {
      "cell_type": "code",
      "source": [
        "var = 'Name'\n",
        "train_data[var].value_counts()"
      ],
      "metadata": {
        "execution": {
          "iopub.status.busy": "2024-06-10T11:24:46.719389Z",
          "iopub.execute_input": "2024-06-10T11:24:46.719654Z",
          "iopub.status.idle": "2024-06-10T11:24:46.732304Z",
          "shell.execute_reply.started": "2024-06-10T11:24:46.719629Z",
          "shell.execute_reply": "2024-06-10T11:24:46.731438Z"
        },
        "trusted": true,
        "id": "Tt3Xx8L_AqXH",
        "outputId": "2d978614-4e7c-4d2d-81ff-729939517d42"
      },
      "execution_count": null,
      "outputs": [
        {
          "execution_count": 25,
          "output_type": "execute_result",
          "data": {
            "text/plain": "Mahindra XUV500 W8 2WD                       49\nMaruti Swift VDI                             45\nMaruti Swift Dzire VDI                       34\nHonda City 1.5 S MT                          34\nMaruti Swift VDI BSIV                        31\n                                             ..\nMahindra XUV500 W10 1.99 mHawk                1\nHyundai Creta 1.4 CRDi S                      1\nHyundai EON 1.0 Kappa Magna Plus Optional     1\nHyundai i20 1.2 Era                           1\nNissan Micra Active XL Petrol                 1\nName: Name, Length: 1855, dtype: int64"
          },
          "metadata": {}
        }
      ]
    },
    {
      "cell_type": "code",
      "source": [
        "train_data.drop([\"Name\"],axis=1,inplace=True)"
      ],
      "metadata": {
        "execution": {
          "iopub.status.busy": "2024-06-10T11:24:46.734957Z",
          "iopub.execute_input": "2024-06-10T11:24:46.735367Z",
          "iopub.status.idle": "2024-06-10T11:24:46.740744Z",
          "shell.execute_reply.started": "2024-06-10T11:24:46.735329Z",
          "shell.execute_reply": "2024-06-10T11:24:46.740015Z"
        },
        "trusted": true,
        "id": "iR7j6SMfAqXH"
      },
      "execution_count": null,
      "outputs": []
    },
    {
      "cell_type": "code",
      "source": [
        "final_train= pd.concat([train_data,Location,Fuel_t,Transmission],axis=1)\n",
        "final_train.head()"
      ],
      "metadata": {
        "execution": {
          "iopub.status.busy": "2024-06-10T11:24:46.742038Z",
          "iopub.execute_input": "2024-06-10T11:24:46.742359Z",
          "iopub.status.idle": "2024-06-10T11:24:46.774449Z",
          "shell.execute_reply.started": "2024-06-10T11:24:46.742332Z",
          "shell.execute_reply": "2024-06-10T11:24:46.773570Z"
        },
        "trusted": true,
        "id": "MHP1OzljAqXH",
        "outputId": "8aeb6258-d330-4f5b-d89b-4cbf00c45534"
      },
      "execution_count": null,
      "outputs": [
        {
          "execution_count": 27,
          "output_type": "execute_result",
          "data": {
            "text/plain": "     Location  Year  Kilometers_Driven Fuel_Type Transmission  Owner_Type  \\\n0      Mumbai  2010              72000       CNG       Manual           1   \n1        Pune  2015              41000    Diesel       Manual           1   \n2     Chennai  2011              46000    Petrol       Manual           1   \n3     Chennai  2012              87000    Diesel       Manual           1   \n4  Coimbatore  2013              40670    Diesel    Automatic           2   \n\n      Mileage   Engine      Power  Seats  ... Location_Hyderabad  \\\n0  26.6 km/kg   998 CC  58.16 bhp    5.0  ...                  0   \n1  19.67 kmpl  1582 CC  126.2 bhp    5.0  ...                  0   \n2   18.2 kmpl  1199 CC   88.7 bhp    5.0  ...                  0   \n3  20.77 kmpl  1248 CC  88.76 bhp    7.0  ...                  0   \n4   15.2 kmpl  1968 CC  140.8 bhp    5.0  ...                  0   \n\n   Location_Jaipur  Location_Kochi  Location_Kolkata  Location_Mumbai  \\\n0                0               0                 0                1   \n1                0               0                 0                0   \n2                0               0                 0                0   \n3                0               0                 0                0   \n4                0               0                 0                0   \n\n   Location_Pune  Fuel_Type_Diesel  Fuel_Type_LPG  Fuel_Type_Petrol  \\\n0              0                 0              0                 0   \n1              1                 1              0                 0   \n2              0                 0              0                 1   \n3              0                 1              0                 0   \n4              0                 1              0                 0   \n\n   Transmission_Manual  \n0                    1  \n1                    1  \n2                    1  \n3                    1  \n4                    0  \n\n[5 rows x 26 columns]",
            "text/html": "<div>\n<style scoped>\n    .dataframe tbody tr th:only-of-type {\n        vertical-align: middle;\n    }\n\n    .dataframe tbody tr th {\n        vertical-align: top;\n    }\n\n    .dataframe thead th {\n        text-align: right;\n    }\n</style>\n<table border=\"1\" class=\"dataframe\">\n  <thead>\n    <tr style=\"text-align: right;\">\n      <th></th>\n      <th>Location</th>\n      <th>Year</th>\n      <th>Kilometers_Driven</th>\n      <th>Fuel_Type</th>\n      <th>Transmission</th>\n      <th>Owner_Type</th>\n      <th>Mileage</th>\n      <th>Engine</th>\n      <th>Power</th>\n      <th>Seats</th>\n      <th>...</th>\n      <th>Location_Hyderabad</th>\n      <th>Location_Jaipur</th>\n      <th>Location_Kochi</th>\n      <th>Location_Kolkata</th>\n      <th>Location_Mumbai</th>\n      <th>Location_Pune</th>\n      <th>Fuel_Type_Diesel</th>\n      <th>Fuel_Type_LPG</th>\n      <th>Fuel_Type_Petrol</th>\n      <th>Transmission_Manual</th>\n    </tr>\n  </thead>\n  <tbody>\n    <tr>\n      <th>0</th>\n      <td>Mumbai</td>\n      <td>2010</td>\n      <td>72000</td>\n      <td>CNG</td>\n      <td>Manual</td>\n      <td>1</td>\n      <td>26.6 km/kg</td>\n      <td>998 CC</td>\n      <td>58.16 bhp</td>\n      <td>5.0</td>\n      <td>...</td>\n      <td>0</td>\n      <td>0</td>\n      <td>0</td>\n      <td>0</td>\n      <td>1</td>\n      <td>0</td>\n      <td>0</td>\n      <td>0</td>\n      <td>0</td>\n      <td>1</td>\n    </tr>\n    <tr>\n      <th>1</th>\n      <td>Pune</td>\n      <td>2015</td>\n      <td>41000</td>\n      <td>Diesel</td>\n      <td>Manual</td>\n      <td>1</td>\n      <td>19.67 kmpl</td>\n      <td>1582 CC</td>\n      <td>126.2 bhp</td>\n      <td>5.0</td>\n      <td>...</td>\n      <td>0</td>\n      <td>0</td>\n      <td>0</td>\n      <td>0</td>\n      <td>0</td>\n      <td>1</td>\n      <td>1</td>\n      <td>0</td>\n      <td>0</td>\n      <td>1</td>\n    </tr>\n    <tr>\n      <th>2</th>\n      <td>Chennai</td>\n      <td>2011</td>\n      <td>46000</td>\n      <td>Petrol</td>\n      <td>Manual</td>\n      <td>1</td>\n      <td>18.2 kmpl</td>\n      <td>1199 CC</td>\n      <td>88.7 bhp</td>\n      <td>5.0</td>\n      <td>...</td>\n      <td>0</td>\n      <td>0</td>\n      <td>0</td>\n      <td>0</td>\n      <td>0</td>\n      <td>0</td>\n      <td>0</td>\n      <td>0</td>\n      <td>1</td>\n      <td>1</td>\n    </tr>\n    <tr>\n      <th>3</th>\n      <td>Chennai</td>\n      <td>2012</td>\n      <td>87000</td>\n      <td>Diesel</td>\n      <td>Manual</td>\n      <td>1</td>\n      <td>20.77 kmpl</td>\n      <td>1248 CC</td>\n      <td>88.76 bhp</td>\n      <td>7.0</td>\n      <td>...</td>\n      <td>0</td>\n      <td>0</td>\n      <td>0</td>\n      <td>0</td>\n      <td>0</td>\n      <td>0</td>\n      <td>1</td>\n      <td>0</td>\n      <td>0</td>\n      <td>1</td>\n    </tr>\n    <tr>\n      <th>4</th>\n      <td>Coimbatore</td>\n      <td>2013</td>\n      <td>40670</td>\n      <td>Diesel</td>\n      <td>Automatic</td>\n      <td>2</td>\n      <td>15.2 kmpl</td>\n      <td>1968 CC</td>\n      <td>140.8 bhp</td>\n      <td>5.0</td>\n      <td>...</td>\n      <td>0</td>\n      <td>0</td>\n      <td>0</td>\n      <td>0</td>\n      <td>0</td>\n      <td>0</td>\n      <td>1</td>\n      <td>0</td>\n      <td>0</td>\n      <td>0</td>\n    </tr>\n  </tbody>\n</table>\n<p>5 rows × 26 columns</p>\n</div>"
          },
          "metadata": {}
        }
      ]
    },
    {
      "cell_type": "code",
      "source": [
        "final_train.drop([\"Location\",\"Fuel_Type\",\"Transmission\",\"New_Price\"],axis=1,inplace=True)\n",
        "final_train.head()"
      ],
      "metadata": {
        "execution": {
          "iopub.status.busy": "2024-06-10T11:24:46.775641Z",
          "iopub.execute_input": "2024-06-10T11:24:46.775936Z",
          "iopub.status.idle": "2024-06-10T11:24:46.802271Z",
          "shell.execute_reply.started": "2024-06-10T11:24:46.775908Z",
          "shell.execute_reply": "2024-06-10T11:24:46.801330Z"
        },
        "trusted": true,
        "id": "O_4Bu_KIAqXH",
        "outputId": "973e38e2-d60a-4e47-fe50-0f3cc2ca7c05"
      },
      "execution_count": null,
      "outputs": [
        {
          "execution_count": 28,
          "output_type": "execute_result",
          "data": {
            "text/plain": "   Year  Kilometers_Driven  Owner_Type     Mileage   Engine      Power  Seats  \\\n0  2010              72000           1  26.6 km/kg   998 CC  58.16 bhp    5.0   \n1  2015              41000           1  19.67 kmpl  1582 CC  126.2 bhp    5.0   \n2  2011              46000           1   18.2 kmpl  1199 CC   88.7 bhp    5.0   \n3  2012              87000           1  20.77 kmpl  1248 CC  88.76 bhp    7.0   \n4  2013              40670           2   15.2 kmpl  1968 CC  140.8 bhp    5.0   \n\n   Price  Location_Bangalore  Location_Chennai  ...  Location_Hyderabad  \\\n0   1.75                   0                 0  ...                   0   \n1  12.50                   0                 0  ...                   0   \n2   4.50                   0                 1  ...                   0   \n3   6.00                   0                 1  ...                   0   \n4  17.74                   0                 0  ...                   0   \n\n   Location_Jaipur  Location_Kochi  Location_Kolkata  Location_Mumbai  \\\n0                0               0                 0                1   \n1                0               0                 0                0   \n2                0               0                 0                0   \n3                0               0                 0                0   \n4                0               0                 0                0   \n\n   Location_Pune  Fuel_Type_Diesel  Fuel_Type_LPG  Fuel_Type_Petrol  \\\n0              0                 0              0                 0   \n1              1                 1              0                 0   \n2              0                 0              0                 1   \n3              0                 1              0                 0   \n4              0                 1              0                 0   \n\n   Transmission_Manual  \n0                    1  \n1                    1  \n2                    1  \n3                    1  \n4                    0  \n\n[5 rows x 22 columns]",
            "text/html": "<div>\n<style scoped>\n    .dataframe tbody tr th:only-of-type {\n        vertical-align: middle;\n    }\n\n    .dataframe tbody tr th {\n        vertical-align: top;\n    }\n\n    .dataframe thead th {\n        text-align: right;\n    }\n</style>\n<table border=\"1\" class=\"dataframe\">\n  <thead>\n    <tr style=\"text-align: right;\">\n      <th></th>\n      <th>Year</th>\n      <th>Kilometers_Driven</th>\n      <th>Owner_Type</th>\n      <th>Mileage</th>\n      <th>Engine</th>\n      <th>Power</th>\n      <th>Seats</th>\n      <th>Price</th>\n      <th>Location_Bangalore</th>\n      <th>Location_Chennai</th>\n      <th>...</th>\n      <th>Location_Hyderabad</th>\n      <th>Location_Jaipur</th>\n      <th>Location_Kochi</th>\n      <th>Location_Kolkata</th>\n      <th>Location_Mumbai</th>\n      <th>Location_Pune</th>\n      <th>Fuel_Type_Diesel</th>\n      <th>Fuel_Type_LPG</th>\n      <th>Fuel_Type_Petrol</th>\n      <th>Transmission_Manual</th>\n    </tr>\n  </thead>\n  <tbody>\n    <tr>\n      <th>0</th>\n      <td>2010</td>\n      <td>72000</td>\n      <td>1</td>\n      <td>26.6 km/kg</td>\n      <td>998 CC</td>\n      <td>58.16 bhp</td>\n      <td>5.0</td>\n      <td>1.75</td>\n      <td>0</td>\n      <td>0</td>\n      <td>...</td>\n      <td>0</td>\n      <td>0</td>\n      <td>0</td>\n      <td>0</td>\n      <td>1</td>\n      <td>0</td>\n      <td>0</td>\n      <td>0</td>\n      <td>0</td>\n      <td>1</td>\n    </tr>\n    <tr>\n      <th>1</th>\n      <td>2015</td>\n      <td>41000</td>\n      <td>1</td>\n      <td>19.67 kmpl</td>\n      <td>1582 CC</td>\n      <td>126.2 bhp</td>\n      <td>5.0</td>\n      <td>12.50</td>\n      <td>0</td>\n      <td>0</td>\n      <td>...</td>\n      <td>0</td>\n      <td>0</td>\n      <td>0</td>\n      <td>0</td>\n      <td>0</td>\n      <td>1</td>\n      <td>1</td>\n      <td>0</td>\n      <td>0</td>\n      <td>1</td>\n    </tr>\n    <tr>\n      <th>2</th>\n      <td>2011</td>\n      <td>46000</td>\n      <td>1</td>\n      <td>18.2 kmpl</td>\n      <td>1199 CC</td>\n      <td>88.7 bhp</td>\n      <td>5.0</td>\n      <td>4.50</td>\n      <td>0</td>\n      <td>1</td>\n      <td>...</td>\n      <td>0</td>\n      <td>0</td>\n      <td>0</td>\n      <td>0</td>\n      <td>0</td>\n      <td>0</td>\n      <td>0</td>\n      <td>0</td>\n      <td>1</td>\n      <td>1</td>\n    </tr>\n    <tr>\n      <th>3</th>\n      <td>2012</td>\n      <td>87000</td>\n      <td>1</td>\n      <td>20.77 kmpl</td>\n      <td>1248 CC</td>\n      <td>88.76 bhp</td>\n      <td>7.0</td>\n      <td>6.00</td>\n      <td>0</td>\n      <td>1</td>\n      <td>...</td>\n      <td>0</td>\n      <td>0</td>\n      <td>0</td>\n      <td>0</td>\n      <td>0</td>\n      <td>0</td>\n      <td>1</td>\n      <td>0</td>\n      <td>0</td>\n      <td>1</td>\n    </tr>\n    <tr>\n      <th>4</th>\n      <td>2013</td>\n      <td>40670</td>\n      <td>2</td>\n      <td>15.2 kmpl</td>\n      <td>1968 CC</td>\n      <td>140.8 bhp</td>\n      <td>5.0</td>\n      <td>17.74</td>\n      <td>0</td>\n      <td>0</td>\n      <td>...</td>\n      <td>0</td>\n      <td>0</td>\n      <td>0</td>\n      <td>0</td>\n      <td>0</td>\n      <td>0</td>\n      <td>1</td>\n      <td>0</td>\n      <td>0</td>\n      <td>0</td>\n    </tr>\n  </tbody>\n</table>\n<p>5 rows × 22 columns</p>\n</div>"
          },
          "metadata": {}
        }
      ]
    },
    {
      "cell_type": "code",
      "source": [
        "final_train.shape"
      ],
      "metadata": {
        "execution": {
          "iopub.status.busy": "2024-06-10T11:24:46.803627Z",
          "iopub.execute_input": "2024-06-10T11:24:46.804001Z",
          "iopub.status.idle": "2024-06-10T11:24:46.808774Z",
          "shell.execute_reply.started": "2024-06-10T11:24:46.803970Z",
          "shell.execute_reply": "2024-06-10T11:24:46.808006Z"
        },
        "trusted": true,
        "id": "Ti0r0QJpAqXH",
        "outputId": "882fa771-8bfa-41a5-eea0-556b688a66d1"
      },
      "execution_count": null,
      "outputs": [
        {
          "execution_count": 29,
          "output_type": "execute_result",
          "data": {
            "text/plain": "(5975, 22)"
          },
          "metadata": {}
        }
      ]
    },
    {
      "cell_type": "code",
      "source": [
        "final_train= pd.concat([train_data,Location,Fuel_t,Transmission],axis=1)\n",
        "final_train.head()"
      ],
      "metadata": {
        "execution": {
          "iopub.status.busy": "2024-06-10T11:24:46.810018Z",
          "iopub.execute_input": "2024-06-10T11:24:46.810309Z",
          "iopub.status.idle": "2024-06-10T11:24:46.843011Z",
          "shell.execute_reply.started": "2024-06-10T11:24:46.810282Z",
          "shell.execute_reply": "2024-06-10T11:24:46.842300Z"
        },
        "trusted": true,
        "id": "kClhI4fIAqXH",
        "outputId": "278a314c-6ed9-472f-bfe3-0f613e7c9ec8"
      },
      "execution_count": null,
      "outputs": [
        {
          "execution_count": 30,
          "output_type": "execute_result",
          "data": {
            "text/plain": "     Location  Year  Kilometers_Driven Fuel_Type Transmission  Owner_Type  \\\n0      Mumbai  2010              72000       CNG       Manual           1   \n1        Pune  2015              41000    Diesel       Manual           1   \n2     Chennai  2011              46000    Petrol       Manual           1   \n3     Chennai  2012              87000    Diesel       Manual           1   \n4  Coimbatore  2013              40670    Diesel    Automatic           2   \n\n      Mileage   Engine      Power  Seats  ... Location_Hyderabad  \\\n0  26.6 km/kg   998 CC  58.16 bhp    5.0  ...                  0   \n1  19.67 kmpl  1582 CC  126.2 bhp    5.0  ...                  0   \n2   18.2 kmpl  1199 CC   88.7 bhp    5.0  ...                  0   \n3  20.77 kmpl  1248 CC  88.76 bhp    7.0  ...                  0   \n4   15.2 kmpl  1968 CC  140.8 bhp    5.0  ...                  0   \n\n   Location_Jaipur  Location_Kochi  Location_Kolkata  Location_Mumbai  \\\n0                0               0                 0                1   \n1                0               0                 0                0   \n2                0               0                 0                0   \n3                0               0                 0                0   \n4                0               0                 0                0   \n\n   Location_Pune  Fuel_Type_Diesel  Fuel_Type_LPG  Fuel_Type_Petrol  \\\n0              0                 0              0                 0   \n1              1                 1              0                 0   \n2              0                 0              0                 1   \n3              0                 1              0                 0   \n4              0                 1              0                 0   \n\n   Transmission_Manual  \n0                    1  \n1                    1  \n2                    1  \n3                    1  \n4                    0  \n\n[5 rows x 26 columns]",
            "text/html": "<div>\n<style scoped>\n    .dataframe tbody tr th:only-of-type {\n        vertical-align: middle;\n    }\n\n    .dataframe tbody tr th {\n        vertical-align: top;\n    }\n\n    .dataframe thead th {\n        text-align: right;\n    }\n</style>\n<table border=\"1\" class=\"dataframe\">\n  <thead>\n    <tr style=\"text-align: right;\">\n      <th></th>\n      <th>Location</th>\n      <th>Year</th>\n      <th>Kilometers_Driven</th>\n      <th>Fuel_Type</th>\n      <th>Transmission</th>\n      <th>Owner_Type</th>\n      <th>Mileage</th>\n      <th>Engine</th>\n      <th>Power</th>\n      <th>Seats</th>\n      <th>...</th>\n      <th>Location_Hyderabad</th>\n      <th>Location_Jaipur</th>\n      <th>Location_Kochi</th>\n      <th>Location_Kolkata</th>\n      <th>Location_Mumbai</th>\n      <th>Location_Pune</th>\n      <th>Fuel_Type_Diesel</th>\n      <th>Fuel_Type_LPG</th>\n      <th>Fuel_Type_Petrol</th>\n      <th>Transmission_Manual</th>\n    </tr>\n  </thead>\n  <tbody>\n    <tr>\n      <th>0</th>\n      <td>Mumbai</td>\n      <td>2010</td>\n      <td>72000</td>\n      <td>CNG</td>\n      <td>Manual</td>\n      <td>1</td>\n      <td>26.6 km/kg</td>\n      <td>998 CC</td>\n      <td>58.16 bhp</td>\n      <td>5.0</td>\n      <td>...</td>\n      <td>0</td>\n      <td>0</td>\n      <td>0</td>\n      <td>0</td>\n      <td>1</td>\n      <td>0</td>\n      <td>0</td>\n      <td>0</td>\n      <td>0</td>\n      <td>1</td>\n    </tr>\n    <tr>\n      <th>1</th>\n      <td>Pune</td>\n      <td>2015</td>\n      <td>41000</td>\n      <td>Diesel</td>\n      <td>Manual</td>\n      <td>1</td>\n      <td>19.67 kmpl</td>\n      <td>1582 CC</td>\n      <td>126.2 bhp</td>\n      <td>5.0</td>\n      <td>...</td>\n      <td>0</td>\n      <td>0</td>\n      <td>0</td>\n      <td>0</td>\n      <td>0</td>\n      <td>1</td>\n      <td>1</td>\n      <td>0</td>\n      <td>0</td>\n      <td>1</td>\n    </tr>\n    <tr>\n      <th>2</th>\n      <td>Chennai</td>\n      <td>2011</td>\n      <td>46000</td>\n      <td>Petrol</td>\n      <td>Manual</td>\n      <td>1</td>\n      <td>18.2 kmpl</td>\n      <td>1199 CC</td>\n      <td>88.7 bhp</td>\n      <td>5.0</td>\n      <td>...</td>\n      <td>0</td>\n      <td>0</td>\n      <td>0</td>\n      <td>0</td>\n      <td>0</td>\n      <td>0</td>\n      <td>0</td>\n      <td>0</td>\n      <td>1</td>\n      <td>1</td>\n    </tr>\n    <tr>\n      <th>3</th>\n      <td>Chennai</td>\n      <td>2012</td>\n      <td>87000</td>\n      <td>Diesel</td>\n      <td>Manual</td>\n      <td>1</td>\n      <td>20.77 kmpl</td>\n      <td>1248 CC</td>\n      <td>88.76 bhp</td>\n      <td>7.0</td>\n      <td>...</td>\n      <td>0</td>\n      <td>0</td>\n      <td>0</td>\n      <td>0</td>\n      <td>0</td>\n      <td>0</td>\n      <td>1</td>\n      <td>0</td>\n      <td>0</td>\n      <td>1</td>\n    </tr>\n    <tr>\n      <th>4</th>\n      <td>Coimbatore</td>\n      <td>2013</td>\n      <td>40670</td>\n      <td>Diesel</td>\n      <td>Automatic</td>\n      <td>2</td>\n      <td>15.2 kmpl</td>\n      <td>1968 CC</td>\n      <td>140.8 bhp</td>\n      <td>5.0</td>\n      <td>...</td>\n      <td>0</td>\n      <td>0</td>\n      <td>0</td>\n      <td>0</td>\n      <td>0</td>\n      <td>0</td>\n      <td>1</td>\n      <td>0</td>\n      <td>0</td>\n      <td>0</td>\n    </tr>\n  </tbody>\n</table>\n<p>5 rows × 26 columns</p>\n</div>"
          },
          "metadata": {}
        }
      ]
    },
    {
      "cell_type": "code",
      "source": [
        "final_train.shape"
      ],
      "metadata": {
        "execution": {
          "iopub.status.busy": "2024-06-10T11:24:46.844365Z",
          "iopub.execute_input": "2024-06-10T11:24:46.844640Z",
          "iopub.status.idle": "2024-06-10T11:24:46.849472Z",
          "shell.execute_reply.started": "2024-06-10T11:24:46.844614Z",
          "shell.execute_reply": "2024-06-10T11:24:46.848639Z"
        },
        "trusted": true,
        "id": "Szx9ECJMAqXH",
        "outputId": "fb9133aa-4ae7-45d3-a158-2e71bf57e80d"
      },
      "execution_count": null,
      "outputs": [
        {
          "execution_count": 31,
          "output_type": "execute_result",
          "data": {
            "text/plain": "(5975, 26)"
          },
          "metadata": {}
        }
      ]
    },
    {
      "cell_type": "code",
      "source": [
        "test_data.head()"
      ],
      "metadata": {
        "execution": {
          "iopub.status.busy": "2024-06-10T11:24:46.853712Z",
          "iopub.execute_input": "2024-06-10T11:24:46.853997Z",
          "iopub.status.idle": "2024-06-10T11:24:46.874445Z",
          "shell.execute_reply.started": "2024-06-10T11:24:46.853966Z",
          "shell.execute_reply": "2024-06-10T11:24:46.873568Z"
        },
        "trusted": true,
        "id": "6sDUFeNGAqXH",
        "outputId": "a5fd31ec-c5e5-4d79-a60c-34c26347aa08"
      },
      "execution_count": null,
      "outputs": [
        {
          "execution_count": 32,
          "output_type": "execute_result",
          "data": {
            "text/plain": "   Unnamed: 0                                       Name    Location  Year  \\\n0           0                    Maruti Alto K10 LXI CNG       Delhi  2014   \n1           1              Maruti Alto 800 2016-2019 LXI  Coimbatore  2013   \n2           2  Toyota Innova Crysta Touring Sport 2.4 MT      Mumbai  2017   \n3           3                       Toyota Etios Liva GD   Hyderabad  2012   \n4           4                          Hyundai i20 Magna      Mumbai  2014   \n\n   Kilometers_Driven Fuel_Type Transmission Owner_Type      Mileage   Engine  \\\n0              40929       CNG       Manual      First  32.26 km/kg   998 CC   \n1              54493    Petrol       Manual     Second    24.7 kmpl   796 CC   \n2              34000    Diesel       Manual      First   13.68 kmpl  2393 CC   \n3             139000    Diesel       Manual      First   23.59 kmpl  1364 CC   \n4              29000    Petrol       Manual      First    18.5 kmpl  1197 CC   \n\n       Power  Seats   New_Price  \n0   58.2 bhp    4.0         NaN  \n1   47.3 bhp    5.0         NaN  \n2  147.8 bhp    7.0  25.27 Lakh  \n3   null bhp    5.0         NaN  \n4  82.85 bhp    5.0         NaN  ",
            "text/html": "<div>\n<style scoped>\n    .dataframe tbody tr th:only-of-type {\n        vertical-align: middle;\n    }\n\n    .dataframe tbody tr th {\n        vertical-align: top;\n    }\n\n    .dataframe thead th {\n        text-align: right;\n    }\n</style>\n<table border=\"1\" class=\"dataframe\">\n  <thead>\n    <tr style=\"text-align: right;\">\n      <th></th>\n      <th>Unnamed: 0</th>\n      <th>Name</th>\n      <th>Location</th>\n      <th>Year</th>\n      <th>Kilometers_Driven</th>\n      <th>Fuel_Type</th>\n      <th>Transmission</th>\n      <th>Owner_Type</th>\n      <th>Mileage</th>\n      <th>Engine</th>\n      <th>Power</th>\n      <th>Seats</th>\n      <th>New_Price</th>\n    </tr>\n  </thead>\n  <tbody>\n    <tr>\n      <th>0</th>\n      <td>0</td>\n      <td>Maruti Alto K10 LXI CNG</td>\n      <td>Delhi</td>\n      <td>2014</td>\n      <td>40929</td>\n      <td>CNG</td>\n      <td>Manual</td>\n      <td>First</td>\n      <td>32.26 km/kg</td>\n      <td>998 CC</td>\n      <td>58.2 bhp</td>\n      <td>4.0</td>\n      <td>NaN</td>\n    </tr>\n    <tr>\n      <th>1</th>\n      <td>1</td>\n      <td>Maruti Alto 800 2016-2019 LXI</td>\n      <td>Coimbatore</td>\n      <td>2013</td>\n      <td>54493</td>\n      <td>Petrol</td>\n      <td>Manual</td>\n      <td>Second</td>\n      <td>24.7 kmpl</td>\n      <td>796 CC</td>\n      <td>47.3 bhp</td>\n      <td>5.0</td>\n      <td>NaN</td>\n    </tr>\n    <tr>\n      <th>2</th>\n      <td>2</td>\n      <td>Toyota Innova Crysta Touring Sport 2.4 MT</td>\n      <td>Mumbai</td>\n      <td>2017</td>\n      <td>34000</td>\n      <td>Diesel</td>\n      <td>Manual</td>\n      <td>First</td>\n      <td>13.68 kmpl</td>\n      <td>2393 CC</td>\n      <td>147.8 bhp</td>\n      <td>7.0</td>\n      <td>25.27 Lakh</td>\n    </tr>\n    <tr>\n      <th>3</th>\n      <td>3</td>\n      <td>Toyota Etios Liva GD</td>\n      <td>Hyderabad</td>\n      <td>2012</td>\n      <td>139000</td>\n      <td>Diesel</td>\n      <td>Manual</td>\n      <td>First</td>\n      <td>23.59 kmpl</td>\n      <td>1364 CC</td>\n      <td>null bhp</td>\n      <td>5.0</td>\n      <td>NaN</td>\n    </tr>\n    <tr>\n      <th>4</th>\n      <td>4</td>\n      <td>Hyundai i20 Magna</td>\n      <td>Mumbai</td>\n      <td>2014</td>\n      <td>29000</td>\n      <td>Petrol</td>\n      <td>Manual</td>\n      <td>First</td>\n      <td>18.5 kmpl</td>\n      <td>1197 CC</td>\n      <td>82.85 bhp</td>\n      <td>5.0</td>\n      <td>NaN</td>\n    </tr>\n  </tbody>\n</table>\n</div>"
          },
          "metadata": {}
        }
      ]
    },
    {
      "cell_type": "code",
      "source": [
        "test_data = test_data.iloc[:,1:]\n",
        "\n",
        "test_data = test_data[test_data['Mileage'].notna()]\n",
        "test_data = test_data[test_data['Engine'].notna()]\n",
        "test_data = test_data[test_data['Power'].notna()]\n",
        "test_data = test_data[test_data['Seats'].notna()]\n",
        "\n",
        "test_data = test_data.reset_index(drop=True)\n",
        "\n",
        "var = 'Location'\n",
        "Location = test_data[[var]]\n",
        "Location = pd.get_dummies(Location,drop_first=True)\n",
        "Location.head()\n",
        "\n",
        "var = 'Fuel_Type'\n",
        "Fuel_t = test_data[[var]]\n",
        "Fuel_t = pd.get_dummies(Fuel_t,drop_first=True)\n",
        "Fuel_t.head()\n",
        "\n",
        "var = 'Transmission'\n",
        "Transmission = test_data[[var]]\n",
        "Transmission = pd.get_dummies(Transmission,drop_first=True)\n",
        "Transmission.head()\n",
        "\n",
        "test_data.replace({\"First\":1,\"Second\":2,\"Third\": 3,\"Fourth & Above\":4},inplace=True)\n",
        "test_data.head()\n",
        "\n",
        "final_test= pd.concat([test_data,Location,Fuel_t,Transmission],axis=1)\n",
        "final_test.head()\n",
        "\n",
        "final_test.drop([\"Location\",\"Fuel_Type\",\"Transmission\",\"New_Price\"],axis=1,inplace=True)\n",
        "final_test.head()\n",
        "\n",
        "print(\"Final Test Size: \",final_test.shape)\n"
      ],
      "metadata": {
        "execution": {
          "iopub.status.busy": "2024-06-10T11:24:46.875711Z",
          "iopub.execute_input": "2024-06-10T11:24:46.875981Z",
          "iopub.status.idle": "2024-06-10T11:24:46.921905Z",
          "shell.execute_reply.started": "2024-06-10T11:24:46.875955Z",
          "shell.execute_reply": "2024-06-10T11:24:46.920977Z"
        },
        "trusted": true,
        "id": "FEIlnQCdAqXH",
        "outputId": "0bcb62d1-3845-4b24-d906-ee88c8b1411e"
      },
      "execution_count": null,
      "outputs": [
        {
          "name": "stdout",
          "text": "Final Test Size:  (1223, 22)\n",
          "output_type": "stream"
        }
      ]
    },
    {
      "cell_type": "code",
      "source": [
        "final_test.head()"
      ],
      "metadata": {
        "execution": {
          "iopub.status.busy": "2024-06-10T11:24:46.923241Z",
          "iopub.execute_input": "2024-06-10T11:24:46.923611Z",
          "iopub.status.idle": "2024-06-10T11:24:46.948624Z",
          "shell.execute_reply.started": "2024-06-10T11:24:46.923575Z",
          "shell.execute_reply": "2024-06-10T11:24:46.947732Z"
        },
        "trusted": true,
        "id": "hR7GcTxHAqXH",
        "outputId": "fe4123bb-b3f5-4a9b-ca00-44bf98dbffd3"
      },
      "execution_count": null,
      "outputs": [
        {
          "execution_count": 34,
          "output_type": "execute_result",
          "data": {
            "text/plain": "                                        Name  Year  Kilometers_Driven  \\\n0                    Maruti Alto K10 LXI CNG  2014              40929   \n1              Maruti Alto 800 2016-2019 LXI  2013              54493   \n2  Toyota Innova Crysta Touring Sport 2.4 MT  2017              34000   \n3                       Toyota Etios Liva GD  2012             139000   \n4                          Hyundai i20 Magna  2014              29000   \n\n   Owner_Type      Mileage   Engine      Power  Seats  Location_Bangalore  \\\n0           1  32.26 km/kg   998 CC   58.2 bhp    4.0                   0   \n1           2    24.7 kmpl   796 CC   47.3 bhp    5.0                   0   \n2           1   13.68 kmpl  2393 CC  147.8 bhp    7.0                   0   \n3           1   23.59 kmpl  1364 CC   null bhp    5.0                   0   \n4           1    18.5 kmpl  1197 CC  82.85 bhp    5.0                   0   \n\n   Location_Chennai  ...  Location_Hyderabad  Location_Jaipur  Location_Kochi  \\\n0                 0  ...                   0                0               0   \n1                 0  ...                   0                0               0   \n2                 0  ...                   0                0               0   \n3                 0  ...                   1                0               0   \n4                 0  ...                   0                0               0   \n\n   Location_Kolkata  Location_Mumbai  Location_Pune  Fuel_Type_Diesel  \\\n0                 0                0              0                 0   \n1                 0                0              0                 0   \n2                 0                1              0                 1   \n3                 0                0              0                 1   \n4                 0                1              0                 0   \n\n   Fuel_Type_LPG  Fuel_Type_Petrol  Transmission_Manual  \n0              0                 0                    1  \n1              0                 1                    1  \n2              0                 0                    1  \n3              0                 0                    1  \n4              0                 1                    1  \n\n[5 rows x 22 columns]",
            "text/html": "<div>\n<style scoped>\n    .dataframe tbody tr th:only-of-type {\n        vertical-align: middle;\n    }\n\n    .dataframe tbody tr th {\n        vertical-align: top;\n    }\n\n    .dataframe thead th {\n        text-align: right;\n    }\n</style>\n<table border=\"1\" class=\"dataframe\">\n  <thead>\n    <tr style=\"text-align: right;\">\n      <th></th>\n      <th>Name</th>\n      <th>Year</th>\n      <th>Kilometers_Driven</th>\n      <th>Owner_Type</th>\n      <th>Mileage</th>\n      <th>Engine</th>\n      <th>Power</th>\n      <th>Seats</th>\n      <th>Location_Bangalore</th>\n      <th>Location_Chennai</th>\n      <th>...</th>\n      <th>Location_Hyderabad</th>\n      <th>Location_Jaipur</th>\n      <th>Location_Kochi</th>\n      <th>Location_Kolkata</th>\n      <th>Location_Mumbai</th>\n      <th>Location_Pune</th>\n      <th>Fuel_Type_Diesel</th>\n      <th>Fuel_Type_LPG</th>\n      <th>Fuel_Type_Petrol</th>\n      <th>Transmission_Manual</th>\n    </tr>\n  </thead>\n  <tbody>\n    <tr>\n      <th>0</th>\n      <td>Maruti Alto K10 LXI CNG</td>\n      <td>2014</td>\n      <td>40929</td>\n      <td>1</td>\n      <td>32.26 km/kg</td>\n      <td>998 CC</td>\n      <td>58.2 bhp</td>\n      <td>4.0</td>\n      <td>0</td>\n      <td>0</td>\n      <td>...</td>\n      <td>0</td>\n      <td>0</td>\n      <td>0</td>\n      <td>0</td>\n      <td>0</td>\n      <td>0</td>\n      <td>0</td>\n      <td>0</td>\n      <td>0</td>\n      <td>1</td>\n    </tr>\n    <tr>\n      <th>1</th>\n      <td>Maruti Alto 800 2016-2019 LXI</td>\n      <td>2013</td>\n      <td>54493</td>\n      <td>2</td>\n      <td>24.7 kmpl</td>\n      <td>796 CC</td>\n      <td>47.3 bhp</td>\n      <td>5.0</td>\n      <td>0</td>\n      <td>0</td>\n      <td>...</td>\n      <td>0</td>\n      <td>0</td>\n      <td>0</td>\n      <td>0</td>\n      <td>0</td>\n      <td>0</td>\n      <td>0</td>\n      <td>0</td>\n      <td>1</td>\n      <td>1</td>\n    </tr>\n    <tr>\n      <th>2</th>\n      <td>Toyota Innova Crysta Touring Sport 2.4 MT</td>\n      <td>2017</td>\n      <td>34000</td>\n      <td>1</td>\n      <td>13.68 kmpl</td>\n      <td>2393 CC</td>\n      <td>147.8 bhp</td>\n      <td>7.0</td>\n      <td>0</td>\n      <td>0</td>\n      <td>...</td>\n      <td>0</td>\n      <td>0</td>\n      <td>0</td>\n      <td>0</td>\n      <td>1</td>\n      <td>0</td>\n      <td>1</td>\n      <td>0</td>\n      <td>0</td>\n      <td>1</td>\n    </tr>\n    <tr>\n      <th>3</th>\n      <td>Toyota Etios Liva GD</td>\n      <td>2012</td>\n      <td>139000</td>\n      <td>1</td>\n      <td>23.59 kmpl</td>\n      <td>1364 CC</td>\n      <td>null bhp</td>\n      <td>5.0</td>\n      <td>0</td>\n      <td>0</td>\n      <td>...</td>\n      <td>1</td>\n      <td>0</td>\n      <td>0</td>\n      <td>0</td>\n      <td>0</td>\n      <td>0</td>\n      <td>1</td>\n      <td>0</td>\n      <td>0</td>\n      <td>1</td>\n    </tr>\n    <tr>\n      <th>4</th>\n      <td>Hyundai i20 Magna</td>\n      <td>2014</td>\n      <td>29000</td>\n      <td>1</td>\n      <td>18.5 kmpl</td>\n      <td>1197 CC</td>\n      <td>82.85 bhp</td>\n      <td>5.0</td>\n      <td>0</td>\n      <td>0</td>\n      <td>...</td>\n      <td>0</td>\n      <td>0</td>\n      <td>0</td>\n      <td>0</td>\n      <td>1</td>\n      <td>0</td>\n      <td>0</td>\n      <td>0</td>\n      <td>1</td>\n      <td>1</td>\n    </tr>\n  </tbody>\n</table>\n<p>5 rows × 22 columns</p>\n</div>"
          },
          "metadata": {}
        }
      ]
    },
    {
      "cell_type": "code",
      "source": [
        "final_train.columns"
      ],
      "metadata": {
        "execution": {
          "iopub.status.busy": "2024-06-10T11:24:46.949607Z",
          "iopub.execute_input": "2024-06-10T11:24:46.949887Z",
          "iopub.status.idle": "2024-06-10T11:24:46.954963Z",
          "shell.execute_reply.started": "2024-06-10T11:24:46.949859Z",
          "shell.execute_reply": "2024-06-10T11:24:46.954251Z"
        },
        "trusted": true,
        "id": "NOHo6RTkAqXI",
        "outputId": "64335955-7afe-4f0d-d8a0-057ae35de3c0"
      },
      "execution_count": null,
      "outputs": [
        {
          "execution_count": 35,
          "output_type": "execute_result",
          "data": {
            "text/plain": "Index(['Location', 'Year', 'Kilometers_Driven', 'Fuel_Type', 'Transmission',\n       'Owner_Type', 'Mileage', 'Engine', 'Power', 'Seats', 'New_Price',\n       'Price', 'Location_Bangalore', 'Location_Chennai',\n       'Location_Coimbatore', 'Location_Delhi', 'Location_Hyderabad',\n       'Location_Jaipur', 'Location_Kochi', 'Location_Kolkata',\n       'Location_Mumbai', 'Location_Pune', 'Fuel_Type_Diesel', 'Fuel_Type_LPG',\n       'Fuel_Type_Petrol', 'Transmission_Manual'],\n      dtype='object')"
          },
          "metadata": {}
        }
      ]
    },
    {
      "cell_type": "code",
      "source": [
        "y = final_train.loc[:,['Price']]\n",
        "y.head()"
      ],
      "metadata": {
        "execution": {
          "iopub.status.busy": "2024-06-10T11:24:46.955967Z",
          "iopub.execute_input": "2024-06-10T11:24:46.956266Z",
          "iopub.status.idle": "2024-06-10T11:24:46.971175Z",
          "shell.execute_reply.started": "2024-06-10T11:24:46.956240Z",
          "shell.execute_reply": "2024-06-10T11:24:46.970068Z"
        },
        "trusted": true,
        "id": "yvZk47SUAqXI",
        "outputId": "cbb2a828-7fbc-4856-fdb0-9c6e0713ba45"
      },
      "execution_count": null,
      "outputs": [
        {
          "execution_count": 36,
          "output_type": "execute_result",
          "data": {
            "text/plain": "   Price\n0   1.75\n1  12.50\n2   4.50\n3   6.00\n4  17.74",
            "text/html": "<div>\n<style scoped>\n    .dataframe tbody tr th:only-of-type {\n        vertical-align: middle;\n    }\n\n    .dataframe tbody tr th {\n        vertical-align: top;\n    }\n\n    .dataframe thead th {\n        text-align: right;\n    }\n</style>\n<table border=\"1\" class=\"dataframe\">\n  <thead>\n    <tr style=\"text-align: right;\">\n      <th></th>\n      <th>Price</th>\n    </tr>\n  </thead>\n  <tbody>\n    <tr>\n      <th>0</th>\n      <td>1.75</td>\n    </tr>\n    <tr>\n      <th>1</th>\n      <td>12.50</td>\n    </tr>\n    <tr>\n      <th>2</th>\n      <td>4.50</td>\n    </tr>\n    <tr>\n      <th>3</th>\n      <td>6.00</td>\n    </tr>\n    <tr>\n      <th>4</th>\n      <td>17.74</td>\n    </tr>\n  </tbody>\n</table>\n</div>"
          },
          "metadata": {}
        }
      ]
    },
    {
      "cell_type": "code",
      "source": [
        "X = final_train.loc[:,['Year', 'Kilometers_Driven', 'Owner_Type', 'Seats',\n",
        "       'Location_Bangalore', 'Location_Chennai', 'Location_Coimbatore',\n",
        "       'Location_Delhi', 'Location_Hyderabad', 'Location_Jaipur',\n",
        "       'Location_Kochi', 'Location_Kolkata', 'Location_Mumbai',\n",
        "       'Location_Pune', 'Fuel_Type_Diesel', 'Fuel_Type_LPG',\n",
        "       'Fuel_Type_Petrol', 'Transmission_Manual']]\n",
        "X.shape"
      ],
      "metadata": {
        "execution": {
          "iopub.status.busy": "2024-06-10T11:24:46.972153Z",
          "iopub.execute_input": "2024-06-10T11:24:46.972403Z",
          "iopub.status.idle": "2024-06-10T11:24:46.980477Z",
          "shell.execute_reply.started": "2024-06-10T11:24:46.972379Z",
          "shell.execute_reply": "2024-06-10T11:24:46.979504Z"
        },
        "trusted": true,
        "id": "0VN4kUy5AqXI",
        "outputId": "02255bd6-9bc5-4cea-a55d-d30089f88315"
      },
      "execution_count": null,
      "outputs": [
        {
          "execution_count": 37,
          "output_type": "execute_result",
          "data": {
            "text/plain": "(5975, 18)"
          },
          "metadata": {}
        }
      ]
    },
    {
      "cell_type": "code",
      "source": [
        "y = final_train.loc[:,['Price']]\n",
        "y.head()"
      ],
      "metadata": {
        "execution": {
          "iopub.status.busy": "2024-06-10T11:24:46.981577Z",
          "iopub.execute_input": "2024-06-10T11:24:46.981847Z",
          "iopub.status.idle": "2024-06-10T11:24:46.997707Z",
          "shell.execute_reply.started": "2024-06-10T11:24:46.981821Z",
          "shell.execute_reply": "2024-06-10T11:24:46.996871Z"
        },
        "trusted": true,
        "id": "Krp5Nz17AqXI",
        "outputId": "4a1d362d-73df-427d-a4e9-e27e3bb5cc53"
      },
      "execution_count": null,
      "outputs": [
        {
          "execution_count": 38,
          "output_type": "execute_result",
          "data": {
            "text/plain": "   Price\n0   1.75\n1  12.50\n2   4.50\n3   6.00\n4  17.74",
            "text/html": "<div>\n<style scoped>\n    .dataframe tbody tr th:only-of-type {\n        vertical-align: middle;\n    }\n\n    .dataframe tbody tr th {\n        vertical-align: top;\n    }\n\n    .dataframe thead th {\n        text-align: right;\n    }\n</style>\n<table border=\"1\" class=\"dataframe\">\n  <thead>\n    <tr style=\"text-align: right;\">\n      <th></th>\n      <th>Price</th>\n    </tr>\n  </thead>\n  <tbody>\n    <tr>\n      <th>0</th>\n      <td>1.75</td>\n    </tr>\n    <tr>\n      <th>1</th>\n      <td>12.50</td>\n    </tr>\n    <tr>\n      <th>2</th>\n      <td>4.50</td>\n    </tr>\n    <tr>\n      <th>3</th>\n      <td>6.00</td>\n    </tr>\n    <tr>\n      <th>4</th>\n      <td>17.74</td>\n    </tr>\n  </tbody>\n</table>\n</div>"
          },
          "metadata": {}
        }
      ]
    },
    {
      "cell_type": "code",
      "source": [
        "from sklearn.ensemble import ExtraTreesRegressor\n",
        "selection= ExtraTreesRegressor()\n",
        "selection.fit(X,y)"
      ],
      "metadata": {
        "execution": {
          "iopub.status.busy": "2024-06-10T11:24:46.998881Z",
          "iopub.execute_input": "2024-06-10T11:24:46.999188Z",
          "iopub.status.idle": "2024-06-10T11:24:48.475205Z",
          "shell.execute_reply.started": "2024-06-10T11:24:46.999161Z",
          "shell.execute_reply": "2024-06-10T11:24:48.474331Z"
        },
        "trusted": true,
        "id": "dpHTNRoJAqXI",
        "outputId": "6a79ac3e-0b61-4e01-fed2-7bd867a6571a"
      },
      "execution_count": null,
      "outputs": [
        {
          "name": "stderr",
          "text": "/opt/conda/lib/python3.7/site-packages/ipykernel_launcher.py:3: DataConversionWarning: A column-vector y was passed when a 1d array was expected. Please change the shape of y to (n_samples,), for example using ravel().\n  This is separate from the ipykernel package so we can avoid doing imports until\n",
          "output_type": "stream"
        },
        {
          "execution_count": 39,
          "output_type": "execute_result",
          "data": {
            "text/plain": "ExtraTreesRegressor()"
          },
          "metadata": {}
        }
      ]
    },
    {
      "cell_type": "code",
      "source": [
        "from sklearn.model_selection import train_test_split\n",
        "X_train, X_test, y_train, y_test = train_test_split(X, y, test_size = 0.2, random_state = 25)"
      ],
      "metadata": {
        "execution": {
          "iopub.status.busy": "2024-06-10T11:24:48.875908Z",
          "iopub.execute_input": "2024-06-10T11:24:48.876256Z",
          "iopub.status.idle": "2024-06-10T11:24:48.886597Z",
          "shell.execute_reply.started": "2024-06-10T11:24:48.876222Z",
          "shell.execute_reply": "2024-06-10T11:24:48.885741Z"
        },
        "trusted": true,
        "id": "CfsuzsUjAqXI"
      },
      "execution_count": null,
      "outputs": []
    },
    {
      "cell_type": "markdown",
      "source": [
        " Linear Regression"
      ],
      "metadata": {
        "id": "iUjhctUqAqXI"
      }
    },
    {
      "cell_type": "code",
      "source": [
        "from sklearn.linear_model import LinearRegression\n",
        "linear_reg = LinearRegression()\n",
        "linear_reg.fit(X_train, y_train)\n",
        "y_pred= linear_reg.predict(X_test)\n",
        "print(\"Accuracy on Traing set: \",linear_reg.score(X_train,y_train))\n",
        "print(\"Accuracy on Testing set: \",linear_reg.score(X_test,y_test))"
      ],
      "metadata": {
        "execution": {
          "iopub.status.busy": "2024-06-10T11:24:48.887947Z",
          "iopub.execute_input": "2024-06-10T11:24:48.888340Z",
          "iopub.status.idle": "2024-06-10T11:24:48.942912Z",
          "shell.execute_reply.started": "2024-06-10T11:24:48.888289Z",
          "shell.execute_reply": "2024-06-10T11:24:48.942081Z"
        },
        "trusted": true,
        "id": "wsM6BBWaAqXJ",
        "outputId": "9472810e-bea2-4997-de89-385d1c2063cb"
      },
      "execution_count": null,
      "outputs": [
        {
          "name": "stdout",
          "text": "Accuracy on Traing set:  0.48371330287141245\nAccuracy on Testing set:  0.07105280579988249\n",
          "output_type": "stream"
        }
      ]
    },
    {
      "cell_type": "markdown",
      "source": [
        "Random Forest Regressor"
      ],
      "metadata": {
        "id": "9SfH70PGAqXP"
      }
    },
    {
      "cell_type": "code",
      "source": [
        "from sklearn.ensemble import RandomForestRegressor\n",
        "rf_reg = RandomForestRegressor()\n",
        "rf_reg.fit(X_train, y_train)\n",
        "y_pred= rf_reg.predict(X_test)\n",
        "print(\"Accuracy on Traing set: \",rf_reg.score(X_train,y_train))\n",
        "print(\"Accuracy on Testing set: \",rf_reg.score(X_test,y_test))"
      ],
      "metadata": {
        "execution": {
          "iopub.status.busy": "2024-06-10T11:24:48.944181Z",
          "iopub.execute_input": "2024-06-10T11:24:48.944482Z",
          "iopub.status.idle": "2024-06-10T11:24:50.357121Z",
          "shell.execute_reply.started": "2024-06-10T11:24:48.944454Z",
          "shell.execute_reply": "2024-06-10T11:24:50.356294Z"
        },
        "trusted": true,
        "id": "EHRgL8SHAqXP",
        "outputId": "d4d9f526-e0e1-45dc-ab47-97cf93467177"
      },
      "execution_count": null,
      "outputs": [
        {
          "name": "stderr",
          "text": "/opt/conda/lib/python3.7/site-packages/ipykernel_launcher.py:3: DataConversionWarning: A column-vector y was passed when a 1d array was expected. Please change the shape of y to (n_samples,), for example using ravel().\n  This is separate from the ipykernel package so we can avoid doing imports until\n",
          "output_type": "stream"
        },
        {
          "name": "stdout",
          "text": "Accuracy on Traing set:  0.9425351324445937\nAccuracy on Testing set:  0.5484755578808167\n",
          "output_type": "stream"
        }
      ]
    },
    {
      "cell_type": "code",
      "source": [
        "from sklearn import metrics\n",
        "from sklearn.metrics import mean_squared_error, mean_absolute_error\n",
        "\n",
        "print(\"\\t\\tError Table\")\n",
        "print('Mean Absolute Error      : ', metrics.mean_absolute_error(y_test, y_pred))\n",
        "print('Mean Squared  Error      : ', metrics.mean_squared_error(y_test, y_pred))\n",
        "print('Root Mean Squared  Error : ', np.sqrt(metrics.mean_squared_error(y_test, y_pred)))\n",
        "print('R Squared Error          : ', metrics.r2_score(y_test, y_pred))"
      ],
      "metadata": {
        "execution": {
          "iopub.status.busy": "2024-06-10T11:24:50.358275Z",
          "iopub.execute_input": "2024-06-10T11:24:50.358549Z",
          "iopub.status.idle": "2024-06-10T11:24:50.374490Z",
          "shell.execute_reply.started": "2024-06-10T11:24:50.358522Z",
          "shell.execute_reply": "2024-06-10T11:24:50.373731Z"
        },
        "trusted": true,
        "id": "gxTNf87IAqXP",
        "outputId": "9e0e2103-dbfd-493f-84c4-74458ab03ba8"
      },
      "execution_count": null,
      "outputs": [
        {
          "name": "stdout",
          "text": "\t\tError Table\nMean Absolute Error      :  3.5327743640831506\nMean Squared  Error      :  54.9657611705825\nRoot Mean Squared  Error :  7.413889746319573\nR Squared Error          :  0.5484755578808167\n",
          "output_type": "stream"
        }
      ]
    },
    {
      "cell_type": "code",
      "source": [
        "import numpy as np\n",
        "import pandas as pd\n",
        "from sklearn.model_selection import train_test_split\n",
        "from sklearn.preprocessing import StandardScaler\n",
        "from tensorflow.keras.models import Sequential\n",
        "from tensorflow.keras.layers import Dense\n",
        "from tensorflow.keras.optimizers import Adam\n",
        "from sklearn import metrics\n",
        "\n",
        "\n",
        "scaler = StandardScaler()\n",
        "X_train = scaler.fit_transform(X_train)\n",
        "X_test = scaler.transform(X_test)\n",
        "\n",
        "# Define the neural network model\n",
        "model = Sequential()\n",
        "model.add(Dense(128, input_dim=X_train.shape[1], activation='relu'))\n",
        "model.add(Dense(64, activation='relu'))\n",
        "model.add(Dense(32, activation='relu'))\n",
        "model.add(Dense(1))  # Output layer for regression task\n",
        "\n",
        "\n",
        "model.compile(loss='mean_squared_error', optimizer=Adam(learning_rate=0.001), metrics=['mean_squared_error'])\n",
        "\n",
        "\n",
        "history = model.fit(X_train, y_train, epochs=100, batch_size=32, validation_split=0.2, verbose=1)\n",
        "\n",
        "\n",
        "y_pred = model.predict(X_test)\n",
        "\n",
        "train_loss = model.evaluate(X_train, y_train, verbose=0)\n",
        "test_loss = model.evaluate(X_test, y_test, verbose=0)\n",
        "\n",
        "print(\"Accuracy on Training set:\", 1 - train_loss[0])\n",
        "print(\"Accuracy on Testing set:\", 1 - test_loss[0])\n",
        "\n",
        "print(\"\\t\\tError Table\")\n",
        "print('Mean Absolute Error      : ', metrics.mean_absolute_error(y_test, y_pred))\n",
        "print('Mean Squared  Error      : ', metrics.mean_squared_error(y_test, y_pred))\n",
        "print('Root Mean Squared  Error : ', np.sqrt(metrics.mean_squared_error(y_test, y_pred)))\n",
        "print('R Squared Error          : ', metrics.r2_score(y_test, y_pred))\n"
      ],
      "metadata": {
        "execution": {
          "iopub.status.busy": "2024-06-10T11:50:22.245078Z",
          "iopub.execute_input": "2024-06-10T11:50:22.245415Z",
          "iopub.status.idle": "2024-06-10T11:50:52.120557Z",
          "shell.execute_reply.started": "2024-06-10T11:50:22.245388Z",
          "shell.execute_reply": "2024-06-10T11:50:52.119667Z"
        },
        "trusted": true,
        "id": "foSUToEcAqXP",
        "outputId": "832a65a3-f4f4-4d6d-d56d-04b9cf6ccb17"
      },
      "execution_count": null,
      "outputs": [
        {
          "name": "stdout",
          "text": "Epoch 1/100\n120/120 [==============================] - 0s 3ms/step - loss: 104.0837 - mean_squared_error: 104.0837 - val_loss: 48.8184 - val_mean_squared_error: 48.8184\nEpoch 2/100\n120/120 [==============================] - 0s 3ms/step - loss: 53.9535 - mean_squared_error: 53.9535 - val_loss: 43.7328 - val_mean_squared_error: 43.7328\nEpoch 3/100\n120/120 [==============================] - 0s 3ms/step - loss: 50.2971 - mean_squared_error: 50.2971 - val_loss: 41.9912 - val_mean_squared_error: 41.9912\nEpoch 4/100\n120/120 [==============================] - 0s 3ms/step - loss: 47.4953 - mean_squared_error: 47.4953 - val_loss: 43.5753 - val_mean_squared_error: 43.5753\nEpoch 5/100\n120/120 [==============================] - 0s 2ms/step - loss: 45.7281 - mean_squared_error: 45.7281 - val_loss: 41.8792 - val_mean_squared_error: 41.8792\nEpoch 6/100\n120/120 [==============================] - 0s 2ms/step - loss: 44.0839 - mean_squared_error: 44.0839 - val_loss: 43.4442 - val_mean_squared_error: 43.4442\nEpoch 7/100\n120/120 [==============================] - 0s 2ms/step - loss: 42.9976 - mean_squared_error: 42.9976 - val_loss: 43.8013 - val_mean_squared_error: 43.8013\nEpoch 8/100\n120/120 [==============================] - 0s 2ms/step - loss: 42.6770 - mean_squared_error: 42.6770 - val_loss: 43.2348 - val_mean_squared_error: 43.2348\nEpoch 9/100\n120/120 [==============================] - 0s 3ms/step - loss: 41.6597 - mean_squared_error: 41.6597 - val_loss: 45.0549 - val_mean_squared_error: 45.0549\nEpoch 10/100\n120/120 [==============================] - 0s 2ms/step - loss: 41.9700 - mean_squared_error: 41.9700 - val_loss: 44.2369 - val_mean_squared_error: 44.2369\nEpoch 11/100\n120/120 [==============================] - 0s 2ms/step - loss: 41.0123 - mean_squared_error: 41.0123 - val_loss: 45.6242 - val_mean_squared_error: 45.6242\nEpoch 12/100\n120/120 [==============================] - 0s 2ms/step - loss: 40.9737 - mean_squared_error: 40.9737 - val_loss: 46.0443 - val_mean_squared_error: 46.0443\nEpoch 13/100\n120/120 [==============================] - 0s 2ms/step - loss: 40.7685 - mean_squared_error: 40.7685 - val_loss: 43.7336 - val_mean_squared_error: 43.7336\nEpoch 14/100\n120/120 [==============================] - 0s 2ms/step - loss: 39.5611 - mean_squared_error: 39.5611 - val_loss: 45.8692 - val_mean_squared_error: 45.8692\nEpoch 15/100\n120/120 [==============================] - 0s 2ms/step - loss: 39.0823 - mean_squared_error: 39.0823 - val_loss: 43.9799 - val_mean_squared_error: 43.9799\nEpoch 16/100\n120/120 [==============================] - 0s 2ms/step - loss: 38.9047 - mean_squared_error: 38.9047 - val_loss: 44.1951 - val_mean_squared_error: 44.1951\nEpoch 17/100\n120/120 [==============================] - 0s 2ms/step - loss: 38.8805 - mean_squared_error: 38.8805 - val_loss: 44.4265 - val_mean_squared_error: 44.4265\nEpoch 18/100\n120/120 [==============================] - 0s 2ms/step - loss: 38.8457 - mean_squared_error: 38.8457 - val_loss: 43.4639 - val_mean_squared_error: 43.4639\nEpoch 19/100\n120/120 [==============================] - 0s 2ms/step - loss: 37.5082 - mean_squared_error: 37.5082 - val_loss: 45.0192 - val_mean_squared_error: 45.0192\nEpoch 20/100\n120/120 [==============================] - 0s 2ms/step - loss: 37.4193 - mean_squared_error: 37.4193 - val_loss: 45.0020 - val_mean_squared_error: 45.0020\nEpoch 21/100\n120/120 [==============================] - 0s 2ms/step - loss: 36.9406 - mean_squared_error: 36.9406 - val_loss: 42.2662 - val_mean_squared_error: 42.2662\nEpoch 22/100\n120/120 [==============================] - 0s 2ms/step - loss: 36.6506 - mean_squared_error: 36.6506 - val_loss: 44.1051 - val_mean_squared_error: 44.1051\nEpoch 23/100\n120/120 [==============================] - 0s 2ms/step - loss: 36.5299 - mean_squared_error: 36.5299 - val_loss: 41.5771 - val_mean_squared_error: 41.5771\nEpoch 24/100\n120/120 [==============================] - 0s 2ms/step - loss: 36.2373 - mean_squared_error: 36.2373 - val_loss: 43.3060 - val_mean_squared_error: 43.3060\nEpoch 25/100\n120/120 [==============================] - 0s 2ms/step - loss: 35.9534 - mean_squared_error: 35.9534 - val_loss: 44.5933 - val_mean_squared_error: 44.5933\nEpoch 26/100\n120/120 [==============================] - 0s 2ms/step - loss: 36.8442 - mean_squared_error: 36.8442 - val_loss: 44.2968 - val_mean_squared_error: 44.2968\nEpoch 27/100\n120/120 [==============================] - 0s 3ms/step - loss: 35.3998 - mean_squared_error: 35.3998 - val_loss: 45.2555 - val_mean_squared_error: 45.2555\nEpoch 28/100\n120/120 [==============================] - 0s 3ms/step - loss: 35.6493 - mean_squared_error: 35.6493 - val_loss: 43.7584 - val_mean_squared_error: 43.7584\nEpoch 29/100\n120/120 [==============================] - 0s 2ms/step - loss: 35.4031 - mean_squared_error: 35.4031 - val_loss: 42.7782 - val_mean_squared_error: 42.7782\nEpoch 30/100\n120/120 [==============================] - 0s 2ms/step - loss: 34.8809 - mean_squared_error: 34.8809 - val_loss: 42.2771 - val_mean_squared_error: 42.2771\nEpoch 31/100\n120/120 [==============================] - 0s 2ms/step - loss: 35.2884 - mean_squared_error: 35.2884 - val_loss: 42.0638 - val_mean_squared_error: 42.0638\nEpoch 32/100\n120/120 [==============================] - 0s 2ms/step - loss: 34.5966 - mean_squared_error: 34.5966 - val_loss: 43.1878 - val_mean_squared_error: 43.1878\nEpoch 33/100\n120/120 [==============================] - 0s 2ms/step - loss: 34.4635 - mean_squared_error: 34.4635 - val_loss: 40.2931 - val_mean_squared_error: 40.2931\nEpoch 34/100\n120/120 [==============================] - 0s 2ms/step - loss: 34.3967 - mean_squared_error: 34.3967 - val_loss: 42.7239 - val_mean_squared_error: 42.7239\nEpoch 35/100\n120/120 [==============================] - 0s 2ms/step - loss: 34.2979 - mean_squared_error: 34.2979 - val_loss: 42.3817 - val_mean_squared_error: 42.3817\nEpoch 36/100\n120/120 [==============================] - 0s 2ms/step - loss: 33.9851 - mean_squared_error: 33.9851 - val_loss: 44.7334 - val_mean_squared_error: 44.7334\nEpoch 37/100\n120/120 [==============================] - 0s 2ms/step - loss: 34.6180 - mean_squared_error: 34.6180 - val_loss: 43.5989 - val_mean_squared_error: 43.5989\nEpoch 38/100\n120/120 [==============================] - 0s 2ms/step - loss: 34.0971 - mean_squared_error: 34.0971 - val_loss: 42.2119 - val_mean_squared_error: 42.2119\nEpoch 39/100\n120/120 [==============================] - 0s 2ms/step - loss: 33.6387 - mean_squared_error: 33.6387 - val_loss: 42.1626 - val_mean_squared_error: 42.1626\nEpoch 40/100\n120/120 [==============================] - 0s 2ms/step - loss: 33.5719 - mean_squared_error: 33.5719 - val_loss: 45.0225 - val_mean_squared_error: 45.0225\nEpoch 41/100\n120/120 [==============================] - 0s 2ms/step - loss: 33.2578 - mean_squared_error: 33.2578 - val_loss: 42.8399 - val_mean_squared_error: 42.8399\nEpoch 42/100\n120/120 [==============================] - 0s 2ms/step - loss: 33.4127 - mean_squared_error: 33.4127 - val_loss: 42.0150 - val_mean_squared_error: 42.0150\nEpoch 43/100\n120/120 [==============================] - 0s 2ms/step - loss: 33.1044 - mean_squared_error: 33.1044 - val_loss: 43.2490 - val_mean_squared_error: 43.2490\nEpoch 44/100\n120/120 [==============================] - 0s 2ms/step - loss: 33.4772 - mean_squared_error: 33.4772 - val_loss: 40.9130 - val_mean_squared_error: 40.9130\nEpoch 45/100\n120/120 [==============================] - 0s 2ms/step - loss: 33.0821 - mean_squared_error: 33.0821 - val_loss: 43.7975 - val_mean_squared_error: 43.7975\nEpoch 46/100\n120/120 [==============================] - 0s 2ms/step - loss: 33.2567 - mean_squared_error: 33.2567 - val_loss: 44.6058 - val_mean_squared_error: 44.6058\nEpoch 47/100\n120/120 [==============================] - 0s 2ms/step - loss: 32.9277 - mean_squared_error: 32.9277 - val_loss: 42.4613 - val_mean_squared_error: 42.4613\nEpoch 48/100\n120/120 [==============================] - 0s 2ms/step - loss: 32.7203 - mean_squared_error: 32.7203 - val_loss: 40.9045 - val_mean_squared_error: 40.9045\nEpoch 49/100\n120/120 [==============================] - 0s 2ms/step - loss: 32.5146 - mean_squared_error: 32.5146 - val_loss: 40.3864 - val_mean_squared_error: 40.3864\nEpoch 50/100\n120/120 [==============================] - 0s 2ms/step - loss: 32.6989 - mean_squared_error: 32.6989 - val_loss: 42.5225 - val_mean_squared_error: 42.5225\nEpoch 51/100\n120/120 [==============================] - 0s 2ms/step - loss: 32.2015 - mean_squared_error: 32.2015 - val_loss: 42.5682 - val_mean_squared_error: 42.5682\nEpoch 52/100\n120/120 [==============================] - 0s 2ms/step - loss: 32.2490 - mean_squared_error: 32.2490 - val_loss: 42.4964 - val_mean_squared_error: 42.4964\nEpoch 53/100\n120/120 [==============================] - 0s 2ms/step - loss: 32.6356 - mean_squared_error: 32.6356 - val_loss: 41.7536 - val_mean_squared_error: 41.7536\nEpoch 54/100\n120/120 [==============================] - 0s 2ms/step - loss: 31.6701 - mean_squared_error: 31.6701 - val_loss: 40.8105 - val_mean_squared_error: 40.8105\nEpoch 55/100\n120/120 [==============================] - 0s 2ms/step - loss: 31.7446 - mean_squared_error: 31.7446 - val_loss: 42.5021 - val_mean_squared_error: 42.5021\nEpoch 56/100\n120/120 [==============================] - 0s 2ms/step - loss: 31.6783 - mean_squared_error: 31.6783 - val_loss: 41.3241 - val_mean_squared_error: 41.3241\nEpoch 57/100\n120/120 [==============================] - 0s 2ms/step - loss: 32.1909 - mean_squared_error: 32.1909 - val_loss: 43.5034 - val_mean_squared_error: 43.5034\nEpoch 58/100\n120/120 [==============================] - 0s 2ms/step - loss: 32.1922 - mean_squared_error: 32.1922 - val_loss: 42.2893 - val_mean_squared_error: 42.2893\nEpoch 59/100\n120/120 [==============================] - 0s 2ms/step - loss: 31.6705 - mean_squared_error: 31.6705 - val_loss: 41.9450 - val_mean_squared_error: 41.9450\nEpoch 60/100\n120/120 [==============================] - 0s 2ms/step - loss: 31.5539 - mean_squared_error: 31.5539 - val_loss: 42.2863 - val_mean_squared_error: 42.2863\nEpoch 61/100\n120/120 [==============================] - 0s 2ms/step - loss: 31.4062 - mean_squared_error: 31.4062 - val_loss: 43.3830 - val_mean_squared_error: 43.3830\nEpoch 62/100\n120/120 [==============================] - 0s 2ms/step - loss: 31.3091 - mean_squared_error: 31.3091 - val_loss: 42.5897 - val_mean_squared_error: 42.5897\nEpoch 63/100\n120/120 [==============================] - 0s 2ms/step - loss: 31.2325 - mean_squared_error: 31.2325 - val_loss: 41.3520 - val_mean_squared_error: 41.3520\nEpoch 64/100\n120/120 [==============================] - 0s 2ms/step - loss: 31.7822 - mean_squared_error: 31.7822 - val_loss: 42.9437 - val_mean_squared_error: 42.9437\nEpoch 65/100\n120/120 [==============================] - 0s 2ms/step - loss: 31.2265 - mean_squared_error: 31.2265 - val_loss: 41.3585 - val_mean_squared_error: 41.3585\nEpoch 66/100\n120/120 [==============================] - 0s 2ms/step - loss: 31.6193 - mean_squared_error: 31.6193 - val_loss: 41.3863 - val_mean_squared_error: 41.3863\nEpoch 67/100\n120/120 [==============================] - 0s 2ms/step - loss: 31.2402 - mean_squared_error: 31.2402 - val_loss: 43.3169 - val_mean_squared_error: 43.3169\nEpoch 68/100\n120/120 [==============================] - 0s 2ms/step - loss: 31.5741 - mean_squared_error: 31.5741 - val_loss: 44.2883 - val_mean_squared_error: 44.2883\nEpoch 69/100\n120/120 [==============================] - 0s 2ms/step - loss: 31.1109 - mean_squared_error: 31.1109 - val_loss: 41.9604 - val_mean_squared_error: 41.9604\nEpoch 70/100\n120/120 [==============================] - 0s 2ms/step - loss: 30.6801 - mean_squared_error: 30.6801 - val_loss: 41.1104 - val_mean_squared_error: 41.1104\nEpoch 71/100\n120/120 [==============================] - 0s 2ms/step - loss: 30.5939 - mean_squared_error: 30.5939 - val_loss: 43.1797 - val_mean_squared_error: 43.1797\nEpoch 72/100\n120/120 [==============================] - 0s 2ms/step - loss: 30.7520 - mean_squared_error: 30.7520 - val_loss: 42.6187 - val_mean_squared_error: 42.6187\nEpoch 73/100\n120/120 [==============================] - 0s 2ms/step - loss: 31.1450 - mean_squared_error: 31.1450 - val_loss: 41.7253 - val_mean_squared_error: 41.7253\nEpoch 74/100\n120/120 [==============================] - 0s 2ms/step - loss: 30.7883 - mean_squared_error: 30.7883 - val_loss: 44.6028 - val_mean_squared_error: 44.6028\nEpoch 75/100\n120/120 [==============================] - 0s 2ms/step - loss: 31.1414 - mean_squared_error: 31.1414 - val_loss: 40.9965 - val_mean_squared_error: 40.9965\nEpoch 76/100\n120/120 [==============================] - 0s 2ms/step - loss: 30.6304 - mean_squared_error: 30.6304 - val_loss: 42.7222 - val_mean_squared_error: 42.7222\nEpoch 77/100\n120/120 [==============================] - 0s 2ms/step - loss: 31.2782 - mean_squared_error: 31.2782 - val_loss: 42.2756 - val_mean_squared_error: 42.2756\nEpoch 78/100\n120/120 [==============================] - 0s 2ms/step - loss: 30.3163 - mean_squared_error: 30.3163 - val_loss: 42.6027 - val_mean_squared_error: 42.6027\nEpoch 79/100\n120/120 [==============================] - 0s 2ms/step - loss: 30.6770 - mean_squared_error: 30.6770 - val_loss: 45.4720 - val_mean_squared_error: 45.4720\nEpoch 80/100\n120/120 [==============================] - 0s 2ms/step - loss: 30.1201 - mean_squared_error: 30.1201 - val_loss: 43.7138 - val_mean_squared_error: 43.7138\nEpoch 81/100\n120/120 [==============================] - 0s 2ms/step - loss: 30.3096 - mean_squared_error: 30.3096 - val_loss: 43.5626 - val_mean_squared_error: 43.5626\nEpoch 82/100\n120/120 [==============================] - 0s 3ms/step - loss: 30.0359 - mean_squared_error: 30.0359 - val_loss: 42.8243 - val_mean_squared_error: 42.8243\nEpoch 83/100\n120/120 [==============================] - 0s 3ms/step - loss: 29.8926 - mean_squared_error: 29.8926 - val_loss: 41.6300 - val_mean_squared_error: 41.6300\nEpoch 84/100\n120/120 [==============================] - 0s 3ms/step - loss: 30.5967 - mean_squared_error: 30.5967 - val_loss: 41.7211 - val_mean_squared_error: 41.7211\nEpoch 85/100\n120/120 [==============================] - 0s 2ms/step - loss: 30.5232 - mean_squared_error: 30.5232 - val_loss: 41.3057 - val_mean_squared_error: 41.3057\nEpoch 86/100\n120/120 [==============================] - 0s 2ms/step - loss: 29.6022 - mean_squared_error: 29.6022 - val_loss: 42.2578 - val_mean_squared_error: 42.2578\nEpoch 87/100\n120/120 [==============================] - 0s 2ms/step - loss: 29.6284 - mean_squared_error: 29.6284 - val_loss: 43.3873 - val_mean_squared_error: 43.3873\nEpoch 88/100\n120/120 [==============================] - 0s 2ms/step - loss: 29.7670 - mean_squared_error: 29.7670 - val_loss: 42.2649 - val_mean_squared_error: 42.2649\nEpoch 89/100\n120/120 [==============================] - 0s 2ms/step - loss: 29.8777 - mean_squared_error: 29.8777 - val_loss: 42.1370 - val_mean_squared_error: 42.1370\nEpoch 90/100\n120/120 [==============================] - 0s 2ms/step - loss: 30.1021 - mean_squared_error: 30.1021 - val_loss: 42.6400 - val_mean_squared_error: 42.6400\nEpoch 91/100\n120/120 [==============================] - 0s 2ms/step - loss: 29.4133 - mean_squared_error: 29.4133 - val_loss: 41.5061 - val_mean_squared_error: 41.5061\nEpoch 92/100\n120/120 [==============================] - 0s 2ms/step - loss: 29.5765 - mean_squared_error: 29.5765 - val_loss: 41.7776 - val_mean_squared_error: 41.7776\nEpoch 93/100\n120/120 [==============================] - 0s 2ms/step - loss: 29.8438 - mean_squared_error: 29.8438 - val_loss: 43.5169 - val_mean_squared_error: 43.5169\nEpoch 94/100\n120/120 [==============================] - 0s 3ms/step - loss: 29.6748 - mean_squared_error: 29.6748 - val_loss: 42.1549 - val_mean_squared_error: 42.1549\nEpoch 95/100\n120/120 [==============================] - 0s 2ms/step - loss: 29.4573 - mean_squared_error: 29.4573 - val_loss: 45.1408 - val_mean_squared_error: 45.1408\nEpoch 96/100\n120/120 [==============================] - 0s 2ms/step - loss: 29.4541 - mean_squared_error: 29.4541 - val_loss: 42.7743 - val_mean_squared_error: 42.7743\nEpoch 97/100\n120/120 [==============================] - 0s 3ms/step - loss: 29.3948 - mean_squared_error: 29.3948 - val_loss: 44.7043 - val_mean_squared_error: 44.7043\nEpoch 98/100\n120/120 [==============================] - 0s 3ms/step - loss: 29.4232 - mean_squared_error: 29.4232 - val_loss: 43.1344 - val_mean_squared_error: 43.1344\nEpoch 99/100\n120/120 [==============================] - 0s 2ms/step - loss: 29.8244 - mean_squared_error: 29.8244 - val_loss: 41.9598 - val_mean_squared_error: 41.9598\nEpoch 100/100\n120/120 [==============================] - 0s 2ms/step - loss: 28.9114 - mean_squared_error: 28.9114 - val_loss: 42.2989 - val_mean_squared_error: 42.2989\nAccuracy on Training set: -29.42505645751953\nAccuracy on Testing set: -62.4615592956543\n\t\tError Table\nMean Absolute Error      :  3.5182681718800355\nMean Squared  Error      :  63.46156492475607\nRoot Mean Squared  Error :  7.966276729109783\nR Squared Error          :  0.5640678649553632\n",
          "output_type": "stream"
        }
      ]
    },
    {
      "cell_type": "code",
      "source": [
        "import numpy as np\n",
        "import pandas as pd\n",
        "from sklearn.model_selection import train_test_split\n",
        "from sklearn.preprocessing import StandardScaler\n",
        "from tensorflow.keras.models import Sequential\n",
        "from tensorflow.keras.layers import Dense\n",
        "from tensorflow.keras.optimizers import Adam\n",
        "from sklearn import metrics\n",
        "\n",
        "scaler = StandardScaler()\n",
        "X_train = scaler.fit_transform(X_train)\n",
        "X_test = scaler.transform(X_test)\n",
        "\n",
        "# Define the neural network model\n",
        "model = Sequential()\n",
        "model.add(Dense(128, input_dim=X_train.shape[1], activation='relu'))\n",
        "model.add(Dense(64, activation='relu'))\n",
        "model.add(Dense(32, activation='relu'))\n",
        "model.add(Dense(1))\n",
        "\n",
        "model.compile(loss='mean_squared_error', optimizer=Adam(learning_rate=0.001), metrics=['mean_squared_error'])\n",
        "\n",
        "\n",
        "history = model.fit(X_train, y_train, epochs=100, batch_size=32, validation_split=0.2, verbose=1)\n",
        "\n",
        "# Make predictions\n",
        "y_pred = model.predict(X_test)\n",
        "\n",
        "# Calculate R squared values for training and testing sets\n",
        "r2_train = metrics.r2_score(y_train, model.predict(X_train))\n",
        "r2_test = metrics.r2_score(y_test, y_pred)\n",
        "\n",
        "print(\"R Squared Error on Training set:\", r2_train)\n",
        "print(\"R Squared Error on Testing set:\", r2_test)\n",
        "\n",
        "# Print Error Table\n",
        "print(\"\\t\\tError Table\")\n",
        "print('Mean Absolute Error      : ', metrics.mean_absolute_error(y_test, y_pred))\n",
        "print('Mean Squared  Error      : ', metrics.mean_squared_error(y_test, y_pred))\n",
        "print('Root Mean Squared  Error : ', np.sqrt(metrics.mean_squared_error(y_test, y_pred)))\n",
        "print('R Squared Error          : ', r2_test)\n"
      ],
      "metadata": {
        "execution": {
          "iopub.status.busy": "2024-06-10T11:51:44.992515Z",
          "iopub.execute_input": "2024-06-10T11:51:44.992882Z",
          "iopub.status.idle": "2024-06-10T11:52:14.632087Z",
          "shell.execute_reply.started": "2024-06-10T11:51:44.992852Z",
          "shell.execute_reply": "2024-06-10T11:52:14.631292Z"
        },
        "trusted": true,
        "id": "3FR3u_Q_AqXP",
        "outputId": "9264a97e-aaae-4d50-a5ab-38f7b670f7c4"
      },
      "execution_count": null,
      "outputs": [
        {
          "name": "stdout",
          "text": "Epoch 1/100\n120/120 [==============================] - 0s 3ms/step - loss: 95.9546 - mean_squared_error: 95.9546 - val_loss: 48.5567 - val_mean_squared_error: 48.5567\nEpoch 2/100\n120/120 [==============================] - 0s 3ms/step - loss: 53.2771 - mean_squared_error: 53.2771 - val_loss: 44.0442 - val_mean_squared_error: 44.0442\nEpoch 3/100\n120/120 [==============================] - 0s 3ms/step - loss: 49.7601 - mean_squared_error: 49.7601 - val_loss: 43.8379 - val_mean_squared_error: 43.8379\nEpoch 4/100\n120/120 [==============================] - 0s 2ms/step - loss: 47.4963 - mean_squared_error: 47.4963 - val_loss: 42.0638 - val_mean_squared_error: 42.0638\nEpoch 5/100\n120/120 [==============================] - 0s 2ms/step - loss: 45.0398 - mean_squared_error: 45.0398 - val_loss: 44.6563 - val_mean_squared_error: 44.6563\nEpoch 6/100\n120/120 [==============================] - 0s 2ms/step - loss: 44.0713 - mean_squared_error: 44.0713 - val_loss: 42.1863 - val_mean_squared_error: 42.1863\nEpoch 7/100\n120/120 [==============================] - 0s 2ms/step - loss: 42.4384 - mean_squared_error: 42.4384 - val_loss: 43.6685 - val_mean_squared_error: 43.6685\nEpoch 8/100\n120/120 [==============================] - 0s 3ms/step - loss: 41.7781 - mean_squared_error: 41.7781 - val_loss: 43.2468 - val_mean_squared_error: 43.2468\nEpoch 9/100\n120/120 [==============================] - 0s 3ms/step - loss: 42.1606 - mean_squared_error: 42.1606 - val_loss: 43.1958 - val_mean_squared_error: 43.1958\nEpoch 10/100\n120/120 [==============================] - 0s 3ms/step - loss: 40.8606 - mean_squared_error: 40.8606 - val_loss: 43.5506 - val_mean_squared_error: 43.5506\nEpoch 11/100\n120/120 [==============================] - 0s 2ms/step - loss: 40.2169 - mean_squared_error: 40.2169 - val_loss: 42.3823 - val_mean_squared_error: 42.3823\nEpoch 12/100\n120/120 [==============================] - 0s 2ms/step - loss: 39.4528 - mean_squared_error: 39.4528 - val_loss: 45.6889 - val_mean_squared_error: 45.6889\nEpoch 13/100\n120/120 [==============================] - 0s 2ms/step - loss: 39.5083 - mean_squared_error: 39.5083 - val_loss: 44.4942 - val_mean_squared_error: 44.4942\nEpoch 14/100\n120/120 [==============================] - 0s 2ms/step - loss: 39.1877 - mean_squared_error: 39.1877 - val_loss: 43.6741 - val_mean_squared_error: 43.6741\nEpoch 15/100\n120/120 [==============================] - 0s 2ms/step - loss: 38.2265 - mean_squared_error: 38.2265 - val_loss: 42.5994 - val_mean_squared_error: 42.5994\nEpoch 16/100\n120/120 [==============================] - 0s 2ms/step - loss: 38.4332 - mean_squared_error: 38.4332 - val_loss: 43.8340 - val_mean_squared_error: 43.8340\nEpoch 17/100\n120/120 [==============================] - 0s 2ms/step - loss: 38.2167 - mean_squared_error: 38.2167 - val_loss: 44.4405 - val_mean_squared_error: 44.4405\nEpoch 18/100\n120/120 [==============================] - 0s 3ms/step - loss: 37.5468 - mean_squared_error: 37.5468 - val_loss: 44.0986 - val_mean_squared_error: 44.0986\nEpoch 19/100\n120/120 [==============================] - 0s 2ms/step - loss: 37.6841 - mean_squared_error: 37.6841 - val_loss: 43.5624 - val_mean_squared_error: 43.5624\nEpoch 20/100\n120/120 [==============================] - 0s 2ms/step - loss: 36.7322 - mean_squared_error: 36.7322 - val_loss: 47.4962 - val_mean_squared_error: 47.4962\nEpoch 21/100\n120/120 [==============================] - 0s 2ms/step - loss: 36.9320 - mean_squared_error: 36.9320 - val_loss: 44.2402 - val_mean_squared_error: 44.2402\nEpoch 22/100\n120/120 [==============================] - 0s 2ms/step - loss: 36.5169 - mean_squared_error: 36.5169 - val_loss: 44.9010 - val_mean_squared_error: 44.9010\nEpoch 23/100\n120/120 [==============================] - 0s 2ms/step - loss: 36.4870 - mean_squared_error: 36.4870 - val_loss: 43.1213 - val_mean_squared_error: 43.1213\nEpoch 24/100\n120/120 [==============================] - 0s 2ms/step - loss: 36.1306 - mean_squared_error: 36.1306 - val_loss: 44.5367 - val_mean_squared_error: 44.5367\nEpoch 25/100\n120/120 [==============================] - 0s 2ms/step - loss: 35.8236 - mean_squared_error: 35.8236 - val_loss: 44.9608 - val_mean_squared_error: 44.9608\nEpoch 26/100\n120/120 [==============================] - 0s 2ms/step - loss: 36.1564 - mean_squared_error: 36.1564 - val_loss: 42.2366 - val_mean_squared_error: 42.2366\nEpoch 27/100\n120/120 [==============================] - 0s 2ms/step - loss: 35.4902 - mean_squared_error: 35.4902 - val_loss: 41.8228 - val_mean_squared_error: 41.8228\nEpoch 28/100\n120/120 [==============================] - 0s 2ms/step - loss: 35.2189 - mean_squared_error: 35.2189 - val_loss: 43.9170 - val_mean_squared_error: 43.9170\nEpoch 29/100\n120/120 [==============================] - 0s 2ms/step - loss: 34.9108 - mean_squared_error: 34.9108 - val_loss: 42.2943 - val_mean_squared_error: 42.2943\nEpoch 30/100\n120/120 [==============================] - 0s 2ms/step - loss: 35.1285 - mean_squared_error: 35.1285 - val_loss: 40.7276 - val_mean_squared_error: 40.7276\nEpoch 31/100\n120/120 [==============================] - 0s 2ms/step - loss: 34.8609 - mean_squared_error: 34.8609 - val_loss: 43.2524 - val_mean_squared_error: 43.2524\nEpoch 32/100\n120/120 [==============================] - 0s 2ms/step - loss: 34.8398 - mean_squared_error: 34.8398 - val_loss: 42.3233 - val_mean_squared_error: 42.3233\nEpoch 33/100\n120/120 [==============================] - 0s 2ms/step - loss: 34.7975 - mean_squared_error: 34.7975 - val_loss: 42.4976 - val_mean_squared_error: 42.4976\nEpoch 34/100\n120/120 [==============================] - 0s 2ms/step - loss: 34.4740 - mean_squared_error: 34.4740 - val_loss: 41.7469 - val_mean_squared_error: 41.7469\nEpoch 35/100\n120/120 [==============================] - 0s 2ms/step - loss: 34.4240 - mean_squared_error: 34.4240 - val_loss: 43.5861 - val_mean_squared_error: 43.5861\nEpoch 36/100\n120/120 [==============================] - 0s 2ms/step - loss: 33.9914 - mean_squared_error: 33.9914 - val_loss: 43.1238 - val_mean_squared_error: 43.1238\nEpoch 37/100\n120/120 [==============================] - 0s 2ms/step - loss: 33.9546 - mean_squared_error: 33.9546 - val_loss: 41.8366 - val_mean_squared_error: 41.8366\nEpoch 38/100\n120/120 [==============================] - 0s 3ms/step - loss: 33.4811 - mean_squared_error: 33.4811 - val_loss: 42.2332 - val_mean_squared_error: 42.2332\nEpoch 39/100\n120/120 [==============================] - 0s 3ms/step - loss: 33.6772 - mean_squared_error: 33.6772 - val_loss: 44.3666 - val_mean_squared_error: 44.3666\nEpoch 40/100\n120/120 [==============================] - 0s 3ms/step - loss: 33.8975 - mean_squared_error: 33.8975 - val_loss: 44.5101 - val_mean_squared_error: 44.5101\nEpoch 41/100\n120/120 [==============================] - 0s 3ms/step - loss: 33.6723 - mean_squared_error: 33.6723 - val_loss: 42.7704 - val_mean_squared_error: 42.7704\nEpoch 42/100\n120/120 [==============================] - 0s 2ms/step - loss: 33.0968 - mean_squared_error: 33.0968 - val_loss: 43.4300 - val_mean_squared_error: 43.4300\nEpoch 43/100\n120/120 [==============================] - 0s 2ms/step - loss: 33.8896 - mean_squared_error: 33.8896 - val_loss: 43.9176 - val_mean_squared_error: 43.9176\nEpoch 44/100\n120/120 [==============================] - 0s 2ms/step - loss: 34.0462 - mean_squared_error: 34.0462 - val_loss: 42.6739 - val_mean_squared_error: 42.6739\nEpoch 45/100\n120/120 [==============================] - 0s 2ms/step - loss: 33.0650 - mean_squared_error: 33.0650 - val_loss: 44.0330 - val_mean_squared_error: 44.0330\nEpoch 46/100\n120/120 [==============================] - 0s 2ms/step - loss: 33.0980 - mean_squared_error: 33.0980 - val_loss: 45.6731 - val_mean_squared_error: 45.6731\nEpoch 47/100\n120/120 [==============================] - 0s 2ms/step - loss: 33.0889 - mean_squared_error: 33.0889 - val_loss: 43.0975 - val_mean_squared_error: 43.0975\nEpoch 48/100\n120/120 [==============================] - 0s 2ms/step - loss: 32.6966 - mean_squared_error: 32.6966 - val_loss: 40.9569 - val_mean_squared_error: 40.9569\nEpoch 49/100\n120/120 [==============================] - 0s 2ms/step - loss: 32.1726 - mean_squared_error: 32.1726 - val_loss: 41.9055 - val_mean_squared_error: 41.9055\nEpoch 50/100\n120/120 [==============================] - 0s 2ms/step - loss: 32.9568 - mean_squared_error: 32.9568 - val_loss: 41.8270 - val_mean_squared_error: 41.8270\nEpoch 51/100\n120/120 [==============================] - 0s 2ms/step - loss: 32.5219 - mean_squared_error: 32.5219 - val_loss: 44.0915 - val_mean_squared_error: 44.0915\nEpoch 52/100\n120/120 [==============================] - 0s 2ms/step - loss: 32.1548 - mean_squared_error: 32.1548 - val_loss: 44.8547 - val_mean_squared_error: 44.8547\nEpoch 53/100\n120/120 [==============================] - 0s 2ms/step - loss: 31.9068 - mean_squared_error: 31.9068 - val_loss: 43.8012 - val_mean_squared_error: 43.8012\nEpoch 54/100\n120/120 [==============================] - 0s 2ms/step - loss: 32.5428 - mean_squared_error: 32.5428 - val_loss: 43.1696 - val_mean_squared_error: 43.1696\nEpoch 55/100\n120/120 [==============================] - 0s 2ms/step - loss: 32.0986 - mean_squared_error: 32.0986 - val_loss: 42.2810 - val_mean_squared_error: 42.2810\nEpoch 56/100\n120/120 [==============================] - 0s 2ms/step - loss: 31.5746 - mean_squared_error: 31.5746 - val_loss: 43.5618 - val_mean_squared_error: 43.5618\nEpoch 57/100\n120/120 [==============================] - 0s 2ms/step - loss: 32.1941 - mean_squared_error: 32.1941 - val_loss: 46.2086 - val_mean_squared_error: 46.2086\nEpoch 58/100\n120/120 [==============================] - 0s 2ms/step - loss: 31.7392 - mean_squared_error: 31.7392 - val_loss: 43.1578 - val_mean_squared_error: 43.1578\nEpoch 59/100\n120/120 [==============================] - 0s 2ms/step - loss: 31.8532 - mean_squared_error: 31.8532 - val_loss: 42.5789 - val_mean_squared_error: 42.5789\nEpoch 60/100\n120/120 [==============================] - 0s 2ms/step - loss: 31.6365 - mean_squared_error: 31.6365 - val_loss: 43.0526 - val_mean_squared_error: 43.0526\nEpoch 61/100\n120/120 [==============================] - 0s 2ms/step - loss: 32.0810 - mean_squared_error: 32.0810 - val_loss: 43.6274 - val_mean_squared_error: 43.6274\nEpoch 62/100\n120/120 [==============================] - 0s 2ms/step - loss: 31.7833 - mean_squared_error: 31.7833 - val_loss: 42.7846 - val_mean_squared_error: 42.7846\nEpoch 63/100\n120/120 [==============================] - 0s 2ms/step - loss: 31.6975 - mean_squared_error: 31.6975 - val_loss: 41.2610 - val_mean_squared_error: 41.2610\nEpoch 64/100\n120/120 [==============================] - 0s 2ms/step - loss: 31.6469 - mean_squared_error: 31.6469 - val_loss: 42.2991 - val_mean_squared_error: 42.2991\nEpoch 65/100\n120/120 [==============================] - 0s 2ms/step - loss: 31.6384 - mean_squared_error: 31.6384 - val_loss: 41.9227 - val_mean_squared_error: 41.9227\nEpoch 66/100\n120/120 [==============================] - 0s 2ms/step - loss: 31.4459 - mean_squared_error: 31.4459 - val_loss: 41.5341 - val_mean_squared_error: 41.5341\nEpoch 67/100\n120/120 [==============================] - 0s 2ms/step - loss: 31.1211 - mean_squared_error: 31.1211 - val_loss: 43.1124 - val_mean_squared_error: 43.1124\nEpoch 68/100\n120/120 [==============================] - 0s 2ms/step - loss: 31.4541 - mean_squared_error: 31.4541 - val_loss: 42.4901 - val_mean_squared_error: 42.4901\nEpoch 69/100\n120/120 [==============================] - 0s 2ms/step - loss: 30.7794 - mean_squared_error: 30.7794 - val_loss: 41.7688 - val_mean_squared_error: 41.7688\nEpoch 70/100\n120/120 [==============================] - 0s 2ms/step - loss: 30.7249 - mean_squared_error: 30.7249 - val_loss: 44.4003 - val_mean_squared_error: 44.4003\nEpoch 71/100\n120/120 [==============================] - 0s 2ms/step - loss: 31.2969 - mean_squared_error: 31.2969 - val_loss: 41.3279 - val_mean_squared_error: 41.3279\nEpoch 72/100\n120/120 [==============================] - 0s 2ms/step - loss: 30.5946 - mean_squared_error: 30.5946 - val_loss: 43.7750 - val_mean_squared_error: 43.7750\nEpoch 73/100\n120/120 [==============================] - 0s 2ms/step - loss: 30.9401 - mean_squared_error: 30.9401 - val_loss: 41.4890 - val_mean_squared_error: 41.4890\nEpoch 74/100\n120/120 [==============================] - 0s 2ms/step - loss: 30.8930 - mean_squared_error: 30.8930 - val_loss: 43.1949 - val_mean_squared_error: 43.1949\nEpoch 75/100\n120/120 [==============================] - 0s 2ms/step - loss: 30.8252 - mean_squared_error: 30.8252 - val_loss: 43.4490 - val_mean_squared_error: 43.4490\nEpoch 76/100\n120/120 [==============================] - 0s 2ms/step - loss: 30.4996 - mean_squared_error: 30.4996 - val_loss: 41.9410 - val_mean_squared_error: 41.9410\nEpoch 77/100\n120/120 [==============================] - 0s 2ms/step - loss: 31.0636 - mean_squared_error: 31.0636 - val_loss: 42.6548 - val_mean_squared_error: 42.6548\nEpoch 78/100\n120/120 [==============================] - 0s 2ms/step - loss: 30.4160 - mean_squared_error: 30.4160 - val_loss: 42.7682 - val_mean_squared_error: 42.7682\nEpoch 79/100\n120/120 [==============================] - 0s 2ms/step - loss: 30.2313 - mean_squared_error: 30.2313 - val_loss: 43.7156 - val_mean_squared_error: 43.7156\nEpoch 80/100\n120/120 [==============================] - 0s 2ms/step - loss: 30.6726 - mean_squared_error: 30.6726 - val_loss: 44.7937 - val_mean_squared_error: 44.7937\nEpoch 81/100\n120/120 [==============================] - 0s 2ms/step - loss: 30.0663 - mean_squared_error: 30.0663 - val_loss: 43.8188 - val_mean_squared_error: 43.8188\nEpoch 82/100\n120/120 [==============================] - 0s 2ms/step - loss: 30.8696 - mean_squared_error: 30.8696 - val_loss: 42.9827 - val_mean_squared_error: 42.9827\nEpoch 83/100\n120/120 [==============================] - 0s 2ms/step - loss: 30.5025 - mean_squared_error: 30.5025 - val_loss: 42.8649 - val_mean_squared_error: 42.8649\nEpoch 84/100\n120/120 [==============================] - 0s 2ms/step - loss: 29.9237 - mean_squared_error: 29.9237 - val_loss: 42.0109 - val_mean_squared_error: 42.0109\nEpoch 85/100\n120/120 [==============================] - 0s 2ms/step - loss: 30.1336 - mean_squared_error: 30.1336 - val_loss: 43.0119 - val_mean_squared_error: 43.0119\nEpoch 86/100\n120/120 [==============================] - 0s 2ms/step - loss: 29.9741 - mean_squared_error: 29.9741 - val_loss: 42.1347 - val_mean_squared_error: 42.1347\nEpoch 87/100\n120/120 [==============================] - 0s 2ms/step - loss: 30.0244 - mean_squared_error: 30.0244 - val_loss: 41.9442 - val_mean_squared_error: 41.9442\nEpoch 88/100\n120/120 [==============================] - 0s 3ms/step - loss: 30.3016 - mean_squared_error: 30.3016 - val_loss: 41.2736 - val_mean_squared_error: 41.2736\nEpoch 89/100\n120/120 [==============================] - 0s 2ms/step - loss: 29.6151 - mean_squared_error: 29.6151 - val_loss: 42.1828 - val_mean_squared_error: 42.1828\nEpoch 90/100\n120/120 [==============================] - 0s 2ms/step - loss: 29.6363 - mean_squared_error: 29.6363 - val_loss: 41.6923 - val_mean_squared_error: 41.6923\nEpoch 91/100\n120/120 [==============================] - 0s 2ms/step - loss: 29.8686 - mean_squared_error: 29.8686 - val_loss: 42.6968 - val_mean_squared_error: 42.6968\nEpoch 92/100\n120/120 [==============================] - 0s 2ms/step - loss: 29.4163 - mean_squared_error: 29.4163 - val_loss: 42.6473 - val_mean_squared_error: 42.6473\nEpoch 93/100\n120/120 [==============================] - 0s 2ms/step - loss: 30.0161 - mean_squared_error: 30.0161 - val_loss: 42.9003 - val_mean_squared_error: 42.9003\nEpoch 94/100\n120/120 [==============================] - 0s 2ms/step - loss: 29.1936 - mean_squared_error: 29.1936 - val_loss: 43.4602 - val_mean_squared_error: 43.4602\nEpoch 95/100\n120/120 [==============================] - 0s 2ms/step - loss: 30.0109 - mean_squared_error: 30.0109 - val_loss: 42.6768 - val_mean_squared_error: 42.6768\nEpoch 96/100\n120/120 [==============================] - 0s 2ms/step - loss: 29.4364 - mean_squared_error: 29.4364 - val_loss: 43.4121 - val_mean_squared_error: 43.4121\nEpoch 97/100\n120/120 [==============================] - 0s 2ms/step - loss: 29.1659 - mean_squared_error: 29.1659 - val_loss: 43.3223 - val_mean_squared_error: 43.3223\nEpoch 98/100\n120/120 [==============================] - 0s 2ms/step - loss: 29.3218 - mean_squared_error: 29.3218 - val_loss: 42.2433 - val_mean_squared_error: 42.2433\nEpoch 99/100\n120/120 [==============================] - 0s 2ms/step - loss: 29.4423 - mean_squared_error: 29.4423 - val_loss: 42.1568 - val_mean_squared_error: 42.1568\nEpoch 100/100\n120/120 [==============================] - 0s 2ms/step - loss: 29.1261 - mean_squared_error: 29.1261 - val_loss: 42.4890 - val_mean_squared_error: 42.4890\nR Squared Error on Training set: 0.7486931814969767\nR Squared Error on Testing set: 0.536788866591301\n\t\tError Table\nMean Absolute Error      :  3.562017219884625\nMean Squared  Error      :  67.43275169121453\nRoot Mean Squared  Error :  8.211744740992291\nR Squared Error          :  0.536788866591301\n",
          "output_type": "stream"
        }
      ]
    }
  ]
}